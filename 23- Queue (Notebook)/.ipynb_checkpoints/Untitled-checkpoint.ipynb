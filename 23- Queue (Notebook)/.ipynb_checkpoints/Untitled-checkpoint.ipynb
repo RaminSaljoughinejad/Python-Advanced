{
 "cells": [
  {
   "cell_type": "markdown",
   "id": "570db9f6",
   "metadata": {},
   "source": [
    "###### Exp1:"
   ]
  },
  {
   "cell_type": "code",
   "execution_count": 1,
   "id": "68001c57",
   "metadata": {},
   "outputs": [],
   "source": [
    "my_que = []\n",
    "my_que.insert(0,5)\n",
    "my_que.insert(0,9)\n",
    "my_que.insert(0,1)"
   ]
  },
  {
   "cell_type": "code",
   "execution_count": 2,
   "id": "dd46706e",
   "metadata": {},
   "outputs": [
    {
     "data": {
      "text/plain": [
       "[1, 9, 5]"
      ]
     },
     "execution_count": 2,
     "metadata": {},
     "output_type": "execute_result"
    }
   ],
   "source": [
    "my_que"
   ]
  },
  {
   "cell_type": "code",
   "execution_count": 3,
   "id": "402df127",
   "metadata": {},
   "outputs": [
    {
     "data": {
      "text/plain": [
       "5"
      ]
     },
     "execution_count": 3,
     "metadata": {},
     "output_type": "execute_result"
    }
   ],
   "source": [
    "my_que.pop()"
   ]
  },
  {
   "cell_type": "code",
   "execution_count": 4,
   "id": "64e61528",
   "metadata": {},
   "outputs": [
    {
     "data": {
      "text/plain": [
       "[1, 9]"
      ]
     },
     "execution_count": 4,
     "metadata": {},
     "output_type": "execute_result"
    }
   ],
   "source": [
    "my_que"
   ]
  },
  {
   "cell_type": "markdown",
   "id": "693efcec",
   "metadata": {},
   "source": [
    "###### Exp2:"
   ]
  },
  {
   "cell_type": "code",
   "execution_count": 5,
   "id": "00aa5baa",
   "metadata": {},
   "outputs": [],
   "source": [
    "from collections import deque"
   ]
  },
  {
   "cell_type": "code",
   "execution_count": 6,
   "id": "aa624bc9",
   "metadata": {},
   "outputs": [],
   "source": [
    "my_que = deque()"
   ]
  },
  {
   "cell_type": "code",
   "execution_count": 7,
   "id": "d20196c5",
   "metadata": {},
   "outputs": [],
   "source": [
    "my_que.appendleft(5)\n",
    "my_que.appendleft(0)\n",
    "my_que.appendleft(1)"
   ]
  },
  {
   "cell_type": "code",
   "execution_count": 8,
   "id": "8e43360a",
   "metadata": {},
   "outputs": [
    {
     "data": {
      "text/plain": [
       "deque([1, 0, 5])"
      ]
     },
     "execution_count": 8,
     "metadata": {},
     "output_type": "execute_result"
    }
   ],
   "source": [
    "my_que"
   ]
  },
  {
   "cell_type": "code",
   "execution_count": 9,
   "id": "75c6e4fe",
   "metadata": {},
   "outputs": [
    {
     "data": {
      "text/plain": [
       "5"
      ]
     },
     "execution_count": 9,
     "metadata": {},
     "output_type": "execute_result"
    }
   ],
   "source": [
    "my_que.pop()"
   ]
  },
  {
   "cell_type": "code",
   "execution_count": 10,
   "id": "693cde65",
   "metadata": {},
   "outputs": [
    {
     "data": {
      "text/plain": [
       "deque([1, 0])"
      ]
     },
     "execution_count": 10,
     "metadata": {},
     "output_type": "execute_result"
    }
   ],
   "source": [
    "my_que"
   ]
  },
  {
   "cell_type": "markdown",
   "id": "d934e300",
   "metadata": {},
   "source": [
    "###### Exp3:"
   ]
  },
  {
   "cell_type": "code",
   "execution_count": 11,
   "id": "d4a6ae6a",
   "metadata": {},
   "outputs": [],
   "source": [
    "class C_queue:\n",
    "    def __init__(self):\n",
    "        self.container = deque()\n",
    "        \n",
    "    def enqueue(self,val):\n",
    "        self.container.appendleft(val)\n",
    "    def dequeue(self):\n",
    "        return self.container.pop()\n",
    "    def isempty(self):\n",
    "        if len(self.container):\n",
    "            return True\n",
    "        else:\n",
    "            return False\n",
    "    def __len__(self):\n",
    "        return len(self.container)\n",
    "    \n",
    "    def __repr__(self):\n",
    "        return f\"{self.container}\""
   ]
  },
  {
   "cell_type": "code",
   "execution_count": 12,
   "id": "a826424e",
   "metadata": {},
   "outputs": [],
   "source": [
    "my_que = C_queue()"
   ]
  },
  {
   "cell_type": "code",
   "execution_count": 13,
   "id": "e130cc8a",
   "metadata": {},
   "outputs": [],
   "source": [
    "my_que.enqueue(5)\n",
    "my_que.enqueue(8)\n",
    "my_que.enqueue(0)"
   ]
  },
  {
   "cell_type": "code",
   "execution_count": 14,
   "id": "23726dfc",
   "metadata": {},
   "outputs": [
    {
     "data": {
      "text/plain": [
       "deque([0, 8, 5])"
      ]
     },
     "execution_count": 14,
     "metadata": {},
     "output_type": "execute_result"
    }
   ],
   "source": [
    "my_que"
   ]
  },
  {
   "cell_type": "code",
   "execution_count": 15,
   "id": "fae01a8a",
   "metadata": {},
   "outputs": [
    {
     "data": {
      "text/plain": [
       "5"
      ]
     },
     "execution_count": 15,
     "metadata": {},
     "output_type": "execute_result"
    }
   ],
   "source": [
    "my_que.dequeue()"
   ]
  },
  {
   "cell_type": "code",
   "execution_count": 16,
   "id": "afa9bae6",
   "metadata": {},
   "outputs": [
    {
     "data": {
      "text/plain": [
       "deque([0, 8])"
      ]
     },
     "execution_count": 16,
     "metadata": {},
     "output_type": "execute_result"
    }
   ],
   "source": [
    "my_que"
   ]
  }
 ],
 "metadata": {
  "kernelspec": {
   "display_name": "Python 3 (ipykernel)",
   "language": "python",
   "name": "python3"
  },
  "language_info": {
   "codemirror_mode": {
    "name": "ipython",
    "version": 3
   },
   "file_extension": ".py",
   "mimetype": "text/x-python",
   "name": "python",
   "nbconvert_exporter": "python",
   "pygments_lexer": "ipython3",
   "version": "3.9.12"
  }
 },
 "nbformat": 4,
 "nbformat_minor": 5
}
