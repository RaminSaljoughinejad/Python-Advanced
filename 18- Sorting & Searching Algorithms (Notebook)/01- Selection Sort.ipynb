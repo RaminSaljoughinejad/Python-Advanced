{
 "cells": [
  {
   "cell_type": "markdown",
   "id": "banner-vintage",
   "metadata": {},
   "source": [
    "## Selection Sort -> O(n<sup>2</sup>)"
   ]
  },
  {
   "cell_type": "code",
   "execution_count": 1,
   "id": "technological-carbon",
   "metadata": {},
   "outputs": [],
   "source": [
    "from random import randint as rnd"
   ]
  },
  {
   "cell_type": "code",
   "execution_count": 2,
   "id": "opposed-square",
   "metadata": {},
   "outputs": [
    {
     "name": "stdout",
     "output_type": "stream",
     "text": [
      "[8, 3, 9, 4, 6, 7, 1, 5, 2, 2]\n"
     ]
    }
   ],
   "source": [
    "length = 10\n",
    "_list = [rnd(1,length) for i in range(length)]\n",
    "print(_list)"
   ]
  },
  {
   "cell_type": "code",
   "execution_count": 3,
   "id": "micro-harvest",
   "metadata": {},
   "outputs": [],
   "source": [
    "def selection_sort(_list):\n",
    "    for i in range(len(_list)):\n",
    "        min_index = i\n",
    "        for j in range(i+1, len(_list)):\n",
    "            if _list[j] < _list[min_index]:\n",
    "                min_index = j\n",
    "        _list[i], _list[min_index] = _list[min_index], _list[i]\n",
    "    return _list"
   ]
  },
  {
   "cell_type": "code",
   "execution_count": 4,
   "id": "dirty-hunger",
   "metadata": {},
   "outputs": [
    {
     "name": "stdout",
     "output_type": "stream",
     "text": [
      "[1, 2, 2, 3, 4, 5, 6, 7, 8, 9]\n"
     ]
    }
   ],
   "source": [
    "print(selection_sort(_list))"
   ]
  }
 ],
 "metadata": {
  "kernelspec": {
   "display_name": "Python 3",
   "language": "python",
   "name": "python3"
  },
  "language_info": {
   "codemirror_mode": {
    "name": "ipython",
    "version": 3
   },
   "file_extension": ".py",
   "mimetype": "text/x-python",
   "name": "python",
   "nbconvert_exporter": "python",
   "pygments_lexer": "ipython3",
   "version": "3.7.6"
  }
 },
 "nbformat": 4,
 "nbformat_minor": 5
}
