{
 "cells": [
  {
   "cell_type": "markdown",
   "id": "judicial-scotland",
   "metadata": {},
   "source": [
    "## Insertion Sort -> O(n<sup>2</sup>)"
   ]
  },
  {
   "cell_type": "markdown",
   "id": "negative-scout",
   "metadata": {},
   "source": [
    "###### Exp1:"
   ]
  },
  {
   "cell_type": "code",
   "execution_count": 1,
   "id": "chronic-modeling",
   "metadata": {},
   "outputs": [],
   "source": [
    "from random import randint as rnd"
   ]
  },
  {
   "cell_type": "code",
   "execution_count": 2,
   "id": "editorial-diameter",
   "metadata": {},
   "outputs": [
    {
     "name": "stdout",
     "output_type": "stream",
     "text": [
      "[10, 4, 10, 8, 4, 9, 1, 3, 6, 4]\n"
     ]
    }
   ],
   "source": [
    "length = 10\n",
    "_list = [rnd(1,length) for i in range(length)]\n",
    "print(_list)"
   ]
  },
  {
   "cell_type": "code",
   "execution_count": 3,
   "id": "preliminary-sculpture",
   "metadata": {},
   "outputs": [],
   "source": [
    "def insertion_sort(_list):\n",
    "    new_list = []\n",
    "    for i in _list:\n",
    "        for j in range(len(new_list)):\n",
    "            if new_list[j]>i:\n",
    "                new_list.insert(j,i)\n",
    "                break\n",
    "        else:\n",
    "            new_list.append(i)\n",
    "    return new_list"
   ]
  },
  {
   "cell_type": "code",
   "execution_count": 4,
   "id": "federal-heaven",
   "metadata": {},
   "outputs": [
    {
     "name": "stdout",
     "output_type": "stream",
     "text": [
      "[1, 3, 4, 4, 4, 6, 8, 9, 10, 10]\n"
     ]
    }
   ],
   "source": [
    "print(insertion_sort(_list))"
   ]
  },
  {
   "cell_type": "markdown",
   "id": "empirical-soundtrack",
   "metadata": {},
   "source": [
    "###### Exp2:"
   ]
  },
  {
   "cell_type": "code",
   "execution_count": 5,
   "id": "advance-powder",
   "metadata": {},
   "outputs": [],
   "source": [
    "def insertion_sort(_list):\n",
    "    for i in range(len(_list)):\n",
    "        for j in range(i):\n",
    "            if _list[i]<_list[j]:\n",
    "                temp = _list.pop(i)\n",
    "                _list.insert(j,temp)\n",
    "                break\n",
    "    return _list"
   ]
  },
  {
   "cell_type": "code",
   "execution_count": 6,
   "id": "modern-brooks",
   "metadata": {},
   "outputs": [
    {
     "name": "stdout",
     "output_type": "stream",
     "text": [
      "[1, 3, 4, 4, 4, 6, 8, 9, 10, 10]\n"
     ]
    }
   ],
   "source": [
    "print(insertion_sort(_list))"
   ]
  },
  {
   "cell_type": "markdown",
   "id": "beautiful-exemption",
   "metadata": {},
   "source": [
    "###### Exp3: Copilot-Code"
   ]
  },
  {
   "cell_type": "code",
   "execution_count": 7,
   "id": "saving-intellectual",
   "metadata": {},
   "outputs": [],
   "source": [
    "def insertion_sort(_list):\n",
    "    for i in range(1, len(_list)):\n",
    "        j = i\n",
    "        while j > 0 and _list[j] < _list[j-1]:\n",
    "            _list[j], _list[j-1] = _list[j-1], _list[j]\n",
    "            j -= 1\n",
    "    return _list"
   ]
  },
  {
   "cell_type": "code",
   "execution_count": 8,
   "id": "minus-arthritis",
   "metadata": {},
   "outputs": [
    {
     "name": "stdout",
     "output_type": "stream",
     "text": [
      "[1, 3, 4, 4, 4, 6, 8, 9, 10, 10]\n"
     ]
    }
   ],
   "source": [
    "print(insertion_sort(_list))"
   ]
  }
 ],
 "metadata": {
  "kernelspec": {
   "display_name": "Python 3",
   "language": "python",
   "name": "python3"
  },
  "language_info": {
   "codemirror_mode": {
    "name": "ipython",
    "version": 3
   },
   "file_extension": ".py",
   "mimetype": "text/x-python",
   "name": "python",
   "nbconvert_exporter": "python",
   "pygments_lexer": "ipython3",
   "version": "3.7.6"
  }
 },
 "nbformat": 4,
 "nbformat_minor": 5
}
