{
 "cells": [
  {
   "cell_type": "markdown",
   "id": "dated-temperature",
   "metadata": {},
   "source": [
    "## Bubble Sort -> O(n<sup>2</sup>)"
   ]
  },
  {
   "cell_type": "markdown",
   "id": "respiratory-distribution",
   "metadata": {},
   "source": [
    "###### Exp1:"
   ]
  },
  {
   "cell_type": "code",
   "execution_count": 1,
   "id": "substantial-satin",
   "metadata": {},
   "outputs": [],
   "source": [
    "from random import randint as rnd"
   ]
  },
  {
   "cell_type": "code",
   "execution_count": 2,
   "id": "atmospheric-catalyst",
   "metadata": {},
   "outputs": [
    {
     "name": "stdout",
     "output_type": "stream",
     "text": [
      "[8, 10, 4, 2, 7, 2, 7, 6, 3, 10]\n"
     ]
    }
   ],
   "source": [
    "length = 10\n",
    "_list = [rnd(1,length) for i in range(length)]\n",
    "print(_list)"
   ]
  },
  {
   "cell_type": "code",
   "execution_count": 3,
   "id": "welsh-stable",
   "metadata": {},
   "outputs": [],
   "source": [
    "def bubble_sort(_list):\n",
    "    for i in range(len(_list)):\n",
    "        for j in range(len(_list) - 1):\n",
    "            if _list[j] > _list[j + 1]:\n",
    "                _list[j], _list[j + 1] = _list[j + 1], _list[j]\n",
    "    return _list"
   ]
  },
  {
   "cell_type": "code",
   "execution_count": 4,
   "id": "reported-fruit",
   "metadata": {},
   "outputs": [
    {
     "name": "stdout",
     "output_type": "stream",
     "text": [
      "[2, 2, 3, 4, 6, 7, 7, 8, 10, 10]\n"
     ]
    }
   ],
   "source": [
    "print(bubble_sort(_list))"
   ]
  },
  {
   "cell_type": "markdown",
   "id": "static-fireplace",
   "metadata": {},
   "source": [
    "###### Exp2:"
   ]
  },
  {
   "cell_type": "code",
   "execution_count": 5,
   "id": "bearing-elevation",
   "metadata": {},
   "outputs": [],
   "source": [
    "def bubble_sort(_list):\n",
    "    for i in range(len(_list)):\n",
    "        flag = False\n",
    "        for j in range(len(_list) - 1):\n",
    "            if _list[j] > _list[j + 1]:\n",
    "                flag = True\n",
    "                _list[j], _list[j + 1] = _list[j + 1], _list[j]\n",
    "        if not flag:\n",
    "            break\n",
    "    return _list"
   ]
  },
  {
   "cell_type": "code",
   "execution_count": 6,
   "id": "exposed-stability",
   "metadata": {},
   "outputs": [
    {
     "name": "stdout",
     "output_type": "stream",
     "text": [
      "[2, 2, 3, 4, 6, 7, 7, 8, 10, 10]\n"
     ]
    }
   ],
   "source": [
    "print(bubble_sort(_list))"
   ]
  }
 ],
 "metadata": {
  "kernelspec": {
   "display_name": "Python 3",
   "language": "python",
   "name": "python3"
  },
  "language_info": {
   "codemirror_mode": {
    "name": "ipython",
    "version": 3
   },
   "file_extension": ".py",
   "mimetype": "text/x-python",
   "name": "python",
   "nbconvert_exporter": "python",
   "pygments_lexer": "ipython3",
   "version": "3.7.6"
  }
 },
 "nbformat": 4,
 "nbformat_minor": 5
}
