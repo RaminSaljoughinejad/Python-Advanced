{
 "cells": [
  {
   "cell_type": "markdown",
   "id": "37caa8ea",
   "metadata": {},
   "source": [
    "## <p style='color:orange'>Exercise 04: slots</p>"
   ]
  },
  {
   "cell_type": "markdown",
   "id": "beb83c16",
   "metadata": {},
   "source": [
    "##### Exp1-A:"
   ]
  },
  {
   "cell_type": "code",
   "execution_count": 1,
   "id": "ba2c5a7f",
   "metadata": {},
   "outputs": [
    {
     "data": {
      "text/plain": [
       "{'color': 'White', 'max_speed': 180, 'model': 'Saba'}"
      ]
     },
     "execution_count": 1,
     "metadata": {},
     "output_type": "execute_result"
    }
   ],
   "source": [
    "class Car:\n",
    "    engine_status = True\n",
    "    def __init__(self, color, max_speed, model):\n",
    "        self.color = color\n",
    "        self.max_speed = max_speed\n",
    "        self.model = model\n",
    "        \n",
    "pride = Car(\"White\", 180, \"Saba\")\n",
    "\n",
    "pride.__dict__"
   ]
  },
  {
   "cell_type": "markdown",
   "id": "8a6d3fb4",
   "metadata": {},
   "source": [
    "##### Exp1-B:"
   ]
  },
  {
   "cell_type": "code",
   "execution_count": 1,
   "id": "581ecbad",
   "metadata": {},
   "outputs": [
    {
     "name": "stdout",
     "output_type": "stream",
     "text": [
      "Black\n",
      "200\n",
      "111\n"
     ]
    }
   ],
   "source": [
    "class Car:\n",
    "    __slots__ = ()\n",
    "    color = \"Black\"\n",
    "    max_speed = 200\n",
    "    model = \"111\"\n",
    "        \n",
    "pride = Car()\n",
    "\n",
    "print(pride.color)\n",
    "print(pride.max_speed)\n",
    "print(pride.model)"
   ]
  },
  {
   "cell_type": "code",
   "execution_count": 2,
   "id": "cf23013f",
   "metadata": {},
   "outputs": [
    {
     "ename": "AttributeError",
     "evalue": "'Car' object has no attribute '__dict__'",
     "output_type": "error",
     "traceback": [
      "\u001b[1;31m---------------------------------------------------------------------------\u001b[0m",
      "\u001b[1;31mAttributeError\u001b[0m                            Traceback (most recent call last)",
      "Input \u001b[1;32mIn [2]\u001b[0m, in \u001b[0;36m<cell line: 1>\u001b[1;34m()\u001b[0m\n\u001b[1;32m----> 1\u001b[0m \u001b[43mpride\u001b[49m\u001b[38;5;241;43m.\u001b[39;49m\u001b[38;5;18;43m__dict__\u001b[39;49m\n",
      "\u001b[1;31mAttributeError\u001b[0m: 'Car' object has no attribute '__dict__'"
     ]
    }
   ],
   "source": [
    "pride.__dict__"
   ]
  },
  {
   "cell_type": "markdown",
   "id": "3a57eaaa",
   "metadata": {},
   "source": [
    "##### Exp2-A:"
   ]
  },
  {
   "cell_type": "code",
   "execution_count": 1,
   "id": "e3f47c00",
   "metadata": {},
   "outputs": [],
   "source": [
    "class Car:\n",
    "    engine_status = True\n",
    "    def __init__(self, color, max_speed, model):\n",
    "        self.color = color\n",
    "        self.max_speed = max_speed\n",
    "        self.model = model\n",
    "        \n",
    "pride = Car(\"White\", 180, \"Saba\")"
   ]
  },
  {
   "cell_type": "code",
   "execution_count": 2,
   "id": "b451d947",
   "metadata": {},
   "outputs": [
    {
     "name": "stdout",
     "output_type": "stream",
     "text": [
      "48\n"
     ]
    }
   ],
   "source": [
    "import sys\n",
    "\n",
    "print(sys.getsizeof(pride))"
   ]
  },
  {
   "cell_type": "markdown",
   "id": "a050fa34",
   "metadata": {},
   "source": [
    "##### Exp2-B:"
   ]
  },
  {
   "cell_type": "code",
   "execution_count": 1,
   "id": "cd98a49f",
   "metadata": {},
   "outputs": [],
   "source": [
    "class Car:\n",
    "    __slots__ = ()\n",
    "    color = \"Black\"\n",
    "    max_speed = 200\n",
    "    model = \"111\"\n",
    "        \n",
    "pride = Car()"
   ]
  },
  {
   "cell_type": "code",
   "execution_count": 2,
   "id": "dd9262d6",
   "metadata": {},
   "outputs": [
    {
     "name": "stdout",
     "output_type": "stream",
     "text": [
      "32\n"
     ]
    }
   ],
   "source": [
    "import sys\n",
    "\n",
    "print(sys.getsizeof(pride))"
   ]
  },
  {
   "cell_type": "markdown",
   "id": "3ad9af2f",
   "metadata": {},
   "source": [
    "##### Exp3-A:"
   ]
  },
  {
   "cell_type": "code",
   "execution_count": 1,
   "id": "43708b9e",
   "metadata": {},
   "outputs": [],
   "source": [
    "class Car:\n",
    "    engine_status = True\n",
    "    def __init__(self, color, max_speed, model):\n",
    "        self.color = color\n",
    "        self.max_speed = max_speed\n",
    "        self.model = model\n",
    "        \n",
    "pride = Car(\"White\", 180, \"Saba\")"
   ]
  },
  {
   "cell_type": "markdown",
   "id": "f1a2f753",
   "metadata": {},
   "source": [
    "##### Exp3-B:"
   ]
  },
  {
   "cell_type": "code",
   "execution_count": 1,
   "id": "0eae194e",
   "metadata": {},
   "outputs": [],
   "source": [
    "class Car:\n",
    "    __slots__ = [\"color\", \"max_speed\", \"model\"]\n",
    "    def __init__(self, color, max_speed, model):\n",
    "        self.color = color\n",
    "        self.max_speed = max_speed\n",
    "        self.model = model\n",
    "        \n",
    "pride = Car(\"Red\", 120, \"121\")"
   ]
  },
  {
   "cell_type": "markdown",
   "id": "f4c7c57d",
   "metadata": {},
   "source": [
    "##### Exp4-A:"
   ]
  },
  {
   "cell_type": "code",
   "execution_count": 1,
   "id": "16d56b47",
   "metadata": {},
   "outputs": [
    {
     "name": "stdout",
     "output_type": "stream",
     "text": [
      "379 ns ± 9.35 ns per loop (mean ± std. dev. of 7 runs, 1,000,000 loops each)\n"
     ]
    }
   ],
   "source": [
    "class Car:\n",
    "    engine_status = True\n",
    "    def __init__(self, color, max_speed, model):\n",
    "        self.color = color\n",
    "        self.max_speed = max_speed\n",
    "        self.model = model\n",
    "        \n",
    "%timeit pride = Car(\"White\", 180, \"Saba\")"
   ]
  },
  {
   "cell_type": "markdown",
   "id": "7a67c946",
   "metadata": {},
   "source": [
    "##### Exp4-B:"
   ]
  },
  {
   "cell_type": "code",
   "execution_count": 2,
   "id": "11fb509a",
   "metadata": {},
   "outputs": [
    {
     "name": "stdout",
     "output_type": "stream",
     "text": [
      "298 ns ± 4.29 ns per loop (mean ± std. dev. of 7 runs, 1,000,000 loops each)\n"
     ]
    }
   ],
   "source": [
    "class Car:\n",
    "    __slots__ = [\"color\", \"max_speed\", \"model\"]\n",
    "    def __init__(self, color, max_speed, model):\n",
    "        self.color = color\n",
    "        self.max_speed = max_speed\n",
    "        self.model = model\n",
    "        \n",
    "%timeit pride = Car(\"Red\", 120, \"121\")"
   ]
  },
  {
   "cell_type": "markdown",
   "id": "da2c1ae9",
   "metadata": {},
   "source": [
    "##### Exp5-A:"
   ]
  },
  {
   "cell_type": "code",
   "execution_count": 1,
   "id": "bf12922f",
   "metadata": {},
   "outputs": [],
   "source": [
    "class Car:\n",
    "    engine_status = True\n",
    "    def __init__(self, color, max_speed, model):\n",
    "        self.color = color\n",
    "        self.max_speed = max_speed\n",
    "        self.model = model\n",
    "        \n",
    "pride = Car(\"White\", 180, \"Saba\")"
   ]
  },
  {
   "cell_type": "code",
   "execution_count": 2,
   "id": "7b75d7ee",
   "metadata": {},
   "outputs": [
    {
     "name": "stdout",
     "output_type": "stream",
     "text": [
      "44.9 ns ± 1 ns per loop (mean ± std. dev. of 7 runs, 10,000,000 loops each)\n"
     ]
    }
   ],
   "source": [
    "%timeit pride.color"
   ]
  },
  {
   "cell_type": "markdown",
   "id": "04d6913d",
   "metadata": {},
   "source": [
    "##### Exp5-B:"
   ]
  },
  {
   "cell_type": "code",
   "execution_count": 1,
   "id": "708bc213",
   "metadata": {},
   "outputs": [],
   "source": [
    "class Car:\n",
    "    __slots__ = [\"color\", \"max_speed\", \"model\"]\n",
    "    def __init__(self, color, max_speed, model):\n",
    "        self.color = color\n",
    "        self.max_speed = max_speed\n",
    "        self.model = model\n",
    "        \n",
    "pride = Car(\"Red\", 120, \"121\")"
   ]
  },
  {
   "cell_type": "code",
   "execution_count": 2,
   "id": "0842286c",
   "metadata": {},
   "outputs": [
    {
     "name": "stdout",
     "output_type": "stream",
     "text": [
      "42.4 ns ± 0.148 ns per loop (mean ± std. dev. of 7 runs, 10,000,000 loops each)\n"
     ]
    }
   ],
   "source": [
    "%timeit pride.color"
   ]
  }
 ],
 "metadata": {
  "kernelspec": {
   "display_name": "Python 3 (ipykernel)",
   "language": "python",
   "name": "python3"
  },
  "language_info": {
   "codemirror_mode": {
    "name": "ipython",
    "version": 3
   },
   "file_extension": ".py",
   "mimetype": "text/x-python",
   "name": "python",
   "nbconvert_exporter": "python",
   "pygments_lexer": "ipython3",
   "version": "3.9.12"
  }
 },
 "nbformat": 4,
 "nbformat_minor": 5
}
