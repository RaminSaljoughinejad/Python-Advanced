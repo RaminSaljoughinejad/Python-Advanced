{
 "cells": [
  {
   "cell_type": "markdown",
   "id": "eb5626ae",
   "metadata": {},
   "source": [
    "##### Exp1:"
   ]
  },
  {
   "cell_type": "code",
   "execution_count": 1,
   "id": "6e93acc3",
   "metadata": {},
   "outputs": [],
   "source": [
    "import time\n",
    "import requests"
   ]
  },
  {
   "cell_type": "code",
   "execution_count": 2,
   "id": "f27d9532",
   "metadata": {},
   "outputs": [],
   "source": [
    "images_url = [\n",
    "    \"https://img.freepik.com/free-photo/white-t-shirts-with-copy-space-gray-background_53876-104920.jpg\",\n",
    "    \"https://img.freepik.com/free-photo/black-t-shirts-with-copy-space_53876-102012.jpg\",\n",
    "    \"https://img.freepik.com/free-photo/exterior-view-modern-white-house-with-courtyard-patio-area-green-grass-lawn-garden-car-evening_174699-1485.jpg\",\n",
    "    \"https://img.freepik.com/free-photo/abstract-grunge-decorative-relief-navy-blue-stucco-wall-texture-wide-angle-rough-colored-background_1258-28311.jpg\",\n",
    "    \"https://img.freepik.com/free-photo/many-isolated-assorted-pizzas-collage-menu-design_219193-5937.jpg\",\n",
    "    \"https://img.freepik.com/free-photo/hand-presenting-model-house-home-loan-campaign_53876-104970.jpg\",\n",
    "    \"https://img.freepik.com/free-photo/sports-tools_53876-138077.jpg\"\n",
    "]"
   ]
  },
  {
   "cell_type": "code",
   "execution_count": 3,
   "id": "bafbe084",
   "metadata": {},
   "outputs": [
    {
     "name": "stdout",
     "output_type": "stream",
     "text": [
      "white-t-shirts-with-copy-space-gray-background_53876-104920.jpg.jpg was downloading...\n",
      "black-t-shirts-with-copy-space_53876-102012.jpg.jpg was downloading...\n",
      "exterior-view-modern-white-house-with-courtyard-patio-area-green-grass-lawn-garden-car-evening_174699-1485.jpg.jpg was downloading...\n",
      "abstract-grunge-decorative-relief-navy-blue-stucco-wall-texture-wide-angle-rough-colored-background_1258-28311.jpg.jpg was downloading...\n",
      "many-isolated-assorted-pizzas-collage-menu-design_219193-5937.jpg.jpg was downloading...\n",
      "hand-presenting-model-house-home-loan-campaign_53876-104970.jpg.jpg was downloading...\n",
      "sports-tools_53876-138077.jpg.jpg was downloading...\n",
      "Took 6.05 Second(s).\n"
     ]
    }
   ],
   "source": [
    "start = time.time()\n",
    "for image_url in images_url:\n",
    "    image_data_bytes = requests.get(image_url).content\n",
    "    image_name = image_url.split(\"/\")[4]\n",
    "    image_name = f\"{image_name}.jpg\"\n",
    "    with open(image_name, \"wb\") as img:\n",
    "        img.write(image_data_bytes)\n",
    "        print(image_name, \"was downloading...\")\n",
    "print(\"Took\",round(time.time()-start, 2),\"Second(s).\")"
   ]
  },
  {
   "cell_type": "code",
   "execution_count": 4,
   "id": "b8479bb5",
   "metadata": {},
   "outputs": [],
   "source": [
    "import concurrent.futures"
   ]
  },
  {
   "cell_type": "code",
   "execution_count": 5,
   "id": "08bf06ce",
   "metadata": {},
   "outputs": [],
   "source": [
    "def download_image(image_url):\n",
    "    image_data_bytes = requests.get(image_url).content\n",
    "    image_name = image_url.split(\"/\")[4]\n",
    "    image_name = f\"{image_name}.jpg\"\n",
    "    with open(image_name, \"wb\") as img:\n",
    "        img.write(image_data_bytes)\n",
    "        print(image_name, \"was downloading...\")"
   ]
  },
  {
   "cell_type": "code",
   "execution_count": 6,
   "id": "6605267b",
   "metadata": {},
   "outputs": [
    {
     "name": "stdout",
     "output_type": "stream",
     "text": [
      "black-t-shirts-with-copy-space_53876-102012.jpg.jpg was downloading...\n",
      "white-t-shirts-with-copy-space-gray-background_53876-104920.jpg.jpg was downloading...\n",
      "exterior-view-modern-white-house-with-courtyard-patio-area-green-grass-lawn-garden-car-evening_174699-1485.jpg.jpg was downloading...\n",
      "hand-presenting-model-house-home-loan-campaign_53876-104970.jpg.jpg was downloading...\n",
      "abstract-grunge-decorative-relief-navy-blue-stucco-wall-texture-wide-angle-rough-colored-background_1258-28311.jpg.jpg was downloading...\n",
      "many-isolated-assorted-pizzas-collage-menu-design_219193-5937.jpg.jpg was downloading...\n",
      "sports-tools_53876-138077.jpg.jpg was downloading...\n",
      "Took 1.34 Second(s).\n"
     ]
    }
   ],
   "source": [
    "start = time.time()\n",
    "\n",
    "with concurrent.futures.ThreadPoolExecutor() as executor:\n",
    "    tasks = executor.map(download_image, images_url)\n",
    "    \n",
    "print(\"Took\",round(time.time()-start, 2),\"Second(s).\")"
   ]
  }
 ],
 "metadata": {
  "kernelspec": {
   "display_name": "Python 3 (ipykernel)",
   "language": "python",
   "name": "python3"
  },
  "language_info": {
   "codemirror_mode": {
    "name": "ipython",
    "version": 3
   },
   "file_extension": ".py",
   "mimetype": "text/x-python",
   "name": "python",
   "nbconvert_exporter": "python",
   "pygments_lexer": "ipython3",
   "version": "3.9.12"
  }
 },
 "nbformat": 4,
 "nbformat_minor": 5
}
