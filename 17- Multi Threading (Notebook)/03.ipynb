{
 "cells": [
  {
   "cell_type": "markdown",
   "id": "771dd8a6",
   "metadata": {},
   "source": [
    "##### exp1:"
   ]
  },
  {
   "cell_type": "code",
   "execution_count": 1,
   "id": "e9c0577d",
   "metadata": {},
   "outputs": [],
   "source": [
    "import concurrent.futures\n",
    "import time"
   ]
  },
  {
   "cell_type": "code",
   "execution_count": 2,
   "id": "43874e9c",
   "metadata": {},
   "outputs": [],
   "source": [
    "def abgosht(name):\n",
    "    print(f\"Abgosht-{name} # Making Abgosht\")\n",
    "    print(f\"Abgosht-{name} # Getting the Ingredients ready.\")\n",
    "    print(f\"Abgosht-{name} # Leaving it to boil...\")\n",
    "    time.sleep(2)\n",
    "    print(f\"Abgosht # Abgosht is ready!\")"
   ]
  },
  {
   "cell_type": "code",
   "execution_count": 3,
   "id": "7506fddd",
   "metadata": {},
   "outputs": [
    {
     "name": "stdout",
     "output_type": "stream",
     "text": [
      "Abgosht-AliReza # Making Abgosht\n",
      "Abgosht-AliReza # Getting the Ingredients ready.\n",
      "Abgosht-AliReza # Leaving it to boil...\n",
      "Abgosht # Abgosht is ready!\n",
      "Took 2.02 Second(s).\n"
     ]
    }
   ],
   "source": [
    "start = time.time()\n",
    "\n",
    "with concurrent.futures.ThreadPoolExecutor() as executor:\n",
    "    task1 = executor.submit(abgosht, \"AliReza\")\n",
    "    task1.result()\n",
    "\n",
    "print(\"Took\",round(time.time()-start, 2),\"Second(s).\")"
   ]
  },
  {
   "cell_type": "markdown",
   "id": "2629fc58",
   "metadata": {},
   "source": [
    "##### Exp2:"
   ]
  },
  {
   "cell_type": "code",
   "execution_count": 4,
   "id": "4998c4ec",
   "metadata": {},
   "outputs": [
    {
     "name": "stdout",
     "output_type": "stream",
     "text": [
      "Abgosht-AliReza # Making Abgosht\n",
      "Abgosht-AliReza # Getting the Ingredients ready.\n",
      "Abgosht-AliReza # Leaving it to boil...\n",
      "Abgosht-Saeed # Making Abgosht\n",
      "Abgosht-Saeed # Getting the Ingredients ready.\n",
      "Abgosht-Saeed # Leaving it to boil...\n",
      "Abgosht-Mehran # Making Abgosht\n",
      "Abgosht-Mehran # Getting the Ingredients ready.\n",
      "Abgosht-Mehran # Leaving it to boil...\n",
      "Abgosht # Abgosht is ready!\n",
      "Abgosht # Abgosht is ready!\n",
      "Abgosht # Abgosht is ready!\n",
      "Took 2.02 Second(s).\n"
     ]
    }
   ],
   "source": [
    "start = time.time()\n",
    "\n",
    "with concurrent.futures.ThreadPoolExecutor() as executor:\n",
    "    names = [\"AliReza\", \"Saeed\", \"Mehran\"]\n",
    "    tasks = [executor.submit(abgosht, name) for name in names]\n",
    "    \n",
    "    for task in concurrent.futures.as_completed(tasks):\n",
    "        task.result()\n",
    "\n",
    "print(\"Took\",round(time.time()-start, 2),\"Second(s).\")"
   ]
  }
 ],
 "metadata": {
  "kernelspec": {
   "display_name": "Python 3 (ipykernel)",
   "language": "python",
   "name": "python3"
  },
  "language_info": {
   "codemirror_mode": {
    "name": "ipython",
    "version": 3
   },
   "file_extension": ".py",
   "mimetype": "text/x-python",
   "name": "python",
   "nbconvert_exporter": "python",
   "pygments_lexer": "ipython3",
   "version": "3.9.12"
  }
 },
 "nbformat": 4,
 "nbformat_minor": 5
}
