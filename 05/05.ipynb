{
 "cells": [
  {
   "cell_type": "markdown",
   "id": "interested-sapphire",
   "metadata": {},
   "source": [
    "## Magical Methods ( Dunder Methods )"
   ]
  },
  {
   "cell_type": "markdown",
   "id": "together-prisoner",
   "metadata": {},
   "source": [
    "### Magic methods in Python are the special methods that start and end with the double underscores. They are also called dunder methods. Magic methods are not meant to be invoked directly by you, but the invocation happens internally from the class on a certain action."
   ]
  },
  {
   "cell_type": "markdown",
   "id": "false-association",
   "metadata": {},
   "source": [
    "###### Exp1:"
   ]
  },
  {
   "cell_type": "code",
   "execution_count": 1,
   "id": "liquid-address",
   "metadata": {},
   "outputs": [],
   "source": [
    "class A:\n",
    "    def __init__(self, value):\n",
    "        self.value = value"
   ]
  },
  {
   "cell_type": "code",
   "execution_count": 2,
   "id": "expected-archives",
   "metadata": {},
   "outputs": [],
   "source": [
    "x = A(4)"
   ]
  },
  {
   "cell_type": "code",
   "execution_count": 3,
   "id": "needed-milton",
   "metadata": {},
   "outputs": [
    {
     "name": "stdout",
     "output_type": "stream",
     "text": [
      "4\n"
     ]
    }
   ],
   "source": [
    "print(x.value)"
   ]
  },
  {
   "cell_type": "code",
   "execution_count": 4,
   "id": "close-stamp",
   "metadata": {},
   "outputs": [],
   "source": [
    "y = A(4.5)"
   ]
  },
  {
   "cell_type": "code",
   "execution_count": 5,
   "id": "dietary-cooling",
   "metadata": {},
   "outputs": [
    {
     "name": "stdout",
     "output_type": "stream",
     "text": [
      "4.5\n"
     ]
    }
   ],
   "source": [
    "print(y.value)"
   ]
  },
  {
   "cell_type": "code",
   "execution_count": 6,
   "id": "congressional-winter",
   "metadata": {},
   "outputs": [
    {
     "ename": "NameError",
     "evalue": "name 'b' is not defined",
     "output_type": "error",
     "traceback": [
      "\u001b[0;31m---------------------------------------------------------------------------\u001b[0m",
      "\u001b[0;31mNameError\u001b[0m                                 Traceback (most recent call last)",
      "\u001b[0;32m<ipython-input-6-cbc78dc002ac>\u001b[0m in \u001b[0;36m<module>\u001b[0;34m\u001b[0m\n\u001b[0;32m----> 1\u001b[0;31m \u001b[0mx\u001b[0m \u001b[0;34m+\u001b[0m \u001b[0mb\u001b[0m\u001b[0;34m\u001b[0m\u001b[0;34m\u001b[0m\u001b[0m\n\u001b[0m",
      "\u001b[0;31mNameError\u001b[0m: name 'b' is not defined"
     ]
    }
   ],
   "source": [
    "x + b"
   ]
  },
  {
   "cell_type": "markdown",
   "id": "directed-development",
   "metadata": {},
   "source": [
    "###### Exp2:"
   ]
  },
  {
   "cell_type": "code",
   "execution_count": 1,
   "id": "uniform-freedom",
   "metadata": {},
   "outputs": [],
   "source": [
    "class A:\n",
    "    def __init__(self, value):\n",
    "        self.value = value\n",
    "    def __add__(self, other):\n",
    "        val = self.value + other.value\n",
    "        return val"
   ]
  },
  {
   "cell_type": "code",
   "execution_count": 2,
   "id": "devoted-fight",
   "metadata": {},
   "outputs": [
    {
     "name": "stdout",
     "output_type": "stream",
     "text": [
      "7.6\n"
     ]
    }
   ],
   "source": [
    "x = A(4)\n",
    "y = A(3.6)\n",
    "print(x+y)"
   ]
  },
  {
   "cell_type": "markdown",
   "id": "certain-program",
   "metadata": {},
   "source": [
    "### \n",
    "<hr><hr>"
   ]
  },
  {
   "cell_type": "markdown",
   "id": "unable-potato",
   "metadata": {},
   "source": [
    "### Initialization, Construction, Destruction Methods\n",
    "_ _ init _ _<br>\n",
    "_ _ new _ _<br>\n",
    "_ _ del _ _<br>"
   ]
  },
  {
   "cell_type": "markdown",
   "id": "joint-brief",
   "metadata": {},
   "source": [
    "### <p style='color:orange;'>cls represents the class that is needed to be instantiated</p>"
   ]
  },
  {
   "cell_type": "markdown",
   "id": "circular-thermal",
   "metadata": {},
   "source": [
    "###### Exp3:"
   ]
  },
  {
   "cell_type": "code",
   "execution_count": 1,
   "id": "formed-breed",
   "metadata": {},
   "outputs": [],
   "source": [
    "class A:\n",
    "    def __init__(self):\n",
    "        print(\"Call to init method!\")\n",
    "        \n",
    "    def __new__(cls):\n",
    "        print(\"Call to new method!\")\n",
    "        return object.__new__(cls)"
   ]
  },
  {
   "cell_type": "code",
   "execution_count": 2,
   "id": "cathedral-observation",
   "metadata": {},
   "outputs": [
    {
     "name": "stdout",
     "output_type": "stream",
     "text": [
      "Call to new method!\n",
      "Call to init method!\n"
     ]
    }
   ],
   "source": [
    "x = A()"
   ]
  },
  {
   "cell_type": "markdown",
   "id": "aging-organic",
   "metadata": {},
   "source": [
    "###### Exp4:"
   ]
  },
  {
   "cell_type": "code",
   "execution_count": 1,
   "id": "drawn-campbell",
   "metadata": {},
   "outputs": [],
   "source": [
    "class A:\n",
    "    def __init__(self):\n",
    "        print(\"Call to init method!\")\n",
    "        \n",
    "    def __new__(cls):\n",
    "        print(\"Call to new method!\")\n",
    "        return object.__new__(cls)\n",
    "    def __del__(self):\n",
    "        print(\"Instance Deleted!\")"
   ]
  },
  {
   "cell_type": "code",
   "execution_count": 2,
   "id": "presidential-standard",
   "metadata": {},
   "outputs": [
    {
     "name": "stdout",
     "output_type": "stream",
     "text": [
      "Call to new method!\n",
      "Call to init method!\n"
     ]
    }
   ],
   "source": [
    "x = A()"
   ]
  },
  {
   "cell_type": "code",
   "execution_count": 3,
   "id": "behavioral-angle",
   "metadata": {},
   "outputs": [
    {
     "name": "stdout",
     "output_type": "stream",
     "text": [
      "Instance Deleted!\n"
     ]
    }
   ],
   "source": [
    "del x"
   ]
  },
  {
   "cell_type": "code",
   "execution_count": 4,
   "id": "resident-minute",
   "metadata": {},
   "outputs": [
    {
     "ename": "NameError",
     "evalue": "name 'x' is not defined",
     "output_type": "error",
     "traceback": [
      "\u001b[0;31m---------------------------------------------------------------------------\u001b[0m",
      "\u001b[0;31mNameError\u001b[0m                                 Traceback (most recent call last)",
      "\u001b[0;32m<ipython-input-4-6fcf9dfbd479>\u001b[0m in \u001b[0;36m<module>\u001b[0;34m\u001b[0m\n\u001b[0;32m----> 1\u001b[0;31m \u001b[0mx\u001b[0m\u001b[0;34m\u001b[0m\u001b[0;34m\u001b[0m\u001b[0m\n\u001b[0m",
      "\u001b[0;31mNameError\u001b[0m: name 'x' is not defined"
     ]
    }
   ],
   "source": [
    "x"
   ]
  }
 ],
 "metadata": {
  "kernelspec": {
   "display_name": "Python 3",
   "language": "python",
   "name": "python3"
  },
  "language_info": {
   "codemirror_mode": {
    "name": "ipython",
    "version": 3
   },
   "file_extension": ".py",
   "mimetype": "text/x-python",
   "name": "python",
   "nbconvert_exporter": "python",
   "pygments_lexer": "ipython3",
   "version": "3.7.6"
  }
 },
 "nbformat": 4,
 "nbformat_minor": 5
}
