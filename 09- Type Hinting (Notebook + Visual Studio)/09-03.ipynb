{
 "cells": [
  {
   "cell_type": "code",
   "execution_count": 1,
   "id": "buried-vegetable",
   "metadata": {},
   "outputs": [],
   "source": [
    "x: int = 2\n",
    "y: float = 4.4\n",
    "z: bool = True\n",
    "k: None = None\n",
    "l: str = \"Hello\"\n",
    "m: list = [2,4,6]"
   ]
  },
  {
   "cell_type": "markdown",
   "id": "extensive-bottle",
   "metadata": {},
   "source": [
    "###### Function type hinting"
   ]
  },
  {
   "cell_type": "code",
   "execution_count": 2,
   "id": "broad-landscape",
   "metadata": {},
   "outputs": [
    {
     "data": {
      "text/plain": [
       "1024"
      ]
     },
     "execution_count": 2,
     "metadata": {},
     "output_type": "execute_result"
    }
   ],
   "source": [
    "def my_function(x: int,y: int) -> int:\n",
    "    return x**y\n",
    "\n",
    "my_function(2,10)"
   ]
  },
  {
   "cell_type": "markdown",
   "id": "destroyed-relaxation",
   "metadata": {},
   "source": [
    "###### None returning function ( Functions without return )"
   ]
  },
  {
   "cell_type": "code",
   "execution_count": 3,
   "id": "geological-mitchell",
   "metadata": {},
   "outputs": [
    {
     "name": "stdout",
     "output_type": "stream",
     "text": [
      "2 + 6 = 8\n"
     ]
    }
   ],
   "source": [
    "def my_function(x: int,y: int) -> None:\n",
    "    print(f\"{x} + {y} = {x+y}\")\n",
    "    \n",
    "my_function(2,6)"
   ]
  },
  {
   "cell_type": "markdown",
   "id": "included-retro",
   "metadata": {},
   "source": [
    "### More advanced types!"
   ]
  },
  {
   "cell_type": "markdown",
   "id": "intimate-praise",
   "metadata": {},
   "source": [
    "##### List with other types inside them"
   ]
  },
  {
   "cell_type": "code",
   "execution_count": 1,
   "id": "uniform-reservation",
   "metadata": {},
   "outputs": [],
   "source": [
    "x = [[2,3,4],[5,4,3],[9,8,1]]"
   ]
  },
  {
   "cell_type": "code",
   "execution_count": 2,
   "id": "reliable-canberra",
   "metadata": {},
   "outputs": [
    {
     "ename": "TypeError",
     "evalue": "'type' object is not subscriptable",
     "output_type": "error",
     "traceback": [
      "\u001b[0;31m---------------------------------------------------------------------------\u001b[0m",
      "\u001b[0;31mTypeError\u001b[0m                                 Traceback (most recent call last)",
      "\u001b[0;32m<ipython-input-2-b1b957172502>\u001b[0m in \u001b[0;36m<module>\u001b[0;34m\u001b[0m\n\u001b[0;32m----> 1\u001b[0;31m \u001b[0mx\u001b[0m\u001b[0;34m:\u001b[0m \u001b[0mlist\u001b[0m\u001b[0;34m[\u001b[0m\u001b[0mlist\u001b[0m\u001b[0;34m[\u001b[0m\u001b[0mint\u001b[0m\u001b[0;34m]\u001b[0m\u001b[0;34m]\u001b[0m \u001b[0;34m=\u001b[0m \u001b[0;34m[\u001b[0m\u001b[0;34m[\u001b[0m\u001b[0;36m2\u001b[0m\u001b[0;34m,\u001b[0m\u001b[0;36m3\u001b[0m\u001b[0;34m,\u001b[0m\u001b[0;36m4\u001b[0m\u001b[0;34m]\u001b[0m\u001b[0;34m,\u001b[0m\u001b[0;34m[\u001b[0m\u001b[0;36m5\u001b[0m\u001b[0;34m,\u001b[0m\u001b[0;36m4\u001b[0m\u001b[0;34m,\u001b[0m\u001b[0;36m3\u001b[0m\u001b[0;34m]\u001b[0m\u001b[0;34m,\u001b[0m\u001b[0;34m[\u001b[0m\u001b[0;36m9\u001b[0m\u001b[0;34m,\u001b[0m\u001b[0;36m8\u001b[0m\u001b[0;34m,\u001b[0m\u001b[0;36m1\u001b[0m\u001b[0;34m]\u001b[0m\u001b[0;34m]\u001b[0m\u001b[0;34m\u001b[0m\u001b[0;34m\u001b[0m\u001b[0m\n\u001b[0m",
      "\u001b[0;31mTypeError\u001b[0m: 'type' object is not subscriptable"
     ]
    }
   ],
   "source": [
    "x: list[list[int]] = [[2,3,4],[5,4,3],[9,8,1]]"
   ]
  },
  {
   "cell_type": "code",
   "execution_count": 3,
   "id": "historic-moisture",
   "metadata": {},
   "outputs": [],
   "source": [
    "from typing import List\n",
    "\n",
    "x: List[List[int]] = [[2,3,4],[5,4,3],[9,8,1]]"
   ]
  },
  {
   "cell_type": "markdown",
   "id": "unsigned-leather",
   "metadata": {},
   "source": [
    "###### Dicts with other types inside them"
   ]
  },
  {
   "cell_type": "code",
   "execution_count": 1,
   "id": "working-literacy",
   "metadata": {},
   "outputs": [],
   "source": [
    "x = {\"A\":\"a\"}"
   ]
  },
  {
   "cell_type": "code",
   "execution_count": 2,
   "id": "fantastic-basic",
   "metadata": {},
   "outputs": [
    {
     "ename": "TypeError",
     "evalue": "'type' object is not subscriptable",
     "output_type": "error",
     "traceback": [
      "\u001b[0;31m---------------------------------------------------------------------------\u001b[0m",
      "\u001b[0;31mTypeError\u001b[0m                                 Traceback (most recent call last)",
      "\u001b[0;32m<ipython-input-2-3bfd119415a2>\u001b[0m in \u001b[0;36m<module>\u001b[0;34m\u001b[0m\n\u001b[0;32m----> 1\u001b[0;31m \u001b[0mx\u001b[0m\u001b[0;34m:\u001b[0m \u001b[0mdict\u001b[0m\u001b[0;34m[\u001b[0m\u001b[0mstr\u001b[0m\u001b[0;34m,\u001b[0m\u001b[0mstr\u001b[0m\u001b[0;34m]\u001b[0m \u001b[0;34m=\u001b[0m \u001b[0;34m{\u001b[0m\u001b[0;34m\"A\"\u001b[0m\u001b[0;34m:\u001b[0m\u001b[0;34m\"a\"\u001b[0m\u001b[0;34m}\u001b[0m\u001b[0;34m\u001b[0m\u001b[0;34m\u001b[0m\u001b[0m\n\u001b[0m",
      "\u001b[0;31mTypeError\u001b[0m: 'type' object is not subscriptable"
     ]
    }
   ],
   "source": [
    "x: dict[str,str] = {\"A\":\"a\"}"
   ]
  },
  {
   "cell_type": "code",
   "execution_count": 3,
   "id": "british-roulette",
   "metadata": {},
   "outputs": [],
   "source": [
    "from typing import Dict\n",
    "\n",
    "x: Dict[str,str] = {\"A\":\"a\"}"
   ]
  },
  {
   "cell_type": "markdown",
   "id": "wicked-title",
   "metadata": {},
   "source": [
    "### Type Pattern Creation"
   ]
  },
  {
   "cell_type": "code",
   "execution_count": 1,
   "id": "virgin-reason",
   "metadata": {},
   "outputs": [],
   "source": [
    "from typing import List, Dict, Set"
   ]
  },
  {
   "cell_type": "code",
   "execution_count": 2,
   "id": "peaceful-mouth",
   "metadata": {},
   "outputs": [],
   "source": [
    "x: List[List[int]] = [[2,3,4],[5,6,7]]\n",
    "y: List[List[int]] = [[1,4,8],[3,6,1,3,4]]\n",
    "z: List[List[int]] = [[6,4,1,2,3],[0,5,1,1,0]]"
   ]
  },
  {
   "cell_type": "markdown",
   "id": "instructional-calgary",
   "metadata": {},
   "source": [
    "###### Better way"
   ]
  },
  {
   "cell_type": "code",
   "execution_count": 3,
   "id": "sized-drink",
   "metadata": {},
   "outputs": [],
   "source": [
    "Type1 = List[List[int]]\n",
    "\n",
    "x: Type1 = [[1,4,8],[3,6,1,3,4]]"
   ]
  },
  {
   "cell_type": "markdown",
   "id": "brilliant-daisy",
   "metadata": {},
   "source": [
    "### Optional Types"
   ]
  },
  {
   "cell_type": "code",
   "execution_count": 1,
   "id": "valid-whale",
   "metadata": {},
   "outputs": [],
   "source": [
    "from typing import Optional"
   ]
  },
  {
   "cell_type": "code",
   "execution_count": 2,
   "id": "pending-smart",
   "metadata": {},
   "outputs": [],
   "source": [
    "def my_function(x: Optional[int] = 2):\n",
    "    pass"
   ]
  },
  {
   "cell_type": "markdown",
   "id": "higher-display",
   "metadata": {},
   "source": [
    "### Any Type!"
   ]
  },
  {
   "cell_type": "code",
   "execution_count": 1,
   "id": "asian-paper",
   "metadata": {},
   "outputs": [],
   "source": [
    "from typing import Any"
   ]
  },
  {
   "cell_type": "code",
   "execution_count": 2,
   "id": "active-convergence",
   "metadata": {},
   "outputs": [],
   "source": [
    "def my_function(x: Any):\n",
    "    return \"Nothing\""
   ]
  },
  {
   "cell_type": "code",
   "execution_count": 3,
   "id": "according-defeat",
   "metadata": {},
   "outputs": [
    {
     "data": {
      "text/plain": [
       "'Nothing'"
      ]
     },
     "execution_count": 3,
     "metadata": {},
     "output_type": "execute_result"
    }
   ],
   "source": [
    "my_function(2)"
   ]
  },
  {
   "cell_type": "code",
   "execution_count": 4,
   "id": "sonic-float",
   "metadata": {},
   "outputs": [
    {
     "data": {
      "text/plain": [
       "'Nothing'"
      ]
     },
     "execution_count": 4,
     "metadata": {},
     "output_type": "execute_result"
    }
   ],
   "source": [
    "my_function(4.2)"
   ]
  },
  {
   "cell_type": "code",
   "execution_count": 5,
   "id": "excessive-marking",
   "metadata": {},
   "outputs": [
    {
     "data": {
      "text/plain": [
       "'Nothing'"
      ]
     },
     "execution_count": 5,
     "metadata": {},
     "output_type": "execute_result"
    }
   ],
   "source": [
    "my_function(\"Hello\")"
   ]
  },
  {
   "cell_type": "markdown",
   "id": "powerful-institute",
   "metadata": {},
   "source": [
    "### Nothing but Sequence!\n",
    "(list, tuple, dict, str, ...) -----> !Set is not supported!"
   ]
  },
  {
   "cell_type": "code",
   "execution_count": 1,
   "id": "roman-maintenance",
   "metadata": {},
   "outputs": [],
   "source": [
    "from typing import Sequence"
   ]
  },
  {
   "cell_type": "code",
   "execution_count": 2,
   "id": "small-blogger",
   "metadata": {},
   "outputs": [],
   "source": [
    "def my_function(x: Sequence):\n",
    "    pass"
   ]
  },
  {
   "cell_type": "code",
   "execution_count": 3,
   "id": "mighty-teach",
   "metadata": {},
   "outputs": [],
   "source": [
    "my_function(\"Hello\")"
   ]
  },
  {
   "cell_type": "code",
   "execution_count": 4,
   "id": "suited-publisher",
   "metadata": {},
   "outputs": [],
   "source": [
    "my_function([2,5,4,1])"
   ]
  },
  {
   "cell_type": "markdown",
   "id": "annual-credits",
   "metadata": {},
   "source": [
    "### Callables"
   ]
  },
  {
   "cell_type": "code",
   "execution_count": 1,
   "id": "conventional-neighbor",
   "metadata": {},
   "outputs": [],
   "source": [
    "from typing import Callable"
   ]
  },
  {
   "cell_type": "code",
   "execution_count": 2,
   "id": "floppy-diagram",
   "metadata": {},
   "outputs": [],
   "source": [
    "def myfunction(x:int, y:float) -> str:\n",
    "    return \"hello\"\n",
    "\n",
    "\n",
    "def myfunction2(func: Callable[[int, float], str]) -> None:\n",
    "    pass"
   ]
  },
  {
   "cell_type": "markdown",
   "id": "chemical-fluid",
   "metadata": {},
   "source": [
    "### Generics"
   ]
  },
  {
   "cell_type": "code",
   "execution_count": null,
   "id": "asian-tuning",
   "metadata": {},
   "outputs": [],
   "source": []
  }
 ],
 "metadata": {
  "kernelspec": {
   "display_name": "Python 3",
   "language": "python",
   "name": "python3"
  },
  "language_info": {
   "codemirror_mode": {
    "name": "ipython",
    "version": 3
   },
   "file_extension": ".py",
   "mimetype": "text/x-python",
   "name": "python",
   "nbconvert_exporter": "python",
   "pygments_lexer": "ipython3",
   "version": "3.7.6"
  }
 },
 "nbformat": 4,
 "nbformat_minor": 5
}
