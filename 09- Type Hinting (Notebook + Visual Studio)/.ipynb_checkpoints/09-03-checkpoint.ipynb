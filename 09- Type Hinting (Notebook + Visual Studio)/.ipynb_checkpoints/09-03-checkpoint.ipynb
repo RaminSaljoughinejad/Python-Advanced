{
 "cells": [
  {
   "cell_type": "code",
   "execution_count": 1,
   "id": "serial-fluid",
   "metadata": {},
   "outputs": [],
   "source": [
    "x: int = 2\n",
    "y: float = 4.4\n",
    "z: bool = True\n",
    "k: None = None\n",
    "l: str = \"Hello\"\n",
    "m: list = [2,4,6]"
   ]
  },
  {
   "cell_type": "markdown",
   "id": "impressive-flash",
   "metadata": {},
   "source": [
    "###### Function type hinting"
   ]
  },
  {
   "cell_type": "code",
   "execution_count": 2,
   "id": "forced-integration",
   "metadata": {},
   "outputs": [
    {
     "data": {
      "text/plain": [
       "1024"
      ]
     },
     "execution_count": 2,
     "metadata": {},
     "output_type": "execute_result"
    }
   ],
   "source": [
    "def my_function(x: int,y: int) -> int:\n",
    "    return x**y\n",
    "\n",
    "my_function(2,10)"
   ]
  },
  {
   "cell_type": "markdown",
   "id": "unauthorized-locator",
   "metadata": {},
   "source": [
    "###### None returning function ( Functions without return )"
   ]
  },
  {
   "cell_type": "code",
   "execution_count": 3,
   "id": "decent-convention",
   "metadata": {},
   "outputs": [
    {
     "name": "stdout",
     "output_type": "stream",
     "text": [
      "2 + 6 = 8\n"
     ]
    }
   ],
   "source": [
    "def my_function(x: int,y: int) -> None:\n",
    "    print(f\"{x} + {y} = {x+y}\")\n",
    "    \n",
    "my_function(2,6)"
   ]
  },
  {
   "cell_type": "code",
   "execution_count": null,
   "id": "thousand-miracle",
   "metadata": {},
   "outputs": [],
   "source": []
  }
 ],
 "metadata": {
  "kernelspec": {
   "display_name": "Python 3",
   "language": "python",
   "name": "python3"
  },
  "language_info": {
   "codemirror_mode": {
    "name": "ipython",
    "version": 3
   },
   "file_extension": ".py",
   "mimetype": "text/x-python",
   "name": "python",
   "nbconvert_exporter": "python",
   "pygments_lexer": "ipython3",
   "version": "3.7.6"
  }
 },
 "nbformat": 4,
 "nbformat_minor": 5
}
