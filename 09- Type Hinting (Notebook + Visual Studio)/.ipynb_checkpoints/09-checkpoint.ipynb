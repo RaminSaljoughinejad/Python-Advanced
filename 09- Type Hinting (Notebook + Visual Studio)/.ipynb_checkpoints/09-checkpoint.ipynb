{
 "cells": [
  {
   "cell_type": "markdown",
   "id": "systematic-maker",
   "metadata": {},
   "source": [
    "## Type Hinting\n",
    "Python +3.8<br>\n",
    "(Static and Dynamic Typing)"
   ]
  },
  {
   "cell_type": "markdown",
   "id": "metropolitan-heater",
   "metadata": {},
   "source": [
    "##### The Python runtime does not enforce function and variable type annotations."
   ]
  },
  {
   "cell_type": "code",
   "execution_count": 1,
   "id": "directed-fifty",
   "metadata": {},
   "outputs": [
    {
     "name": "stdout",
     "output_type": "stream",
     "text": [
      "2\n",
      "hello\n"
     ]
    }
   ],
   "source": [
    "x: int = 2\n",
    "print(x)\n",
    "x = \"hello\"\n",
    "print(x)"
   ]
  }
 ],
 "metadata": {
  "kernelspec": {
   "display_name": "Python 3",
   "language": "python",
   "name": "python3"
  },
  "language_info": {
   "codemirror_mode": {
    "name": "ipython",
    "version": 3
   },
   "file_extension": ".py",
   "mimetype": "text/x-python",
   "name": "python",
   "nbconvert_exporter": "python",
   "pygments_lexer": "ipython3",
   "version": "3.7.6"
  }
 },
 "nbformat": 4,
 "nbformat_minor": 5
}
