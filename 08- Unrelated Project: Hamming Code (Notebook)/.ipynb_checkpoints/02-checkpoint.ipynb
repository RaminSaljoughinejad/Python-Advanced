{
 "cells": [
  {
   "cell_type": "markdown",
   "id": "abstract-cooling",
   "metadata": {},
   "source": [
    "## Hamming Code"
   ]
  },
  {
   "cell_type": "markdown",
   "id": "pleasant-decision",
   "metadata": {},
   "source": [
    "### Rechard Hamming\n",
    "<img src=\"images/richard-hamming.jpg\"></img>"
   ]
  },
  {
   "cell_type": "markdown",
   "id": "contrary-deposit",
   "metadata": {},
   "source": [
    "<img src=\"hamming-code.png\" />"
   ]
  },
  {
   "cell_type": "code",
   "execution_count": null,
   "id": "removable-retrieval",
   "metadata": {},
   "outputs": [],
   "source": []
  }
 ],
 "metadata": {
  "kernelspec": {
   "display_name": "Python 3",
   "language": "python",
   "name": "python3"
  },
  "language_info": {
   "codemirror_mode": {
    "name": "ipython",
    "version": 3
   },
   "file_extension": ".py",
   "mimetype": "text/x-python",
   "name": "python",
   "nbconvert_exporter": "python",
   "pygments_lexer": "ipython3",
   "version": "3.7.6"
  }
 },
 "nbformat": 4,
 "nbformat_minor": 5
}
