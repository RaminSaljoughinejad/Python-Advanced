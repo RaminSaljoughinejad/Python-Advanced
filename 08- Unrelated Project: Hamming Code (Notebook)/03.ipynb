{
 "cells": [
  {
   "cell_type": "code",
   "execution_count": 1,
   "id": "fewer-alloy",
   "metadata": {},
   "outputs": [],
   "source": [
    "import numpy as np"
   ]
  },
  {
   "cell_type": "code",
   "execution_count": 2,
   "id": "duplicate-timothy",
   "metadata": {},
   "outputs": [
    {
     "name": "stdout",
     "output_type": "stream",
     "text": [
      "80\n"
     ]
    }
   ],
   "source": [
    "alphabet = list(map(\n",
    "    lambda i:i,\n",
    "    \"abcdefghijklmnopqrstuvwxyzABCDEFGHIJKLMNOPQRSTUVWXYZ0123456789 !@#$%^&*()_+=<>.,\"\n",
    "))\n",
    "length = len(alphabet)\n",
    "print(length)"
   ]
  },
  {
   "cell_type": "code",
   "execution_count": 3,
   "id": "identified-plasma",
   "metadata": {},
   "outputs": [
    {
     "name": "stdout",
     "output_type": "stream",
     "text": [
      "[33, 4, 11, 11, 14, 79, 62, 48, 14, 17, 11, 3, 63]\n",
      "['0b100001', '0b100', '0b1011', '0b1011', '0b1110', '0b1001111', '0b111110', '0b110000', '0b1110', '0b10001', '0b1011', '0b11', '0b111111']\n"
     ]
    }
   ],
   "source": [
    "_str = \"Hello, World!\"\n",
    "binary_rep = []\n",
    "for i in _str:\n",
    "    binary_rep.append(alphabet.index(i))\n",
    "print(binary_rep)\n",
    "binary_rep = [bin(i) for i in binary_rep]\n",
    "print(binary_rep)"
   ]
  },
  {
   "cell_type": "code",
   "execution_count": 8,
   "id": "baking-appeal",
   "metadata": {},
   "outputs": [],
   "source": [
    "def block_creator(binary_code):\n",
    "    # removing 0b from the begining\n",
    "    binary_code = binary_code[2:]\n",
    "    length = len(binary_code)\n",
    "    # adding padding\n",
    "    for i in range(length,11):\n",
    "        binary_code = \"0\" + binary_code\n",
    "    block = np.zeros((4,4), np.int8)\n",
    "    # creating Hamming block\n",
    "    places = [[0,3],[1,1],[1,2],[1,3],[2,1],[2,2],[2,3],[3,0],[3,1],[3,2],[3,3]]\n",
    "    for indx, val in enumerate(binary_code):\n",
    "        row, col = places[indx]\n",
    "        block[row][col] = val\n",
    "    #Q1\n",
    "    if (np.count_nonzero(block[:,1] == 1) + np.count_nonzero(block[:,3] == 1)) % 2:\n",
    "        block[0][1]=1\n",
    "    else:\n",
    "        block[0][1]=0\n",
    "    #Q2\n",
    "    if (np.count_nonzero(block[:,2] == 1) + np.count_nonzero(block[:,3] == 1)) % 2:\n",
    "        block[0][2]=1\n",
    "    else:\n",
    "        block[0][2]=0\n",
    "    #Q3\n",
    "    if (np.count_nonzero(block[1] == 1) + np.count_nonzero(block[3] == 1)) % 2:\n",
    "        block[1][0]=1\n",
    "    else:\n",
    "        block[1][0]=0\n",
    "    #Q4\n",
    "    if (np.count_nonzero(block[2] == 1) + np.count_nonzero(block[3] == 1)) % 2:\n",
    "        block[2][0]=1\n",
    "    else:\n",
    "        block[2][0]=0\n",
    "    return block"
   ]
  },
  {
   "cell_type": "code",
   "execution_count": 9,
   "id": "following-dominant",
   "metadata": {},
   "outputs": [
    {
     "name": "stdout",
     "output_type": "stream",
     "text": [
      "0100100000100001011010010000000001111000000100010111100000010001011110011001000000111011000100010111000110110010000010000010001001111001100100000100000000000011011110000001000100001000000100010001100100110011\n"
     ]
    }
   ],
   "source": [
    "output = \"\"\n",
    "for i in binary_rep:\n",
    "    _list = block_creator(i).flatten(order=\"F\")\n",
    "    _list = _list.tolist()\n",
    "    output += \"\".join([str(i) for i in _list])\n",
    "print(output)"
   ]
  },
  {
   "cell_type": "code",
   "execution_count": null,
   "id": "alike-italic",
   "metadata": {},
   "outputs": [],
   "source": []
  }
 ],
 "metadata": {
  "kernelspec": {
   "display_name": "Python 3",
   "language": "python",
   "name": "python3"
  },
  "language_info": {
   "codemirror_mode": {
    "name": "ipython",
    "version": 3
   },
   "file_extension": ".py",
   "mimetype": "text/x-python",
   "name": "python",
   "nbconvert_exporter": "python",
   "pygments_lexer": "ipython3",
   "version": "3.7.6"
  }
 },
 "nbformat": 4,
 "nbformat_minor": 5
}
