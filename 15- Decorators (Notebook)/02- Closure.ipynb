{
 "cells": [
  {
   "cell_type": "markdown",
   "id": "ed9dcf24",
   "metadata": {},
   "source": [
    "###### Exp1:"
   ]
  },
  {
   "cell_type": "code",
   "execution_count": 1,
   "id": "b3dec291",
   "metadata": {},
   "outputs": [],
   "source": [
    "def outter_function():\n",
    "    message = \"Hi\"\n",
    "    def inner_function():\n",
    "        print(message)\n",
    "    return inner_function()"
   ]
  },
  {
   "cell_type": "code",
   "execution_count": 2,
   "id": "476491a6",
   "metadata": {},
   "outputs": [
    {
     "name": "stdout",
     "output_type": "stream",
     "text": [
      "Hi\n"
     ]
    }
   ],
   "source": [
    "outter_function()"
   ]
  },
  {
   "cell_type": "markdown",
   "id": "177b126d",
   "metadata": {},
   "source": [
    "###### Exp2:"
   ]
  },
  {
   "cell_type": "code",
   "execution_count": 1,
   "id": "fee43854",
   "metadata": {},
   "outputs": [],
   "source": [
    "def outter_function():\n",
    "    message = \"Hi\"\n",
    "    def inner_function():\n",
    "        print(message)\n",
    "    return inner_function"
   ]
  },
  {
   "cell_type": "code",
   "execution_count": 2,
   "id": "ddccf5e7",
   "metadata": {},
   "outputs": [
    {
     "data": {
      "text/plain": [
       "<function __main__.outter_function.<locals>.inner_function()>"
      ]
     },
     "execution_count": 2,
     "metadata": {},
     "output_type": "execute_result"
    }
   ],
   "source": [
    "outter_function()"
   ]
  },
  {
   "cell_type": "code",
   "execution_count": 3,
   "id": "c085946f",
   "metadata": {},
   "outputs": [
    {
     "name": "stdout",
     "output_type": "stream",
     "text": [
      "<function outter_function.<locals>.inner_function at 0x0000022C32E2AAF0>\n"
     ]
    }
   ],
   "source": [
    "my_function = outter_function()\n",
    "print(my_function)"
   ]
  },
  {
   "cell_type": "code",
   "execution_count": 4,
   "id": "0d1deb30",
   "metadata": {},
   "outputs": [
    {
     "name": "stdout",
     "output_type": "stream",
     "text": [
      "inner_function\n"
     ]
    }
   ],
   "source": [
    "print(my_function.__name__)"
   ]
  },
  {
   "cell_type": "code",
   "execution_count": 5,
   "id": "a5ce5dda",
   "metadata": {},
   "outputs": [
    {
     "name": "stdout",
     "output_type": "stream",
     "text": [
      "Hi\n"
     ]
    }
   ],
   "source": [
    "my_function()"
   ]
  },
  {
   "cell_type": "markdown",
   "id": "f72a5e0e",
   "metadata": {},
   "source": [
    "### Closure!\n",
    "A closure is an inner function that remembers and has access to variables in the local scope in which it was created even after the outer function has finished executing."
   ]
  },
  {
   "cell_type": "markdown",
   "id": "952685f5",
   "metadata": {},
   "source": [
    "###### Exp3"
   ]
  },
  {
   "cell_type": "code",
   "execution_count": 1,
   "id": "b2cd778f",
   "metadata": {},
   "outputs": [],
   "source": [
    "def outter_function(message):\n",
    "    def inner_function():\n",
    "        print(message)\n",
    "    return inner_function"
   ]
  },
  {
   "cell_type": "code",
   "execution_count": 2,
   "id": "e7003717",
   "metadata": {},
   "outputs": [],
   "source": [
    "my_func_1 = outter_function(\"Hi\")\n",
    "my_func_2 = outter_function(\"Hello\")"
   ]
  },
  {
   "cell_type": "code",
   "execution_count": 3,
   "id": "f01b6a95",
   "metadata": {},
   "outputs": [
    {
     "name": "stdout",
     "output_type": "stream",
     "text": [
      "Hi\n",
      "Hello\n"
     ]
    }
   ],
   "source": [
    "my_func_1()\n",
    "my_func_2()"
   ]
  }
 ],
 "metadata": {
  "kernelspec": {
   "display_name": "Python 3",
   "language": "python",
   "name": "python3"
  },
  "language_info": {
   "codemirror_mode": {
    "name": "ipython",
    "version": 3
   },
   "file_extension": ".py",
   "mimetype": "text/x-python",
   "name": "python",
   "nbconvert_exporter": "python",
   "pygments_lexer": "ipython3",
   "version": "3.7.6"
  }
 },
 "nbformat": 4,
 "nbformat_minor": 5
}
