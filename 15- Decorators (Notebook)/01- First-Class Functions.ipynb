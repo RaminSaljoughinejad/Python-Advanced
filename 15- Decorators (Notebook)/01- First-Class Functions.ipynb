{
 "cells": [
  {
   "cell_type": "markdown",
   "id": "fa2ee801",
   "metadata": {},
   "source": [
    "## Frist-Class Functions\n",
    "We can say that this programming language supports first-class functions if it treats functions as other objects."
   ]
  },
  {
   "cell_type": "markdown",
   "id": "b4e5e815",
   "metadata": {},
   "source": [
    "###### Exp1:"
   ]
  },
  {
   "cell_type": "code",
   "execution_count": 1,
   "id": "27989c66",
   "metadata": {},
   "outputs": [],
   "source": [
    "def square(x):\n",
    "    return x*x"
   ]
  },
  {
   "cell_type": "code",
   "execution_count": 2,
   "id": "c931cc29",
   "metadata": {},
   "outputs": [],
   "source": [
    "f = square(2)"
   ]
  },
  {
   "cell_type": "code",
   "execution_count": 3,
   "id": "b8e158fb",
   "metadata": {},
   "outputs": [
    {
     "name": "stdout",
     "output_type": "stream",
     "text": [
      "4\n",
      "<function square at 0x00000202B7FB4700>\n"
     ]
    }
   ],
   "source": [
    "print(f)\n",
    "print(square)"
   ]
  },
  {
   "cell_type": "markdown",
   "id": "c0a273dd",
   "metadata": {},
   "source": [
    "###### Exp2:"
   ]
  },
  {
   "cell_type": "code",
   "execution_count": 1,
   "id": "4df2b635",
   "metadata": {},
   "outputs": [],
   "source": [
    "def square(x):\n",
    "    return x*x"
   ]
  },
  {
   "cell_type": "code",
   "execution_count": 2,
   "id": "69a68e41",
   "metadata": {},
   "outputs": [],
   "source": [
    "f = square"
   ]
  },
  {
   "cell_type": "code",
   "execution_count": 3,
   "id": "6d0144bc",
   "metadata": {},
   "outputs": [
    {
     "name": "stdout",
     "output_type": "stream",
     "text": [
      "<function square at 0x000002741CF1B940>\n",
      "<function square at 0x000002741CF1B940>\n"
     ]
    }
   ],
   "source": [
    "print(f)\n",
    "print(square)"
   ]
  },
  {
   "cell_type": "code",
   "execution_count": 4,
   "id": "20c7ea2d",
   "metadata": {},
   "outputs": [
    {
     "name": "stdout",
     "output_type": "stream",
     "text": [
      "2697725065536\n",
      "2697725065536\n"
     ]
    }
   ],
   "source": [
    "print(id(f))\n",
    "print(id(square))"
   ]
  },
  {
   "cell_type": "markdown",
   "id": "71be2ed4",
   "metadata": {},
   "source": [
    "###### Exp3:"
   ]
  },
  {
   "cell_type": "code",
   "execution_count": 1,
   "id": "9f8d980a",
   "metadata": {},
   "outputs": [],
   "source": [
    "def square(x):\n",
    "    return x*x"
   ]
  },
  {
   "cell_type": "code",
   "execution_count": 2,
   "id": "22e21dce",
   "metadata": {},
   "outputs": [],
   "source": [
    "f = square"
   ]
  },
  {
   "cell_type": "code",
   "execution_count": 3,
   "id": "81d3ef79",
   "metadata": {},
   "outputs": [
    {
     "name": "stdout",
     "output_type": "stream",
     "text": [
      "4\n",
      "4\n"
     ]
    }
   ],
   "source": [
    "print(f(2))\n",
    "print(square(2))"
   ]
  },
  {
   "cell_type": "markdown",
   "id": "90f8a356",
   "metadata": {},
   "source": [
    "###### Exp4:"
   ]
  },
  {
   "cell_type": "code",
   "execution_count": 1,
   "id": "0d263818",
   "metadata": {},
   "outputs": [],
   "source": [
    "def square(x):\n",
    "    return x*x\n",
    "def cube(x):\n",
    "    return x*x*x\n",
    "def my_map(func, num_list):\n",
    "    results = []\n",
    "    for i in num_list:\n",
    "        results.append(func(i))\n",
    "    return results"
   ]
  },
  {
   "cell_type": "code",
   "execution_count": 2,
   "id": "6debe1aa",
   "metadata": {},
   "outputs": [
    {
     "name": "stdout",
     "output_type": "stream",
     "text": [
      "[1, 4, 9, 16, 25, 36, 49, 64, 81]\n",
      "[1, 8, 27, 64, 125, 216, 343, 512, 729]\n"
     ]
    }
   ],
   "source": [
    "res1 = my_map(square, [1,2,3,4,5,6,7,8,9])\n",
    "res2 = my_map(cube, [1,2,3,4,5,6,7,8,9])\n",
    "print(res1)\n",
    "print(res2)"
   ]
  }
 ],
 "metadata": {
  "kernelspec": {
   "display_name": "Python 3",
   "language": "python",
   "name": "python3"
  },
  "language_info": {
   "codemirror_mode": {
    "name": "ipython",
    "version": 3
   },
   "file_extension": ".py",
   "mimetype": "text/x-python",
   "name": "python",
   "nbconvert_exporter": "python",
   "pygments_lexer": "ipython3",
   "version": "3.7.6"
  }
 },
 "nbformat": 4,
 "nbformat_minor": 5
}
