{
 "cells": [
  {
   "cell_type": "markdown",
   "id": "4be8a742",
   "metadata": {},
   "source": [
    "###### Exp1:"
   ]
  },
  {
   "cell_type": "code",
   "execution_count": null,
   "id": "dbd173e3",
   "metadata": {},
   "outputs": [],
   "source": [
    "def outter_function(message):\n",
    "    def inner_function():\n",
    "        print(message)\n",
    "    return inner_function"
   ]
  },
  {
   "cell_type": "code",
   "execution_count": null,
   "id": "49283c8c",
   "metadata": {},
   "outputs": [],
   "source": [
    "def decorator_function(message):\n",
    "    def wrapper_function():\n",
    "        print(message)\n",
    "    return inner_function"
   ]
  },
  {
   "cell_type": "code",
   "execution_count": 1,
   "id": "2dca5483",
   "metadata": {},
   "outputs": [],
   "source": [
    "def decorator_function(original_function):\n",
    "    def wrapper_function():\n",
    "        print(\"Wrapper ran!\")\n",
    "        return original_function()\n",
    "    return wrapper_function"
   ]
  },
  {
   "cell_type": "code",
   "execution_count": 2,
   "id": "e54e4960",
   "metadata": {},
   "outputs": [],
   "source": [
    "def hello_function():\n",
    "    print(\"hello function ran!\")"
   ]
  },
  {
   "cell_type": "code",
   "execution_count": 3,
   "id": "c56416b4",
   "metadata": {},
   "outputs": [],
   "source": [
    "decorated_hello_function = decorator_function(hello_function)"
   ]
  },
  {
   "cell_type": "code",
   "execution_count": 4,
   "id": "48eabf16",
   "metadata": {},
   "outputs": [
    {
     "name": "stdout",
     "output_type": "stream",
     "text": [
      "Wrapper ran!\n",
      "hello function ran!\n"
     ]
    }
   ],
   "source": [
    "decorated_hello_function()"
   ]
  },
  {
   "cell_type": "code",
   "execution_count": 5,
   "id": "da46caa8",
   "metadata": {},
   "outputs": [
    {
     "name": "stdout",
     "output_type": "stream",
     "text": [
      "hello function ran!\n"
     ]
    }
   ],
   "source": [
    "hello_function()"
   ]
  },
  {
   "cell_type": "markdown",
   "id": "ecdc4176",
   "metadata": {},
   "source": [
    "###### Exp2:"
   ]
  },
  {
   "cell_type": "code",
   "execution_count": 1,
   "id": "29a0176e",
   "metadata": {},
   "outputs": [],
   "source": [
    "def decorator_function(original_function):\n",
    "    def wrapper_function():\n",
    "        print(\"Wrapper ran!\")\n",
    "        return original_function()\n",
    "    return wrapper_function\n",
    "\n",
    "@decorator_function\n",
    "def hello_function():\n",
    "    print(\"hello function ran!\")"
   ]
  },
  {
   "cell_type": "code",
   "execution_count": 2,
   "id": "f9b8c6b1",
   "metadata": {},
   "outputs": [
    {
     "name": "stdout",
     "output_type": "stream",
     "text": [
      "Wrapper ran!\n",
      "hello function ran!\n"
     ]
    }
   ],
   "source": [
    "hello_function()"
   ]
  }
 ],
 "metadata": {
  "kernelspec": {
   "display_name": "Python 3",
   "language": "python",
   "name": "python3"
  },
  "language_info": {
   "codemirror_mode": {
    "name": "ipython",
    "version": 3
   },
   "file_extension": ".py",
   "mimetype": "text/x-python",
   "name": "python",
   "nbconvert_exporter": "python",
   "pygments_lexer": "ipython3",
   "version": "3.7.6"
  }
 },
 "nbformat": 4,
 "nbformat_minor": 5
}
