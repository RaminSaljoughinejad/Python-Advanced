{
 "cells": [
  {
   "cell_type": "code",
   "execution_count": 1,
   "id": "fewer-alloy",
   "metadata": {},
   "outputs": [],
   "source": [
    "import numpy as np"
   ]
  },
  {
   "cell_type": "code",
   "execution_count": 2,
   "id": "duplicate-timothy",
   "metadata": {},
   "outputs": [
    {
     "name": "stdout",
     "output_type": "stream",
     "text": [
      "80\n"
     ]
    }
   ],
   "source": [
    "alphabet = list(map(\n",
    "    lambda i:i,\n",
    "    \"abcdefghijklmnopqrstuvwxyzABCDEFGHIJKLMNOPQRSTUVWXYZ0123456789 !@#$%^&*()_+=<>.,\"\n",
    "))\n",
    "length = len(alphabet)\n",
    "print(length)"
   ]
  },
  {
   "cell_type": "code",
   "execution_count": 3,
   "id": "identified-plasma",
   "metadata": {},
   "outputs": [
    {
     "name": "stdout",
     "output_type": "stream",
     "text": [
      "[33, 4, 11, 11, 14, 79, 62, 48, 14, 17, 11, 3, 63]\n",
      "['0b100001', '0b100', '0b1011', '0b1011', '0b1110', '0b1001111', '0b111110', '0b110000', '0b1110', '0b10001', '0b1011', '0b11', '0b111111']\n"
     ]
    }
   ],
   "source": [
    "_str = \"Hello, World!\"\n",
    "binary_rep = []\n",
    "for i in _str:\n",
    "    binary_rep.append(alphabet.index(i))\n",
    "print(binary_rep)\n",
    "binary_rep = [bin(i) for i in binary_rep]\n",
    "print(binary_rep)"
   ]
  },
  {
   "cell_type": "code",
   "execution_count": 4,
   "id": "baking-appeal",
   "metadata": {},
   "outputs": [],
   "source": [
    "def block_creator(binary_code):\n",
    "    binary_code = binary_code[2:]\n",
    "    block = np.zeros((4,4), np.int8)\n",
    "    places = [[0,3],[1,1],[1,2],[1,3],[2,1],[2,2],[2,3],[3,0],[3,1],[3,2],[3,3]]\n",
    "    for indx, val in enumerate(binary_code):\n",
    "        row, col = places[indx]\n",
    "        block[row][col] = val\n",
    "    #Q1\n",
    "    if (np.count_nonzero(block[:,1] == 1) + np.count_nonzero(block[:,3] == 1)) % 2:\n",
    "        block[0][1]=1\n",
    "    else:\n",
    "        block[0][1]=0\n",
    "    #Q2\n",
    "    if (np.count_nonzero(block[:,2] == 1) + np.count_nonzero(block[:,3] == 1)) % 2:\n",
    "        block[0][2]=1\n",
    "    else:\n",
    "        block[0][2]=0\n",
    "    #Q3\n",
    "    if (np.count_nonzero(block[1] == 1) + np.count_nonzero(block[3] == 1)) % 2:\n",
    "        block[1][0]=1\n",
    "    else:\n",
    "        block[1][0]=0\n",
    "    #Q4\n",
    "    if (np.count_nonzero(block[2] == 1) + np.count_nonzero(block[3] == 1)) % 2:\n",
    "        block[2][0]=1\n",
    "    else:\n",
    "        block[2][0]=0\n",
    "    return block"
   ]
  },
  {
   "cell_type": "code",
   "execution_count": 5,
   "id": "following-dominant",
   "metadata": {},
   "outputs": [
    {
     "name": "stdout",
     "output_type": "stream",
     "text": [
      "0010100000101000000010001000100000000000110011000000000011001100000001000100100001100010001011100110011011001100010001001000100000000100010010000010001010001000000000001100110001000100100010000100011001101100\n"
     ]
    }
   ],
   "source": [
    "output = \"\"\n",
    "for i in binary_rep:\n",
    "    _list = block_creator(i).flatten(order=\"F\")\n",
    "    _list = _list.tolist()\n",
    "    output += \"\".join([str(i) for i in _list])\n",
    "print(output)"
   ]
  }
 ],
 "metadata": {
  "kernelspec": {
   "display_name": "Python 3",
   "language": "python",
   "name": "python3"
  },
  "language_info": {
   "codemirror_mode": {
    "name": "ipython",
    "version": 3
   },
   "file_extension": ".py",
   "mimetype": "text/x-python",
   "name": "python",
   "nbconvert_exporter": "python",
   "pygments_lexer": "ipython3",
   "version": "3.7.6"
  }
 },
 "nbformat": 4,
 "nbformat_minor": 5
}
