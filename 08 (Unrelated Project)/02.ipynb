{
 "cells": [
  {
   "cell_type": "markdown",
   "id": "beautiful-investor",
   "metadata": {},
   "source": [
    "### Richard Hamming\n",
    "<div style='margin-top:30px'>\n",
    "<img src=\"images/richard-hamming.jpg\" style=\"float:left\">\n",
    "<p style=\"float:left;margin-left:50px;width:700px;text-align: justify\">Richard Wesley Hamming (February 11, 1915 – January 7, 1998) was an American mathematician whose work had many implications for computer engineering and telecommunications. His contributions include the Hamming code (which makes use of a Hamming matrix), the Hamming window, Hamming numbers, sphere-packing (or Hamming bound), and the Hamming distance. [Wiki]</p>\n",
    "</div>"
   ]
  },
  {
   "cell_type": "markdown",
   "id": "precise-nancy",
   "metadata": {},
   "source": [
    "<h3 style='color:orange'>Error Correction Codes</h3>"
   ]
  },
  {
   "cell_type": "markdown",
   "id": "plastic-progress",
   "metadata": {},
   "source": [
    "<img src=\"images/hamming-code.png\" />"
   ]
  },
  {
   "cell_type": "code",
   "execution_count": null,
   "id": "imported-inspiration",
   "metadata": {},
   "outputs": [],
   "source": []
  }
 ],
 "metadata": {
  "kernelspec": {
   "display_name": "Python 3",
   "language": "python",
   "name": "python3"
  },
  "language_info": {
   "codemirror_mode": {
    "name": "ipython",
    "version": 3
   },
   "file_extension": ".py",
   "mimetype": "text/x-python",
   "name": "python",
   "nbconvert_exporter": "python",
   "pygments_lexer": "ipython3",
   "version": "3.7.6"
  }
 },
 "nbformat": 4,
 "nbformat_minor": 5
}
