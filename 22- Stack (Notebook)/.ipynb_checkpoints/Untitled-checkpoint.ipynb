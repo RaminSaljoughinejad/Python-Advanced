{
 "cells": [
  {
   "cell_type": "markdown",
   "id": "053ba861",
   "metadata": {},
   "source": [
    "###### EXP1:"
   ]
  },
  {
   "cell_type": "code",
   "execution_count": 1,
   "id": "f9ad92d2",
   "metadata": {},
   "outputs": [],
   "source": [
    "_list = [1,2,3,4,5,6]"
   ]
  },
  {
   "cell_type": "code",
   "execution_count": 2,
   "id": "6d767f6c",
   "metadata": {},
   "outputs": [
    {
     "data": {
      "text/plain": [
       "6"
      ]
     },
     "execution_count": 2,
     "metadata": {},
     "output_type": "execute_result"
    }
   ],
   "source": [
    "_list.pop()"
   ]
  },
  {
   "cell_type": "code",
   "execution_count": 3,
   "id": "777d31fc",
   "metadata": {},
   "outputs": [
    {
     "name": "stdout",
     "output_type": "stream",
     "text": [
      "[1, 2, 3, 4, 5]\n"
     ]
    }
   ],
   "source": [
    "print(_list)"
   ]
  },
  {
   "cell_type": "code",
   "execution_count": 4,
   "id": "d7f591d4",
   "metadata": {},
   "outputs": [],
   "source": [
    "_list.append(7)"
   ]
  },
  {
   "cell_type": "code",
   "execution_count": 5,
   "id": "365be42c",
   "metadata": {},
   "outputs": [
    {
     "data": {
      "text/plain": [
       "[1, 2, 3, 4, 5, 7]"
      ]
     },
     "execution_count": 5,
     "metadata": {},
     "output_type": "execute_result"
    }
   ],
   "source": [
    "_list"
   ]
  },
  {
   "cell_type": "markdown",
   "id": "91168da0",
   "metadata": {},
   "source": [
    "###### EXP2:"
   ]
  },
  {
   "cell_type": "code",
   "execution_count": 6,
   "id": "ce7c947f",
   "metadata": {},
   "outputs": [],
   "source": [
    "from collections import deque"
   ]
  },
  {
   "cell_type": "code",
   "execution_count": 7,
   "id": "f152578c",
   "metadata": {},
   "outputs": [],
   "source": [
    "my_stack = deque()"
   ]
  },
  {
   "cell_type": "code",
   "execution_count": 8,
   "id": "986861e0",
   "metadata": {},
   "outputs": [],
   "source": [
    "my_stack.append(2)\n",
    "my_stack.append(4)"
   ]
  },
  {
   "cell_type": "code",
   "execution_count": 9,
   "id": "32e15bb9",
   "metadata": {},
   "outputs": [
    {
     "data": {
      "text/plain": [
       "deque([2, 4])"
      ]
     },
     "execution_count": 9,
     "metadata": {},
     "output_type": "execute_result"
    }
   ],
   "source": [
    "my_stack"
   ]
  },
  {
   "cell_type": "code",
   "execution_count": 10,
   "id": "1b0d8569",
   "metadata": {},
   "outputs": [
    {
     "data": {
      "text/plain": [
       "4"
      ]
     },
     "execution_count": 10,
     "metadata": {},
     "output_type": "execute_result"
    }
   ],
   "source": [
    "my_stack.pop()"
   ]
  },
  {
   "cell_type": "code",
   "execution_count": 11,
   "id": "ba1ee11b",
   "metadata": {},
   "outputs": [
    {
     "data": {
      "text/plain": [
       "deque([2])"
      ]
     },
     "execution_count": 11,
     "metadata": {},
     "output_type": "execute_result"
    }
   ],
   "source": [
    "my_stack"
   ]
  },
  {
   "cell_type": "markdown",
   "id": "0a30e90a",
   "metadata": {},
   "source": [
    "###### EXP3"
   ]
  },
  {
   "cell_type": "code",
   "execution_count": 3,
   "id": "c1016e81",
   "metadata": {},
   "outputs": [],
   "source": [
    "import logging\n",
    "from collections import deque\n",
    "logging.basicConfig(format=\" %(levelname)s: %(msg)s\")\n",
    "class Stack:\n",
    "    def __init__(self):\n",
    "        self.container = deque()\n",
    "        \n",
    "    def push(self,value):\n",
    "        self.container.append(value)\n",
    "        \n",
    "    def pop(self):\n",
    "        try:\n",
    "            return self.container.pop()\n",
    "        except:\n",
    "            logging.warning(\"Empty Queue\")\n",
    "    \n",
    "    def peek(self):\n",
    "        return self.container[-1]\n",
    "    \n",
    "    def isempty(self):\n",
    "        if len(self.container):\n",
    "            return True\n",
    "        else:\n",
    "            return False\n",
    "    def __len__(self):\n",
    "        return len(self.container)\n",
    "    def __repr__(self):\n",
    "        return f\"{self.container}\""
   ]
  },
  {
   "cell_type": "code",
   "execution_count": 4,
   "id": "b8cd4907",
   "metadata": {},
   "outputs": [],
   "source": [
    "my_stack = Stack()\n",
    "my_stack.push(2)\n",
    "my_stack.push(0)\n",
    "my_stack.push(9)"
   ]
  },
  {
   "cell_type": "code",
   "execution_count": 5,
   "id": "71566719",
   "metadata": {},
   "outputs": [
    {
     "data": {
      "text/plain": [
       "deque([2, 0, 9])"
      ]
     },
     "execution_count": 5,
     "metadata": {},
     "output_type": "execute_result"
    }
   ],
   "source": [
    "my_stack"
   ]
  },
  {
   "cell_type": "code",
   "execution_count": 11,
   "id": "32665151",
   "metadata": {},
   "outputs": [
    {
     "name": "stderr",
     "output_type": "stream",
     "text": [
      " WARNING: Empty Queue\n"
     ]
    }
   ],
   "source": [
    "my_stack.pop()"
   ]
  },
  {
   "cell_type": "code",
   "execution_count": 7,
   "id": "643df10a",
   "metadata": {},
   "outputs": [
    {
     "data": {
      "text/plain": [
       "deque([2, 0])"
      ]
     },
     "execution_count": 7,
     "metadata": {},
     "output_type": "execute_result"
    }
   ],
   "source": [
    "my_stack"
   ]
  }
 ],
 "metadata": {
  "kernelspec": {
   "display_name": "Python 3 (ipykernel)",
   "language": "python",
   "name": "python3"
  },
  "language_info": {
   "codemirror_mode": {
    "name": "ipython",
    "version": 3
   },
   "file_extension": ".py",
   "mimetype": "text/x-python",
   "name": "python",
   "nbconvert_exporter": "python",
   "pygments_lexer": "ipython3",
   "version": "3.9.12"
  }
 },
 "nbformat": 4,
 "nbformat_minor": 5
}
