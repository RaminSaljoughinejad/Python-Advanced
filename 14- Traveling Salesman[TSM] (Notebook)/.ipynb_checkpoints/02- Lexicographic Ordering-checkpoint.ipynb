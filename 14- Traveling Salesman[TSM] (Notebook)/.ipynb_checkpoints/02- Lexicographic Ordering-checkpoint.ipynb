{
 "cells": [
  {
   "cell_type": "markdown",
   "metadata": {},
   "source": [
    "Lexicographic Ordering"
   ]
  },
  {
   "cell_type": "markdown",
   "metadata": {},
   "source": [
    "https://www.quora.com/How-would-you-explain-an-algorithm-that-generates-permutations-using-lexicographic-ordering"
   ]
  },
  {
   "cell_type": "markdown",
   "metadata": {
    "vscode": {
     "languageId": "plaintext"
    }
   },
   "source": [
    "Algorithm Phases:<br>\n",
    "<ol>\n",
    "    <li>Find the largest x such that p[x] < p[x+1].</li>\n",
    "        (If no such x exists, the permutation is the last permutation.) -> break statement\n",
    "    <li>Find the largest y such that p[x] < p[y].</li>\n",
    "    <li>Swap p[x] and p[y].</li>\n",
    "    <li>Reverse P[x+1 .. n].</li>\n",
    "    <li>Loop untill break statement reaches.</li>\n",
    "</ol>"
   ]
  },
  {
   "cell_type": "code",
   "execution_count": 8,
   "metadata": {},
   "outputs": [],
   "source": [
    "def swap(_list, index1, index2):\n",
    "    _list[index1], _list[index2] = _list[index2], _list[index1]\n",
    "    return _list"
   ]
  },
  {
   "cell_type": "code",
   "execution_count": 16,
   "metadata": {},
   "outputs": [
    {
     "name": "stdout",
     "output_type": "stream",
     "text": [
      "[0, 1, 2, 3]\n",
      "[0, 1, 3, 2]\n",
      "[0, 2, 1, 3]\n",
      "[0, 2, 3, 1]\n",
      "[0, 3, 1, 2]\n",
      "[0, 3, 2, 1]\n",
      "[1, 0, 2, 3]\n",
      "[1, 0, 3, 2]\n",
      "[1, 2, 0, 3]\n",
      "[1, 2, 3, 0]\n",
      "[1, 3, 0, 2]\n",
      "[1, 3, 2, 0]\n",
      "[2, 0, 1, 3]\n",
      "[2, 0, 3, 1]\n",
      "[2, 1, 0, 3]\n",
      "[2, 1, 3, 0]\n",
      "[2, 3, 0, 1]\n",
      "[2, 3, 1, 0]\n",
      "[3, 0, 1, 2]\n",
      "[3, 0, 2, 1]\n",
      "[3, 1, 0, 2]\n",
      "[3, 1, 2, 0]\n",
      "[3, 2, 0, 1]\n",
      "[3, 2, 1, 0]\n"
     ]
    }
   ],
   "source": [
    "items = [0, 1, 2, 3]\n",
    "print(items)\n",
    "while True:\n",
    "    #step 1\n",
    "    largets_i = -1\n",
    "    for i in range(len(items)-1):\n",
    "        if items[i] < items[i+1]:\n",
    "            largets_i = i\n",
    "    if largets_i == -1:\n",
    "        break\n",
    "\n",
    "    #step 2\n",
    "    largest_j = 0\n",
    "    for j in range(len(items)):\n",
    "        if items[largets_i] < items[j]:\n",
    "            largest_j = j\n",
    "\n",
    "    #step 3\n",
    "    items = swap(items, largets_i, largest_j)\n",
    "\n",
    "    #step 4\n",
    "    left_half = items[:largets_i+1]\n",
    "    right_half = items[largets_i+1:]\n",
    "    right_half.reverse()\n",
    "    items = left_half + right_half\n",
    "\n",
    "    print(items)"
   ]
  }
 ],
 "metadata": {
  "interpreter": {
   "hash": "b3ba2566441a7c06988d0923437866b63cedc61552a5af99d1f4fb67d367b25f"
  },
  "kernelspec": {
   "display_name": "Python 3",
   "language": "python",
   "name": "python3"
  },
  "language_info": {
   "codemirror_mode": {
    "name": "ipython",
    "version": 3
   },
   "file_extension": ".py",
   "mimetype": "text/x-python",
   "name": "python",
   "nbconvert_exporter": "python",
   "pygments_lexer": "ipython3",
   "version": "3.7.6"
  }
 },
 "nbformat": 4,
 "nbformat_minor": 2
}
