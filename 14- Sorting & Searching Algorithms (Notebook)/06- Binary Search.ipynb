{
 "cells": [
  {
   "cell_type": "markdown",
   "id": "fallen-disney",
   "metadata": {},
   "source": [
    "## Binary Search"
   ]
  },
  {
   "cell_type": "code",
   "execution_count": 1,
   "id": "adjacent-challenge",
   "metadata": {},
   "outputs": [
    {
     "name": "stdout",
     "output_type": "stream",
     "text": [
      "[1, 3, 4, 7, 8, 9, 12, 45, 67, 83]\n"
     ]
    }
   ],
   "source": [
    "_list = [1,3,4,7,8,9,12,45,67,83]\n",
    "print(_list)"
   ]
  },
  {
   "cell_type": "code",
   "execution_count": 2,
   "id": "naval-absolute",
   "metadata": {},
   "outputs": [],
   "source": [
    "def binary_search(_list,i):\n",
    "    length = len(_list)\n",
    "    if length <= 1:\n",
    "        if _list[0] == i:\n",
    "            return \"Found\"\n",
    "        else:\n",
    "            return \"Not Found\"\n",
    "    else:\n",
    "        mid = length // 2\n",
    "        if _list[mid]==i:\n",
    "            return \"Found\"\n",
    "        elif _list[mid]>i:\n",
    "            return binary_search(_list[:mid],i)\n",
    "        else:\n",
    "            return binary_search(_list[mid:],i)"
   ]
  },
  {
   "cell_type": "code",
   "execution_count": 3,
   "id": "decimal-device",
   "metadata": {},
   "outputs": [
    {
     "name": "stdout",
     "output_type": "stream",
     "text": [
      "Not Found\n"
     ]
    }
   ],
   "source": [
    "print(binary_search(_list,11))"
   ]
  }
 ],
 "metadata": {
  "kernelspec": {
   "display_name": "Python 3",
   "language": "python",
   "name": "python3"
  },
  "language_info": {
   "codemirror_mode": {
    "name": "ipython",
    "version": 3
   },
   "file_extension": ".py",
   "mimetype": "text/x-python",
   "name": "python",
   "nbconvert_exporter": "python",
   "pygments_lexer": "ipython3",
   "version": "3.7.6"
  }
 },
 "nbformat": 4,
 "nbformat_minor": 5
}
