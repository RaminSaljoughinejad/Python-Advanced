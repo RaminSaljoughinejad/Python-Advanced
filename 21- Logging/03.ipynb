{
 "cells": [
  {
   "cell_type": "markdown",
   "id": "b41b9a1a",
   "metadata": {},
   "source": [
    "###### https://docs.python.org/3/library/logging.html"
   ]
  },
  {
   "cell_type": "code",
   "execution_count": 1,
   "id": "42ab8196",
   "metadata": {},
   "outputs": [],
   "source": [
    "import logging"
   ]
  },
  {
   "cell_type": "code",
   "execution_count": 2,
   "id": "a97d0d95",
   "metadata": {},
   "outputs": [],
   "source": [
    "logging.basicConfig(filename='test.log',\n",
    "                    level=logging.DEBUG,\n",
    "                    format=\"%(asctime)s:%(levelname)s:%(message)s\")"
   ]
  },
  {
   "cell_type": "code",
   "execution_count": 3,
   "id": "2c2c5889",
   "metadata": {},
   "outputs": [],
   "source": [
    "def square(x):\n",
    "    return x*x\n",
    "\n",
    "def cube(x):\n",
    "    return x*x*x"
   ]
  },
  {
   "cell_type": "code",
   "execution_count": 4,
   "id": "7a078fec",
   "metadata": {},
   "outputs": [],
   "source": [
    "x = 2\n",
    "\n",
    "res1 = square(x)\n",
    "res2 = cube(x)\n",
    "\n",
    "logging.debug(f\"Square: {x} * {x} = {res1}\")\n",
    "logging.debug(f\"Cube: {x} * {x} * {x} = {res2}\")"
   ]
  }
 ],
 "metadata": {
  "kernelspec": {
   "display_name": "Python 3",
   "language": "python",
   "name": "python3"
  },
  "language_info": {
   "codemirror_mode": {
    "name": "ipython",
    "version": 3
   },
   "file_extension": ".py",
   "mimetype": "text/x-python",
   "name": "python",
   "nbconvert_exporter": "python",
   "pygments_lexer": "ipython3",
   "version": "3.7.6"
  }
 },
 "nbformat": 4,
 "nbformat_minor": 5
}
