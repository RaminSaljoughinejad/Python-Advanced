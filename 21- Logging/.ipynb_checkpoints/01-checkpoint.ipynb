{
 "cells": [
  {
   "cell_type": "markdown",
   "id": "b23aa75a",
   "metadata": {},
   "source": [
    "## Logging"
   ]
  },
  {
   "cell_type": "markdown",
   "id": "d28d7986",
   "metadata": {},
   "source": [
    "<img src=\"levels.png\" />"
   ]
  },
  {
   "cell_type": "markdown",
   "id": "d6882c9b",
   "metadata": {},
   "source": [
    "###### Exp1:"
   ]
  },
  {
   "cell_type": "code",
   "execution_count": 1,
   "id": "7db43700",
   "metadata": {},
   "outputs": [],
   "source": [
    "def square(x):\n",
    "    return x*x\n",
    "\n",
    "def cube(x):\n",
    "    return x*x*x"
   ]
  },
  {
   "cell_type": "code",
   "execution_count": 2,
   "id": "f7c55981",
   "metadata": {},
   "outputs": [
    {
     "name": "stdout",
     "output_type": "stream",
     "text": [
      "Square: 2 * 2 = 4\n",
      "Cube: 2 * 2 * 2 = 8\n"
     ]
    }
   ],
   "source": [
    "x = 2\n",
    "\n",
    "res1 = square(x)\n",
    "res2 = cube(x)\n",
    "\n",
    "print(f\"Square: {x} * {x} = {res1}\")\n",
    "print(f\"Cube: {x} * {x} * {x} = {res2}\")"
   ]
  },
  {
   "cell_type": "markdown",
   "id": "fd297575",
   "metadata": {},
   "source": [
    "###### Exp2:"
   ]
  },
  {
   "cell_type": "code",
   "execution_count": 3,
   "id": "05a1f6db",
   "metadata": {},
   "outputs": [],
   "source": [
    "import logging"
   ]
  },
  {
   "cell_type": "code",
   "execution_count": 4,
   "id": "dbc2091c",
   "metadata": {},
   "outputs": [],
   "source": [
    "x = 2\n",
    "\n",
    "res1 = square(x)\n",
    "res2 = cube(x)\n",
    "\n",
    "logging.debug(f\"Square: {x} * {x} = {res1}\")\n",
    "logging.debug(f\"Cube: {x} * {x} * {x} = {res2}\")"
   ]
  },
  {
   "cell_type": "code",
   "execution_count": 5,
   "id": "e6091433",
   "metadata": {},
   "outputs": [
    {
     "name": "stderr",
     "output_type": "stream",
     "text": [
      "WARNING:root:Square: 2 * 2 = 4\n",
      "WARNING:root:Cube: 2 * 2 * 2 = 8\n"
     ]
    }
   ],
   "source": [
    "x = 2\n",
    "\n",
    "res1 = square(x)\n",
    "res2 = cube(x)\n",
    "\n",
    "logging.warning(f\"Square: {x} * {x} = {res1}\")\n",
    "logging.warning(f\"Cube: {x} * {x} * {x} = {res2}\")"
   ]
  },
  {
   "cell_type": "markdown",
   "id": "1c3d5a9b",
   "metadata": {},
   "source": [
    "###### Exp3:"
   ]
  },
  {
   "cell_type": "code",
   "execution_count": 1,
   "id": "6bff4e3a",
   "metadata": {},
   "outputs": [],
   "source": [
    "import logging"
   ]
  },
  {
   "cell_type": "code",
   "execution_count": 2,
   "id": "6012adcc",
   "metadata": {},
   "outputs": [],
   "source": [
    "logging.basicConfig(level=logging.DEBUG)"
   ]
  },
  {
   "cell_type": "code",
   "execution_count": 3,
   "id": "4b05cbb6",
   "metadata": {},
   "outputs": [],
   "source": [
    "def square(x):\n",
    "    return x*x\n",
    "\n",
    "def cube(x):\n",
    "    return x*x*x"
   ]
  },
  {
   "cell_type": "code",
   "execution_count": 4,
   "id": "90082aaf",
   "metadata": {},
   "outputs": [
    {
     "name": "stderr",
     "output_type": "stream",
     "text": [
      "DEBUG:root:Square: 2 * 2 = 4\n",
      "DEBUG:root:Cube: 2 * 2 * 2 = 8\n"
     ]
    }
   ],
   "source": [
    "x = 2\n",
    "\n",
    "res1 = square(x)\n",
    "res2 = cube(x)\n",
    "\n",
    "logging.debug(f\"Square: {x} * {x} = {res1}\")\n",
    "logging.debug(f\"Cube: {x} * {x} * {x} = {res2}\")"
   ]
  }
 ],
 "metadata": {
  "kernelspec": {
   "display_name": "Python 3 (ipykernel)",
   "language": "python",
   "name": "python3"
  },
  "language_info": {
   "codemirror_mode": {
    "name": "ipython",
    "version": 3
   },
   "file_extension": ".py",
   "mimetype": "text/x-python",
   "name": "python",
   "nbconvert_exporter": "python",
   "pygments_lexer": "ipython3",
   "version": "3.9.12"
  }
 },
 "nbformat": 4,
 "nbformat_minor": 5
}
