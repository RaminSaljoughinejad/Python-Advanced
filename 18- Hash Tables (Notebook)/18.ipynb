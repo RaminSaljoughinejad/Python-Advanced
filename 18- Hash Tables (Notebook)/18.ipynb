{
 "cells": [
  {
   "cell_type": "markdown",
   "id": "brilliant-commodity",
   "metadata": {},
   "source": [
    "## Hash Tables"
   ]
  },
  {
   "cell_type": "markdown",
   "id": "objective-debate",
   "metadata": {},
   "source": [
    "###### Exp1:"
   ]
  },
  {
   "cell_type": "code",
   "execution_count": 1,
   "id": "impressive-dividend",
   "metadata": {},
   "outputs": [],
   "source": [
    "_list = []\n",
    "with open(\"sold.txt\") as f:\n",
    "    for row in f:\n",
    "        i = row.split(\", \")\n",
    "        i[1] = int(i[1])\n",
    "        _list.append(i)"
   ]
  },
  {
   "cell_type": "code",
   "execution_count": 2,
   "id": "fifth-specification",
   "metadata": {},
   "outputs": [
    {
     "data": {
      "text/plain": [
       "[['Asus', 12],\n",
       " ['Samsung', 18],\n",
       " ['Dell', 5],\n",
       " ['Lenovo', 25],\n",
       " ['Apple', 2],\n",
       " ['HP', 14],\n",
       " ['Acer', 3],\n",
       " ['Sony', 6]]"
      ]
     },
     "execution_count": 2,
     "metadata": {},
     "output_type": "execute_result"
    }
   ],
   "source": [
    "_list"
   ]
  },
  {
   "cell_type": "markdown",
   "id": "apparent-montreal",
   "metadata": {},
   "source": [
    "###### Complexity: O(n)"
   ]
  },
  {
   "cell_type": "code",
   "execution_count": 3,
   "id": "thick-effect",
   "metadata": {},
   "outputs": [
    {
     "name": "stdout",
     "output_type": "stream",
     "text": [
      "18\n"
     ]
    }
   ],
   "source": [
    "for i in _list:\n",
    "    if i[0]==\"Samsung\":\n",
    "        print(i[1])\n",
    "        break"
   ]
  },
  {
   "cell_type": "markdown",
   "id": "third-subscriber",
   "metadata": {},
   "source": [
    "###### Exp2:"
   ]
  },
  {
   "cell_type": "code",
   "execution_count": 1,
   "id": "limited-retail",
   "metadata": {},
   "outputs": [],
   "source": [
    "_dict = {}\n",
    "with open(\"sold.txt\") as f:\n",
    "    for row in f:\n",
    "        i = row.split(\", \")\n",
    "        i[1] = int(i[1])\n",
    "        _dict[i[0]]=i[1]"
   ]
  },
  {
   "cell_type": "code",
   "execution_count": 2,
   "id": "single-samoa",
   "metadata": {},
   "outputs": [
    {
     "data": {
      "text/plain": [
       "{'Asus': 12,\n",
       " 'Samsung': 18,\n",
       " 'Dell': 5,\n",
       " 'Lenovo': 25,\n",
       " 'Apple': 2,\n",
       " 'HP': 14,\n",
       " 'Acer': 3,\n",
       " 'Sony': 6}"
      ]
     },
     "execution_count": 2,
     "metadata": {},
     "output_type": "execute_result"
    }
   ],
   "source": [
    "_dict"
   ]
  },
  {
   "cell_type": "markdown",
   "id": "awful-bones",
   "metadata": {},
   "source": [
    "###### Complexity: O(1)"
   ]
  },
  {
   "cell_type": "code",
   "execution_count": 3,
   "id": "polyphonic-bronze",
   "metadata": {},
   "outputs": [
    {
     "name": "stdout",
     "output_type": "stream",
     "text": [
      "18\n"
     ]
    }
   ],
   "source": [
    "print(_dict[\"Samsung\"])"
   ]
  },
  {
   "cell_type": "code",
   "execution_count": null,
   "id": "potential-disease",
   "metadata": {},
   "outputs": [],
   "source": []
  }
 ],
 "metadata": {
  "kernelspec": {
   "display_name": "Python 3",
   "language": "python",
   "name": "python3"
  },
  "language_info": {
   "codemirror_mode": {
    "name": "ipython",
    "version": 3
   },
   "file_extension": ".py",
   "mimetype": "text/x-python",
   "name": "python",
   "nbconvert_exporter": "python",
   "pygments_lexer": "ipython3",
   "version": "3.7.6"
  }
 },
 "nbformat": 4,
 "nbformat_minor": 5
}
