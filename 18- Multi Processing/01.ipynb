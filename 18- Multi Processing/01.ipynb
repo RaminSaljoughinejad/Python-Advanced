{
 "cells": [
  {
   "cell_type": "markdown",
   "id": "a7e8f694",
   "metadata": {},
   "source": [
    "###### Exp1:"
   ]
  },
  {
   "cell_type": "code",
   "execution_count": 1,
   "id": "893d1e41",
   "metadata": {},
   "outputs": [],
   "source": [
    "import time"
   ]
  },
  {
   "cell_type": "code",
   "execution_count": 2,
   "id": "acc0ead6",
   "metadata": {},
   "outputs": [],
   "source": [
    "def abgosht(num):\n",
    "    print(f\"Abgosht #{num} Making Abgosht\")\n",
    "    print(f\"Abgosht #{num} Getting the Ingredients ready.\")\n",
    "    print(f\"Abgosht #{num} Leaving it to boil...\")\n",
    "    time.sleep(1)\n",
    "    print(f\"Abgosht #{num} Abgosht is ready!\")"
   ]
  },
  {
   "cell_type": "code",
   "execution_count": 3,
   "id": "0d7fd3bd",
   "metadata": {},
   "outputs": [
    {
     "name": "stdout",
     "output_type": "stream",
     "text": [
      "Abgosht #1 Making Abgosht\n",
      "Abgosht #1 Getting the Ingredients ready.\n",
      "Abgosht #1 Leaving it to boil...\n",
      "Abgosht #1 Abgosht is ready!\n",
      "Took: 1.01 second(s).\n"
     ]
    }
   ],
   "source": [
    "start = time.time()\n",
    "\n",
    "abgosht(1)\n",
    "\n",
    "end = time.time()\n",
    "\n",
    "print(f\"Took: {round(end-start, 2)} second(s).\")"
   ]
  },
  {
   "cell_type": "markdown",
   "id": "acba63a9",
   "metadata": {},
   "source": [
    "###### Exp2:"
   ]
  },
  {
   "cell_type": "code",
   "execution_count": 4,
   "id": "bc50cf27",
   "metadata": {},
   "outputs": [
    {
     "name": "stdout",
     "output_type": "stream",
     "text": [
      "Abgosht #1 Making Abgosht\n",
      "Abgosht #1 Getting the Ingredients ready.\n",
      "Abgosht #1 Leaving it to boil...\n",
      "Abgosht #1 Abgosht is ready!\n",
      "Abgosht #2 Making Abgosht\n",
      "Abgosht #2 Getting the Ingredients ready.\n",
      "Abgosht #2 Leaving it to boil...\n",
      "Abgosht #2 Abgosht is ready!\n",
      "Took: 2.02 second(s).\n"
     ]
    }
   ],
   "source": [
    "start = time.time()\n",
    "\n",
    "abgosht(1)\n",
    "abgosht(2)\n",
    "\n",
    "end = time.time()\n",
    "\n",
    "print(f\"Took: {round(end-start, 2)} second(s).\")"
   ]
  },
  {
   "cell_type": "markdown",
   "id": "c50d1e42",
   "metadata": {},
   "source": [
    "###### Exp3:"
   ]
  },
  {
   "cell_type": "code",
   "execution_count": 5,
   "id": "41d3a970",
   "metadata": {},
   "outputs": [],
   "source": [
    "import multiprocessing"
   ]
  },
  {
   "cell_type": "code",
   "execution_count": 6,
   "id": "4da868ce",
   "metadata": {},
   "outputs": [
    {
     "name": "stdout",
     "output_type": "stream",
     "text": [
      "Took: 0.01 second(s).\n"
     ]
    }
   ],
   "source": [
    "start = time.time()\n",
    "\n",
    "p1 = multiprocessing.Process(target=abgosht, args=(1,))\n",
    "p2 = multiprocessing.Process(target=abgosht, args=(2,))\n",
    "\n",
    "p1.start()\n",
    "p2.start()\n",
    "\n",
    "end = time.time()\n",
    "print(f\"Took: {round(end-start, 2)} second(s).\")"
   ]
  },
  {
   "cell_type": "markdown",
   "id": "1afaac6b",
   "metadata": {},
   "source": [
    "###### Exp4:"
   ]
  },
  {
   "cell_type": "code",
   "execution_count": 7,
   "id": "911a0cd4",
   "metadata": {},
   "outputs": [
    {
     "name": "stdout",
     "output_type": "stream",
     "text": [
      "Took: 0.31 second(s).\n"
     ]
    }
   ],
   "source": [
    "if __name__ == '__main__':\n",
    "    start = time.perf_counter()\n",
    "    p1 = multiprocessing.Process(target=abgosht, args=(1,))\n",
    "    p2 = multiprocessing.Process(target=abgosht, args=(2,))\n",
    "\n",
    "    p1.start()\n",
    "    p2.start()\n",
    "\n",
    "    p1.join()\n",
    "    p2.join()\n",
    "\n",
    "    end = time.perf_counter()\n",
    "    print(f\"Took: {round(end-start, 2)} second(s).\")"
   ]
  },
  {
   "cell_type": "code",
   "execution_count": 8,
   "id": "2f504b03",
   "metadata": {},
   "outputs": [],
   "source": [
    "# run it in a .py file!"
   ]
  }
 ],
 "metadata": {
  "kernelspec": {
   "display_name": "Python 3 (ipykernel)",
   "language": "python",
   "name": "python3"
  },
  "language_info": {
   "codemirror_mode": {
    "name": "ipython",
    "version": 3
   },
   "file_extension": ".py",
   "mimetype": "text/x-python",
   "name": "python",
   "nbconvert_exporter": "python",
   "pygments_lexer": "ipython3",
   "version": "3.9.12"
  }
 },
 "nbformat": 4,
 "nbformat_minor": 5
}
