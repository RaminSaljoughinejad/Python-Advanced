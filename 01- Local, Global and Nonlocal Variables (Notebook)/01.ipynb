{
 "cells": [
  {
   "cell_type": "markdown",
   "id": "421cbaea",
   "metadata": {},
   "source": [
    "## <p style='color:orange'>Exercise 01: Python Variables</p>"
   ]
  },
  {
   "cell_type": "markdown",
   "id": "7b9b9663",
   "metadata": {},
   "source": [
    "### Local Variables"
   ]
  },
  {
   "cell_type": "markdown",
   "id": "ea9409c1",
   "metadata": {},
   "source": [
    "#### A variable declared inside the function's body or in the local scope is known as a local variable."
   ]
  },
  {
   "cell_type": "markdown",
   "id": "ddffa81b",
   "metadata": {},
   "source": [
    "##### Exp1:"
   ]
  },
  {
   "cell_type": "code",
   "execution_count": 1,
   "id": "d6ed820b",
   "metadata": {},
   "outputs": [
    {
     "name": "stdout",
     "output_type": "stream",
     "text": [
      "2\n"
     ]
    },
    {
     "ename": "NameError",
     "evalue": "name 'x' is not defined",
     "output_type": "error",
     "traceback": [
      "\u001b[1;31m---------------------------------------------------------------------------\u001b[0m",
      "\u001b[1;31mNameError\u001b[0m                                 Traceback (most recent call last)",
      "Input \u001b[1;32mIn [1]\u001b[0m, in \u001b[0;36m<cell line: 7>\u001b[1;34m()\u001b[0m\n\u001b[0;32m      3\u001b[0m     \u001b[38;5;28mprint\u001b[39m(x)\n\u001b[0;32m      5\u001b[0m my_function()\n\u001b[1;32m----> 7\u001b[0m \u001b[38;5;28mprint\u001b[39m(\u001b[43mx\u001b[49m\u001b[38;5;241m+\u001b[39m\u001b[38;5;241m1\u001b[39m)\n",
      "\u001b[1;31mNameError\u001b[0m: name 'x' is not defined"
     ]
    }
   ],
   "source": [
    "def my_function():\n",
    "    x = 2\n",
    "    print(x)\n",
    "    \n",
    "my_function()\n",
    "\n",
    "print(x+1)"
   ]
  },
  {
   "cell_type": "markdown",
   "id": "3d6ca234",
   "metadata": {},
   "source": [
    "##### Exp2:"
   ]
  },
  {
   "cell_type": "code",
   "execution_count": 1,
   "id": "57c98fd8",
   "metadata": {},
   "outputs": [
    {
     "name": "stdout",
     "output_type": "stream",
     "text": [
      "4\n",
      "2\n"
     ]
    }
   ],
   "source": [
    "x = 2\n",
    "\n",
    "def my_function():\n",
    "    x = 4\n",
    "    print(x)\n",
    "    \n",
    "my_function()\n",
    "\n",
    "print(x)"
   ]
  },
  {
   "cell_type": "markdown",
   "id": "72716646",
   "metadata": {},
   "source": [
    "### Global Variables"
   ]
  },
  {
   "cell_type": "markdown",
   "id": "d12d74c0",
   "metadata": {},
   "source": [
    "#### A variable declared outside of the function or in global scope is known as a global variable. This means that a global variable can be accessed inside or outside of the function."
   ]
  },
  {
   "cell_type": "markdown",
   "id": "a3fbac01",
   "metadata": {},
   "source": [
    "##### Exp1:"
   ]
  },
  {
   "cell_type": "code",
   "execution_count": 1,
   "id": "6d8e1e69",
   "metadata": {},
   "outputs": [
    {
     "name": "stdout",
     "output_type": "stream",
     "text": [
      "2\n",
      "2\n"
     ]
    }
   ],
   "source": [
    "x = 2\n",
    "\n",
    "def my_function():\n",
    "    print(x)\n",
    "\n",
    "    \n",
    "my_function()\n",
    "\n",
    "print(x)"
   ]
  },
  {
   "cell_type": "markdown",
   "id": "6437f4f2",
   "metadata": {},
   "source": [
    "##### Exp2:"
   ]
  },
  {
   "cell_type": "code",
   "execution_count": 1,
   "id": "36955350",
   "metadata": {},
   "outputs": [
    {
     "ename": "UnboundLocalError",
     "evalue": "local variable 'x' referenced before assignment",
     "output_type": "error",
     "traceback": [
      "\u001b[1;31m---------------------------------------------------------------------------\u001b[0m",
      "\u001b[1;31mUnboundLocalError\u001b[0m                         Traceback (most recent call last)",
      "Input \u001b[1;32mIn [1]\u001b[0m, in \u001b[0;36m<cell line: 7>\u001b[1;34m()\u001b[0m\n\u001b[0;32m      4\u001b[0m     \u001b[38;5;28mprint\u001b[39m(x)\n\u001b[0;32m      5\u001b[0m     x\u001b[38;5;241m+\u001b[39m\u001b[38;5;241m=\u001b[39m\u001b[38;5;241m1\u001b[39m\n\u001b[1;32m----> 7\u001b[0m \u001b[43mmy_function\u001b[49m\u001b[43m(\u001b[49m\u001b[43m)\u001b[49m\n\u001b[0;32m      9\u001b[0m \u001b[38;5;28mprint\u001b[39m(x)\n",
      "Input \u001b[1;32mIn [1]\u001b[0m, in \u001b[0;36mmy_function\u001b[1;34m()\u001b[0m\n\u001b[0;32m      3\u001b[0m \u001b[38;5;28;01mdef\u001b[39;00m \u001b[38;5;21mmy_function\u001b[39m():\n\u001b[1;32m----> 4\u001b[0m     \u001b[38;5;28mprint\u001b[39m(\u001b[43mx\u001b[49m)\n\u001b[0;32m      5\u001b[0m     x\u001b[38;5;241m+\u001b[39m\u001b[38;5;241m=\u001b[39m\u001b[38;5;241m1\u001b[39m\n",
      "\u001b[1;31mUnboundLocalError\u001b[0m: local variable 'x' referenced before assignment"
     ]
    }
   ],
   "source": [
    "x = 2\n",
    "\n",
    "def my_function():\n",
    "    print(x)\n",
    "    x+=1\n",
    "    \n",
    "my_function()\n",
    "\n",
    "print(x)"
   ]
  },
  {
   "cell_type": "markdown",
   "id": "a76cb6af",
   "metadata": {},
   "source": [
    "##### Exp3:"
   ]
  },
  {
   "cell_type": "code",
   "execution_count": 1,
   "id": "1334748c",
   "metadata": {},
   "outputs": [
    {
     "name": "stdout",
     "output_type": "stream",
     "text": [
      "2\n",
      "3\n"
     ]
    }
   ],
   "source": [
    "x = 2\n",
    "\n",
    "def my_function():\n",
    "    global x\n",
    "    print(x)\n",
    "    x+=1\n",
    "    \n",
    "my_function()\n",
    "\n",
    "print(x)"
   ]
  },
  {
   "cell_type": "markdown",
   "id": "de91e912",
   "metadata": {},
   "source": [
    "##### Exp4:"
   ]
  },
  {
   "cell_type": "code",
   "execution_count": 1,
   "id": "fd26aa4c",
   "metadata": {},
   "outputs": [
    {
     "name": "stdout",
     "output_type": "stream",
     "text": [
      "5\n",
      "5\n"
     ]
    }
   ],
   "source": [
    "def my_function():\n",
    "    global x\n",
    "    x = 5\n",
    "    print(x)\n",
    "    \n",
    "my_function()\n",
    "\n",
    "print(x)"
   ]
  },
  {
   "cell_type": "markdown",
   "id": "98b8a71b",
   "metadata": {},
   "source": [
    "## Nonlocal Variables"
   ]
  },
  {
   "cell_type": "markdown",
   "id": "921d95e2",
   "metadata": {},
   "source": [
    "#### Nonlocal variables are used in nested functions whose local scope is not defined. This means that the variable can be neither in the local nor the global scope."
   ]
  },
  {
   "cell_type": "markdown",
   "id": "ec8ef9bf",
   "metadata": {},
   "source": [
    "##### Exp1:"
   ]
  },
  {
   "cell_type": "code",
   "execution_count": 1,
   "id": "73ce0478",
   "metadata": {},
   "outputs": [
    {
     "name": "stdout",
     "output_type": "stream",
     "text": [
      "Second Function x: Hello, World!\n",
      "First  Function x: Hello, World!\n"
     ]
    }
   ],
   "source": [
    "def first_function():\n",
    "    x = \"Hello\"\n",
    "    \n",
    "    def second_function():\n",
    "        nonlocal x\n",
    "        x = \"Hello, World!\"\n",
    "        print(\"Second Function x:\",x)\n",
    "    \n",
    "    second_function()\n",
    "    print(\"First  Function x:\",x)\n",
    "    \n",
    "\n",
    "first_function()"
   ]
  },
  {
   "cell_type": "markdown",
   "id": "431e80b0",
   "metadata": {},
   "source": [
    "##### Exp2:"
   ]
  },
  {
   "cell_type": "code",
   "execution_count": 1,
   "id": "f95c8247",
   "metadata": {},
   "outputs": [
    {
     "name": "stdout",
     "output_type": "stream",
     "text": [
      "Second Function x: Hello, World!\n",
      "First  Function x: Hello, World!\n",
      "Hi!\n"
     ]
    }
   ],
   "source": [
    "x = \"Hi!\"\n",
    "def first_function():\n",
    "    x = \"Hello\"\n",
    "    \n",
    "    def second_function():\n",
    "        nonlocal x\n",
    "        x = \"Hello, World!\"\n",
    "        print(\"Second Function x:\",x)\n",
    "    \n",
    "    second_function()\n",
    "    print(\"First  Function x:\",x)\n",
    "    \n",
    "\n",
    "first_function()\n",
    "print(x)"
   ]
  },
  {
   "cell_type": "markdown",
   "id": "d3c80a12",
   "metadata": {},
   "source": [
    "##### Exp3:"
   ]
  },
  {
   "cell_type": "code",
   "execution_count": 1,
   "id": "010662a6",
   "metadata": {},
   "outputs": [
    {
     "name": "stdout",
     "output_type": "stream",
     "text": [
      "Second Function x: Hello, World!\n",
      "First  Function x: Hello\n",
      "Hello, World!\n"
     ]
    }
   ],
   "source": [
    "x = \"Hi!\"\n",
    "def first_function():\n",
    "    x = \"Hello\"\n",
    "    \n",
    "    def second_function():\n",
    "        global x\n",
    "        x = \"Hello, World!\"\n",
    "        print(\"Second Function x:\",x)\n",
    "    \n",
    "    second_function()\n",
    "    print(\"First  Function x:\",x)\n",
    "    \n",
    "\n",
    "first_function()\n",
    "print(x)"
   ]
  }
 ],
 "metadata": {
  "kernelspec": {
   "display_name": "Python 3",
   "language": "python",
   "name": "python3"
  },
  "language_info": {
   "codemirror_mode": {
    "name": "ipython",
    "version": 3
   },
   "file_extension": ".py",
   "mimetype": "text/x-python",
   "name": "python",
   "nbconvert_exporter": "python",
   "pygments_lexer": "ipython3",
   "version": "3.7.6"
  }
 },
 "nbformat": 4,
 "nbformat_minor": 5
}
