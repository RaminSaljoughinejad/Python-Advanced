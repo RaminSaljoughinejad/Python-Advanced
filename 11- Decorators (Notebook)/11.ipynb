{
 "cells": [
  {
   "cell_type": "markdown",
   "id": "beginning-final",
   "metadata": {},
   "source": [
    "## Decorators"
   ]
  },
  {
   "cell_type": "markdown",
   "id": "innocent-system",
   "metadata": {},
   "source": [
    "###### Exp1:"
   ]
  },
  {
   "cell_type": "code",
   "execution_count": 1,
   "id": "dominican-delight",
   "metadata": {},
   "outputs": [],
   "source": [
    "def add(x,y):\n",
    "    print(f\"{x} + {y} =\",x + y)\n",
    "\n",
    "\n",
    "def sub(x,y):\n",
    "    print(f\"{x} - {y} =\",x - y)\n",
    "\n",
    "\n",
    "def mul(x,y):\n",
    "    print(f\"{x} * {y} =\",x * y)"
   ]
  },
  {
   "cell_type": "code",
   "execution_count": 2,
   "id": "middle-tunnel",
   "metadata": {},
   "outputs": [
    {
     "name": "stdout",
     "output_type": "stream",
     "text": [
      "2 + 6 = 8\n"
     ]
    }
   ],
   "source": [
    "add(2,6)"
   ]
  },
  {
   "cell_type": "code",
   "execution_count": 3,
   "id": "assisted-table",
   "metadata": {},
   "outputs": [
    {
     "name": "stdout",
     "output_type": "stream",
     "text": [
      "5 - 4 = 1\n"
     ]
    }
   ],
   "source": [
    "sub(5,4)"
   ]
  },
  {
   "cell_type": "code",
   "execution_count": 4,
   "id": "frozen-parks",
   "metadata": {},
   "outputs": [
    {
     "name": "stdout",
     "output_type": "stream",
     "text": [
      "2 * 10 = 20\n"
     ]
    }
   ],
   "source": [
    "mul(2,10)"
   ]
  },
  {
   "cell_type": "markdown",
   "id": "sustained-vietnamese",
   "metadata": {},
   "source": [
    "###### Exp2:"
   ]
  },
  {
   "cell_type": "code",
   "execution_count": 5,
   "id": "marked-international",
   "metadata": {},
   "outputs": [],
   "source": [
    "def star_line_decorator(f):\n",
    "    def wrapper(x,y):\n",
    "        print(\"*\" * 10)\n",
    "        f(x,y)\n",
    "        print(\"*\" * 10)\n",
    "    return wrapper\n",
    "\n",
    "add_s = star_line_decorator(add)\n",
    "sub_s = star_line_decorator(sub)\n",
    "mul_s = star_line_decorator(mul)"
   ]
  },
  {
   "cell_type": "code",
   "execution_count": 6,
   "id": "wireless-words",
   "metadata": {},
   "outputs": [
    {
     "name": "stdout",
     "output_type": "stream",
     "text": [
      "**********\n",
      "2 + 5 = 7\n",
      "**********\n"
     ]
    }
   ],
   "source": [
    "add_s(2,5)"
   ]
  },
  {
   "cell_type": "code",
   "execution_count": 7,
   "id": "purple-summit",
   "metadata": {},
   "outputs": [
    {
     "name": "stdout",
     "output_type": "stream",
     "text": [
      "**********\n",
      "8 - 4 = 4\n",
      "**********\n"
     ]
    }
   ],
   "source": [
    "sub_s(8,4)"
   ]
  },
  {
   "cell_type": "markdown",
   "id": "embedded-columbus",
   "metadata": {},
   "source": [
    "###### Exp3:"
   ]
  },
  {
   "cell_type": "code",
   "execution_count": 8,
   "id": "tutorial-phenomenon",
   "metadata": {},
   "outputs": [],
   "source": [
    "add = star_line_decorator(add)\n",
    "sub = star_line_decorator(sub)\n",
    "mul = star_line_decorator(mul)"
   ]
  },
  {
   "cell_type": "code",
   "execution_count": 9,
   "id": "measured-island",
   "metadata": {},
   "outputs": [
    {
     "name": "stdout",
     "output_type": "stream",
     "text": [
      "**********\n",
      "5 + 9 = 14\n",
      "**********\n"
     ]
    }
   ],
   "source": [
    "add(5,9)"
   ]
  },
  {
   "cell_type": "markdown",
   "id": "approved-switch",
   "metadata": {},
   "source": [
    "###### Exp4: Better way"
   ]
  },
  {
   "cell_type": "code",
   "execution_count": 1,
   "id": "detailed-serve",
   "metadata": {},
   "outputs": [],
   "source": [
    "def my_decorator(f):\n",
    "    def wrapper(x,y):\n",
    "        print(\"*\" * 10)\n",
    "        f(x,y)\n",
    "        print(\"*\" * 10)\n",
    "    return wrapper\n",
    "\n",
    "@my_decorator\n",
    "def add(x,y):\n",
    "    print(f\"{x} + {y} =\",x + y)\n",
    "\n",
    "@my_decorator\n",
    "def sub(x,y):\n",
    "    print(f\"{x} - {y} =\",x - y)\n",
    "\n",
    "@my_decorator\n",
    "def mul(x,y):\n",
    "    print(f\"{x} * {y} =\",x * y)"
   ]
  },
  {
   "cell_type": "code",
   "execution_count": 2,
   "id": "final-calculation",
   "metadata": {},
   "outputs": [
    {
     "name": "stdout",
     "output_type": "stream",
     "text": [
      "**********\n",
      "6 + 1 = 7\n",
      "**********\n"
     ]
    }
   ],
   "source": [
    "add(6,1)"
   ]
  },
  {
   "cell_type": "markdown",
   "id": "tender-queensland",
   "metadata": {},
   "source": [
    "###### Exp5:"
   ]
  },
  {
   "cell_type": "code",
   "execution_count": 1,
   "id": "talented-madrid",
   "metadata": {},
   "outputs": [],
   "source": [
    "def add(x,y):\n",
    "    print(f\"{x} + {y} =\",x + y)\n",
    "\n",
    "\n",
    "def sub(x,y):\n",
    "    print(f\"{x} - {y} =\",x - y)\n",
    "\n",
    "\n",
    "def mul(x,y):\n",
    "    print(f\"{x} * {y} =\",x * y)\n",
    "    \n",
    "    \n",
    "def my_decorator(f):\n",
    "    def wrapper(x,y):\n",
    "        print(\"*\" * 10)\n",
    "        f(x,y)\n",
    "        print(\"*\" * 10)\n",
    "    return wrapper"
   ]
  },
  {
   "cell_type": "code",
   "execution_count": 2,
   "id": "historic-robert",
   "metadata": {},
   "outputs": [],
   "source": [
    "@my_decorator\n",
    "def add_s(x,y):\n",
    "    add(x,y)"
   ]
  },
  {
   "cell_type": "code",
   "execution_count": 3,
   "id": "critical-document",
   "metadata": {},
   "outputs": [
    {
     "name": "stdout",
     "output_type": "stream",
     "text": [
      "**********\n",
      "5 + 9 = 14\n",
      "**********\n"
     ]
    }
   ],
   "source": [
    "add_s(5,9)"
   ]
  }
 ],
 "metadata": {
  "kernelspec": {
   "display_name": "Python 3",
   "language": "python",
   "name": "python3"
  },
  "language_info": {
   "codemirror_mode": {
    "name": "ipython",
    "version": 3
   },
   "file_extension": ".py",
   "mimetype": "text/x-python",
   "name": "python",
   "nbconvert_exporter": "python",
   "pygments_lexer": "ipython3",
   "version": "3.7.6"
  }
 },
 "nbformat": 4,
 "nbformat_minor": 5
}
