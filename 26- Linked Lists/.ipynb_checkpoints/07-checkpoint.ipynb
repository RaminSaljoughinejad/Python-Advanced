{
 "cells": [
  {
   "cell_type": "code",
   "execution_count": 1,
   "id": "cc147f1d",
   "metadata": {},
   "outputs": [],
   "source": [
    "class Node:\n",
    "    def __init__(self, data):\n",
    "        self.data = data\n",
    "        self.next = None\n",
    "\n",
    "class Linked_list:\n",
    "    def __init__(self):\n",
    "        self.head = None\n",
    "        \n",
    "    def push(self, value):\n",
    "        new_node = Node(value)\n",
    "        if self.head:\n",
    "            new_node.next = self.head\n",
    "            self.head = new_node\n",
    "        else:\n",
    "            self.head = new_node\n",
    "    \n",
    "    def append(self, value):\n",
    "        new_node = Node(value)\n",
    "        if self.head:\n",
    "            temp = self.head\n",
    "            while temp.next:\n",
    "                temp = temp.next\n",
    "            else:\n",
    "                temp.next = new_node\n",
    "        else:\n",
    "            self.head = new_node\n",
    "    \n",
    "    def setter(self, lst):\n",
    "        self.head = None\n",
    "        for value in lst[::-1]:\n",
    "            self.push(value)\n",
    "    \n",
    "    def __str__(self):\n",
    "        _str = \"\"\n",
    "        temp = self.head\n",
    "        while temp.next:\n",
    "            _str += str(temp.data) + \" -> \"\n",
    "            temp = temp.next\n",
    "        else:\n",
    "            _str += str(temp.data)\n",
    "        return _str\n",
    "    \n",
    "    def __len__(self):\n",
    "        length = 0\n",
    "        if self.head:\n",
    "            temp = self.head\n",
    "            while temp.next:\n",
    "                length+=1\n",
    "                temp = temp.next\n",
    "            else:\n",
    "                length+=1\n",
    "        return length"
   ]
  },
  {
   "cell_type": "code",
   "execution_count": 2,
   "id": "0bb77083",
   "metadata": {},
   "outputs": [
    {
     "name": "stdout",
     "output_type": "stream",
     "text": [
      "5 -> 2 -> 9\n"
     ]
    }
   ],
   "source": [
    "ll =Linked_list()\n",
    "ll.push(2)\n",
    "ll.append(9)\n",
    "ll.push(5)\n",
    "print(ll)"
   ]
  },
  {
   "cell_type": "code",
   "execution_count": 3,
   "id": "717c821e",
   "metadata": {},
   "outputs": [
    {
     "name": "stdout",
     "output_type": "stream",
     "text": [
      "3\n"
     ]
    }
   ],
   "source": [
    "print(len(ll))"
   ]
  }
 ],
 "metadata": {
  "kernelspec": {
   "display_name": "Python 3 (ipykernel)",
   "language": "python",
   "name": "python3"
  },
  "language_info": {
   "codemirror_mode": {
    "name": "ipython",
    "version": 3
   },
   "file_extension": ".py",
   "mimetype": "text/x-python",
   "name": "python",
   "nbconvert_exporter": "python",
   "pygments_lexer": "ipython3",
   "version": "3.9.12"
  }
 },
 "nbformat": 4,
 "nbformat_minor": 5
}
