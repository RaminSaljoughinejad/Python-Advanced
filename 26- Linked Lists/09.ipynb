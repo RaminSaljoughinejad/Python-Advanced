{
 "cells": [
  {
   "cell_type": "code",
   "execution_count": 1,
   "id": "7bc3a987",
   "metadata": {},
   "outputs": [],
   "source": [
    "class Node:\n",
    "    def __init__(self, data):\n",
    "        self.data = data\n",
    "        self.next = None\n",
    "\n",
    "class Linked_list:\n",
    "    def __init__(self):\n",
    "        self.head = None\n",
    "        self.length = 0\n",
    "        \n",
    "    def push(self, value):\n",
    "        new_node = Node(value)\n",
    "        if self.head:\n",
    "            new_node.next = self.head\n",
    "            self.head = new_node\n",
    "        else:\n",
    "            self.head = new_node\n",
    "        self.length+=1\n",
    "    \n",
    "    def append(self, value):\n",
    "        new_node = Node(value)\n",
    "        if self.head:\n",
    "            temp = self.head\n",
    "            while temp.next:\n",
    "                temp = temp.next\n",
    "            else:\n",
    "                temp.next = new_node\n",
    "        else:\n",
    "            self.head = new_node\n",
    "        self.length+=1\n",
    "    \n",
    "    def insert(self, index, value):\n",
    "        if index<=0:\n",
    "            self.push(value)\n",
    "        elif index>=self.length-1:\n",
    "            self.append(value)\n",
    "        else:\n",
    "            temp = pre = self.head\n",
    "            while index:\n",
    "                pre = temp\n",
    "                temp = temp.next\n",
    "                index-=1\n",
    "            else:\n",
    "                new_node = Node(value)\n",
    "                new_node.next = temp\n",
    "                pre.next = new_node\n",
    "    \n",
    "    def setter(self, lst):\n",
    "        self.head = None\n",
    "        self.length = 0\n",
    "        for value in lst[::-1]:\n",
    "            self.push(value)\n",
    "    \n",
    "    def __str__(self):\n",
    "        _str = \"\"\n",
    "        temp = self.head\n",
    "        while temp.next:\n",
    "            _str += str(temp.data) + \" -> \"\n",
    "            temp = temp.next\n",
    "        else:\n",
    "            _str += str(temp.data)\n",
    "        return _str\n",
    "    \n",
    "    def __len__(self):\n",
    "        return self.length"
   ]
  },
  {
   "cell_type": "code",
   "execution_count": 2,
   "id": "97d34765",
   "metadata": {},
   "outputs": [
    {
     "name": "stdout",
     "output_type": "stream",
     "text": [
      "3 -> 4 -> 1 -> 5 -> 6 -> 2\n"
     ]
    }
   ],
   "source": [
    "ll =Linked_list()\n",
    "ll.setter([3,4,1,5,6,2])\n",
    "print(ll)"
   ]
  },
  {
   "cell_type": "code",
   "execution_count": 3,
   "id": "a826a740",
   "metadata": {},
   "outputs": [
    {
     "name": "stdout",
     "output_type": "stream",
     "text": [
      "64 -> 9 -> 3 -> 4 -> 1 -> 5 -> 6 -> 2\n"
     ]
    }
   ],
   "source": [
    "ll.insert(-5,9)\n",
    "ll.insert(0,64)\n",
    "print(ll)"
   ]
  },
  {
   "cell_type": "code",
   "execution_count": 4,
   "id": "ed57913d",
   "metadata": {},
   "outputs": [
    {
     "name": "stdout",
     "output_type": "stream",
     "text": [
      "64 -> 9 -> 3 -> 4 -> 1 -> 5 -> 6 -> 2 -> 9\n"
     ]
    }
   ],
   "source": [
    "ll.insert(15,9)\n",
    "print(ll)"
   ]
  },
  {
   "cell_type": "code",
   "execution_count": 5,
   "id": "3a367dd4",
   "metadata": {},
   "outputs": [
    {
     "name": "stdout",
     "output_type": "stream",
     "text": [
      "64 -> 9 -> 3 -> 4 -> 1 -> 5 -> 6 -> 2 -> 9 -> 64\n"
     ]
    }
   ],
   "source": [
    "ll.insert(8,64)\n",
    "print(ll)"
   ]
  },
  {
   "cell_type": "code",
   "execution_count": 6,
   "id": "93c8ee2e",
   "metadata": {},
   "outputs": [
    {
     "name": "stdout",
     "output_type": "stream",
     "text": [
      "64 -> 9 -> 3 -> 11 -> 4 -> 1 -> 5 -> 6 -> 2 -> 9 -> 64\n"
     ]
    }
   ],
   "source": [
    "ll.insert(3,11)\n",
    "print(ll)"
   ]
  }
 ],
 "metadata": {
  "kernelspec": {
   "display_name": "Python 3",
   "language": "python",
   "name": "python3"
  },
  "language_info": {
   "codemirror_mode": {
    "name": "ipython",
    "version": 3
   },
   "file_extension": ".py",
   "mimetype": "text/x-python",
   "name": "python",
   "nbconvert_exporter": "python",
   "pygments_lexer": "ipython3",
   "version": "3.7.6"
  }
 },
 "nbformat": 4,
 "nbformat_minor": 5
}
