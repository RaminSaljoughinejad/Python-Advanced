{
 "cells": [
  {
   "cell_type": "code",
   "execution_count": 1,
   "id": "43942d9a",
   "metadata": {},
   "outputs": [],
   "source": [
    "class Node:\n",
    "    def __init__(self, data):\n",
    "        self.data = data\n",
    "        self.next = None\n",
    "\n",
    "class Linked_list:\n",
    "    def __init__(self, node):\n",
    "        self.head = node\n",
    "        \n",
    "    def push(self, value):\n",
    "        new_node = Node(value)\n",
    "        new_node.next = self.head\n",
    "        self.head = new_node\n",
    "    \n",
    "    def __str__(self):\n",
    "        _str = \"\"\n",
    "        temp = self.head\n",
    "        while temp.next:\n",
    "            _str += str(temp.data) + \" -> \"\n",
    "            temp = temp.next\n",
    "        else:\n",
    "            _str += str(temp.data)\n",
    "        return _str"
   ]
  },
  {
   "cell_type": "code",
   "execution_count": 2,
   "id": "75d9ed0a",
   "metadata": {},
   "outputs": [
    {
     "name": "stdout",
     "output_type": "stream",
     "text": [
      "7 -> 1 -> 5\n"
     ]
    }
   ],
   "source": [
    "ll = Linked_list(Node(5))\n",
    "ll.push(1)\n",
    "ll.push(7)\n",
    "print(ll)"
   ]
  }
 ],
 "metadata": {
  "kernelspec": {
   "display_name": "Python 3",
   "language": "python",
   "name": "python3"
  },
  "language_info": {
   "codemirror_mode": {
    "name": "ipython",
    "version": 3
   },
   "file_extension": ".py",
   "mimetype": "text/x-python",
   "name": "python",
   "nbconvert_exporter": "python",
   "pygments_lexer": "ipython3",
   "version": "3.7.6"
  }
 },
 "nbformat": 4,
 "nbformat_minor": 5
}
