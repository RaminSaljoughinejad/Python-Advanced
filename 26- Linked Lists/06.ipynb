{
 "cells": [
  {
   "cell_type": "code",
   "execution_count": 1,
   "id": "01a08009",
   "metadata": {},
   "outputs": [],
   "source": [
    "class Node:\n",
    "    def __init__(self, data):\n",
    "        self.data = data\n",
    "        self.next = None\n",
    "\n",
    "class Linked_list:\n",
    "    def __init__(self):\n",
    "        self.head = None\n",
    "        \n",
    "    def push(self, value):\n",
    "        new_node = Node(value)\n",
    "        if self.head:\n",
    "            new_node.next = self.head\n",
    "            self.head = new_node\n",
    "        else:\n",
    "            self.head = new_node\n",
    "    \n",
    "    def append(self, value):\n",
    "        new_node = Node(value)\n",
    "        if self.head:\n",
    "            temp = self.head\n",
    "            while temp.next:\n",
    "                temp = temp.next\n",
    "            else:\n",
    "                temp.next = new_node\n",
    "        else:\n",
    "            self.head = new_node\n",
    "    \n",
    "    def setter(self, lst):\n",
    "        self.head = None\n",
    "        for value in lst[::-1]:\n",
    "            self.push(value)\n",
    "    \n",
    "    def __str__(self):\n",
    "        _str = \"\"\n",
    "        temp = self.head\n",
    "        while temp.next:\n",
    "            _str += str(temp.data) + \" -> \"\n",
    "            temp = temp.next\n",
    "        else:\n",
    "            _str += str(temp.data)\n",
    "        return _str"
   ]
  },
  {
   "cell_type": "code",
   "execution_count": 2,
   "id": "07fef227",
   "metadata": {},
   "outputs": [
    {
     "name": "stdout",
     "output_type": "stream",
     "text": [
      "5 -> 2 -> 9\n"
     ]
    }
   ],
   "source": [
    "ll =Linked_list()\n",
    "ll.push(2)\n",
    "ll.append(9)\n",
    "ll.push(5)\n",
    "print(ll)"
   ]
  },
  {
   "cell_type": "code",
   "execution_count": 3,
   "id": "2249086c",
   "metadata": {},
   "outputs": [
    {
     "name": "stdout",
     "output_type": "stream",
     "text": [
      "2 -> 5 -> 7 -> 3 -> 4\n"
     ]
    }
   ],
   "source": [
    "ll.setter([2,5,7,3,4])\n",
    "print(ll)"
   ]
  },
  {
   "cell_type": "code",
   "execution_count": null,
   "id": "1d88464d",
   "metadata": {},
   "outputs": [],
   "source": []
  }
 ],
 "metadata": {
  "kernelspec": {
   "display_name": "Python 3",
   "language": "python",
   "name": "python3"
  },
  "language_info": {
   "codemirror_mode": {
    "name": "ipython",
    "version": 3
   },
   "file_extension": ".py",
   "mimetype": "text/x-python",
   "name": "python",
   "nbconvert_exporter": "python",
   "pygments_lexer": "ipython3",
   "version": "3.7.6"
  }
 },
 "nbformat": 4,
 "nbformat_minor": 5
}
