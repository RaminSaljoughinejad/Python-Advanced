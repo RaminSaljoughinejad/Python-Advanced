{
 "cells": [
  {
   "cell_type": "code",
   "execution_count": 1,
   "id": "bec6caf6",
   "metadata": {},
   "outputs": [],
   "source": [
    "class Node:\n",
    "    def __init__(self, data):\n",
    "        self.data = data\n",
    "        self.next = None\n",
    "\n",
    "class Linked_list:\n",
    "    def __init__(self):\n",
    "        self.head = None\n",
    "        self.length = 0\n",
    "        \n",
    "    def push(self, value):\n",
    "        new_node = Node(value)\n",
    "        if self.head:\n",
    "            new_node.next = self.head\n",
    "            self.head = new_node\n",
    "        else:\n",
    "            self.head = new_node\n",
    "        self.length+=1\n",
    "    \n",
    "    def append(self, value):\n",
    "        new_node = Node(value)\n",
    "        if self.head:\n",
    "            temp = self.head\n",
    "            while temp.next:\n",
    "                temp = temp.next\n",
    "            else:\n",
    "                temp.next = new_node\n",
    "        else:\n",
    "            self.head = new_node\n",
    "        self.length+=1\n",
    "    \n",
    "    def insert(self, index, value):\n",
    "        if index<=0:\n",
    "            self.push(value)\n",
    "        elif index>=self.length-1:\n",
    "            self.append(value)\n",
    "        else:\n",
    "            temp = pre = self.head\n",
    "            while index:\n",
    "                pre = temp\n",
    "                temp = temp.next\n",
    "                index-=1\n",
    "            else:\n",
    "                new_node = Node(value)\n",
    "                new_node.next = temp\n",
    "                pre.next = new_node\n",
    "    \n",
    "    def setter(self, lst):\n",
    "        self.head = None\n",
    "        self.length = 0\n",
    "        for value in lst[::-1]:\n",
    "            self.push(value)\n",
    "    \n",
    "    def pop(self, index=0):\n",
    "        if self.length:\n",
    "            if index<=0:\n",
    "                value = self.head.data\n",
    "                self.head = self.head.next\n",
    "            else:\n",
    "                temp = pre = self.head\n",
    "                while index and temp.next:\n",
    "                    pre = temp\n",
    "                    temp = temp.next\n",
    "                    index-=1\n",
    "                else:\n",
    "                    value = temp.data\n",
    "                    pre.next = temp.next\n",
    "            self.length-=1\n",
    "            return value\n",
    "        else:\n",
    "            return None\n",
    "    \n",
    "    def __str__(self):\n",
    "        if self.head:\n",
    "            _str = \"\"\n",
    "            temp = self.head\n",
    "            while temp.next:\n",
    "                _str += str(temp.data) + \" -> \"\n",
    "                temp = temp.next\n",
    "            else:\n",
    "                _str += str(temp.data)\n",
    "            return _str\n",
    "        else:\n",
    "            return \"Warning: Linked-List Is Empty!\"\n",
    "    \n",
    "    def __len__(self):\n",
    "        return self.lengt"
   ]
  },
  {
   "cell_type": "code",
   "execution_count": 2,
   "id": "2ef12645",
   "metadata": {},
   "outputs": [
    {
     "name": "stdout",
     "output_type": "stream",
     "text": [
      "3 -> 4 -> 1 -> 5 -> 6 -> 2 -> 8 -> 6 -> 5 -> 9 -> 0 -> 1 -> 3 -> 2 -> 5\n"
     ]
    }
   ],
   "source": [
    "ll =Linked_list()\n",
    "ll.setter([3,4,1,5,6,2,8,6,5,9,0,1,3,2,5])\n",
    "print(ll)"
   ]
  },
  {
   "cell_type": "code",
   "execution_count": 3,
   "id": "981b8232",
   "metadata": {},
   "outputs": [
    {
     "name": "stdout",
     "output_type": "stream",
     "text": [
      "3\n",
      "4 -> 1 -> 5 -> 6 -> 2 -> 8 -> 6 -> 5 -> 9 -> 0 -> 1 -> 3 -> 2 -> 5\n",
      "***********************************************\n",
      "4\n",
      "1 -> 5 -> 6 -> 2 -> 8 -> 6 -> 5 -> 9 -> 0 -> 1 -> 3 -> 2 -> 5\n",
      "***********************************************\n",
      "5\n",
      "1 -> 5 -> 6 -> 2 -> 8 -> 6 -> 5 -> 9 -> 0 -> 1 -> 3 -> 2\n",
      "***********************************************\n",
      "6\n",
      "1 -> 5 -> 6 -> 2 -> 8 -> 5 -> 9 -> 0 -> 1 -> 3 -> 2\n"
     ]
    }
   ],
   "source": [
    "print(ll.pop())\n",
    "print(ll)\n",
    "print(\"***********************************************\")\n",
    "print(ll.pop(-5))\n",
    "print(ll)\n",
    "print(\"***********************************************\")\n",
    "print(ll.pop(56))\n",
    "print(ll)\n",
    "print(\"***********************************************\")\n",
    "print(ll.pop(5))\n",
    "print(ll)"
   ]
  }
 ],
 "metadata": {
  "kernelspec": {
   "display_name": "Python 3",
   "language": "python",
   "name": "python3"
  },
  "language_info": {
   "codemirror_mode": {
    "name": "ipython",
    "version": 3
   },
   "file_extension": ".py",
   "mimetype": "text/x-python",
   "name": "python",
   "nbconvert_exporter": "python",
   "pygments_lexer": "ipython3",
   "version": "3.7.6"
  }
 },
 "nbformat": 4,
 "nbformat_minor": 5
}
