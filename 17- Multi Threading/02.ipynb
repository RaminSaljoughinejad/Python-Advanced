{
 "cells": [
  {
   "cell_type": "markdown",
   "id": "9c5c5808",
   "metadata": {},
   "source": [
    "##### Exp1:"
   ]
  },
  {
   "cell_type": "code",
   "execution_count": 1,
   "id": "8bb14101",
   "metadata": {},
   "outputs": [],
   "source": [
    "import threading\n",
    "import time"
   ]
  },
  {
   "cell_type": "code",
   "execution_count": 2,
   "id": "4f3044c6",
   "metadata": {},
   "outputs": [],
   "source": [
    "def abgosht(name):\n",
    "    print(f\"Abgosht-{name} # Making Abgosht\")\n",
    "    print(f\"Abgosht-{name} # Getting the Ingredients ready.\")\n",
    "    print(f\"Abgosht-{name} # Leaving it to boil...\")\n",
    "    time.sleep(2)\n",
    "    print(f\"Abgosht # Abgosht is ready!\")"
   ]
  },
  {
   "cell_type": "code",
   "execution_count": 3,
   "id": "09ac99f9",
   "metadata": {},
   "outputs": [
    {
     "name": "stdout",
     "output_type": "stream",
     "text": [
      "Abgosht-AliReza # Making Abgosht\n",
      "Abgosht-AliReza # Getting the Ingredients ready.\n",
      "Abgosht-AliReza # Leaving it to boil...\n",
      "Abgosht # Abgosht is ready!\n",
      "Took 2.02 Second(s).\n"
     ]
    }
   ],
   "source": [
    "start = time.time()\n",
    "task1 = threading.Thread(target=abgosht, args=(\"AliReza\",))\n",
    "\n",
    "task1.start()\n",
    "\n",
    "task1.join()\n",
    "print(\"Took\",round(time.time()-start, 2),\"Second(s).\")"
   ]
  },
  {
   "cell_type": "markdown",
   "id": "540d29bb",
   "metadata": {},
   "source": [
    "##### Exp2:"
   ]
  },
  {
   "cell_type": "code",
   "execution_count": 4,
   "id": "a2ee2331",
   "metadata": {},
   "outputs": [
    {
     "name": "stdout",
     "output_type": "stream",
     "text": [
      "Abgosht-0 # Making Abgosht\n",
      "Abgosht-0 # Getting the Ingredients ready.\n",
      "Abgosht-0 # Leaving it to boil...\n",
      "Abgosht-1 # Making Abgosht\n",
      "Abgosht-1 # Getting the Ingredients ready.\n",
      "Abgosht-1 # Leaving it to boil...\n",
      "Abgosht-2 # Making Abgosht\n",
      "Abgosht-2 # Getting the Ingredients ready.\n",
      "Abgosht-2 # Leaving it to boil...\n",
      "Abgosht-3 # Making Abgosht\n",
      "Abgosht-3 # Getting the Ingredients ready.\n",
      "Abgosht-3 # Leaving it to boil...\n",
      "Abgosht-4 # Making Abgosht\n",
      "Abgosht-4 # Getting the Ingredients ready.\n",
      "Abgosht-4 # Leaving it to boil...\n",
      "Abgosht # Abgosht is ready!\n",
      "Abgosht # Abgosht is ready!\n",
      "Abgosht # Abgosht is ready!\n",
      "Abgosht # Abgosht is ready!\n",
      "Abgosht # Abgosht is ready!\n",
      "Took 2.02 Second(s).\n"
     ]
    }
   ],
   "source": [
    "start = time.time()\n",
    "\n",
    "tasks = []\n",
    "for i in range(5):\n",
    "    task = threading.Thread(target=abgosht, args=(i,))\n",
    "    task.start()\n",
    "    tasks.append(task)\n",
    "\n",
    "for task in tasks:\n",
    "    task.join()\n",
    "\n",
    "print(\"Took\",round(time.time()-start, 2),\"Second(s).\")"
   ]
  }
 ],
 "metadata": {
  "kernelspec": {
   "display_name": "Python 3 (ipykernel)",
   "language": "python",
   "name": "python3"
  },
  "language_info": {
   "codemirror_mode": {
    "name": "ipython",
    "version": 3
   },
   "file_extension": ".py",
   "mimetype": "text/x-python",
   "name": "python",
   "nbconvert_exporter": "python",
   "pygments_lexer": "ipython3",
   "version": "3.9.12"
  }
 },
 "nbformat": 4,
 "nbformat_minor": 5
}
