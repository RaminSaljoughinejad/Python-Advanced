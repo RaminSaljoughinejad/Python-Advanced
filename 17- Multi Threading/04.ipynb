{
 "cells": [
  {
   "cell_type": "markdown",
   "id": "31c43221",
   "metadata": {},
   "source": [
    "##### Exp1:"
   ]
  },
  {
   "cell_type": "code",
   "execution_count": 1,
   "id": "9bb53da3",
   "metadata": {},
   "outputs": [],
   "source": [
    "import concurrent.futures\n",
    "import time"
   ]
  },
  {
   "cell_type": "code",
   "execution_count": 2,
   "id": "40dc3395",
   "metadata": {},
   "outputs": [],
   "source": [
    "def do_something(second):\n",
    "    print(f\"Going to sleep for {second} second(s).\")\n",
    "    time.sleep(second)\n",
    "    return f\"Finished sleeping for {second} seconds.\""
   ]
  },
  {
   "cell_type": "code",
   "execution_count": 3,
   "id": "d9c80018",
   "metadata": {},
   "outputs": [
    {
     "name": "stdout",
     "output_type": "stream",
     "text": [
      "Going to sleep for 5 second(s).\n",
      "Going to sleep for 4 second(s).\n",
      "Going to sleep for 3 second(s).\n",
      "Going to sleep for 2 second(s).\n",
      "Going to sleep for 1 second(s).\n",
      "Finished sleeping for 1 seconds.\n",
      "Finished sleeping for 2 seconds.\n",
      "Finished sleeping for 3 seconds.\n",
      "Finished sleeping for 4 seconds.\n",
      "Finished sleeping for 5 seconds.\n",
      "Took 5.01 Second(s).\n"
     ]
    }
   ],
   "source": [
    "start = time.time()\n",
    "\n",
    "with concurrent.futures.ThreadPoolExecutor() as executor:\n",
    "    seconds = [5, 4, 3, 2, 1]\n",
    "    tasks = [executor.submit(do_something, sec) for sec in seconds]\n",
    "    \n",
    "    for task in concurrent.futures.as_completed(tasks):\n",
    "        print(task.result())\n",
    "        \n",
    "print(\"Took\",round(time.time()-start, 2),\"Second(s).\")"
   ]
  },
  {
   "cell_type": "markdown",
   "id": "4493f305",
   "metadata": {},
   "source": [
    "##### Exp2:"
   ]
  },
  {
   "cell_type": "code",
   "execution_count": 4,
   "id": "eed1eadf",
   "metadata": {},
   "outputs": [
    {
     "name": "stdout",
     "output_type": "stream",
     "text": [
      "Going to sleep for 5 second(s).\n",
      "Going to sleep for 4 second(s).\n",
      "Going to sleep for 3 second(s).\n",
      "Going to sleep for 2 second(s).\n",
      "Going to sleep for 1 second(s).\n",
      "Finished sleeping for 5 seconds.\n",
      "Finished sleeping for 4 seconds.\n",
      "Finished sleeping for 3 seconds.\n",
      "Finished sleeping for 2 seconds.\n",
      "Finished sleeping for 1 seconds.\n",
      "Took 5.03 Second(s).\n"
     ]
    }
   ],
   "source": [
    "start = time.time()\n",
    "\n",
    "with concurrent.futures.ThreadPoolExecutor() as executor:\n",
    "    seconds = [5, 4, 3, 2, 1]\n",
    "    tasks = executor.map(do_something, seconds)\n",
    "    \n",
    "    for task in tasks:\n",
    "        print(task)\n",
    "print(\"Took\",round(time.time()-start, 2),\"Second(s).\")"
   ]
  },
  {
   "cell_type": "code",
   "execution_count": null,
   "id": "f3fdf03c",
   "metadata": {},
   "outputs": [],
   "source": []
  }
 ],
 "metadata": {
  "kernelspec": {
   "display_name": "Python 3 (ipykernel)",
   "language": "python",
   "name": "python3"
  },
  "language_info": {
   "codemirror_mode": {
    "name": "ipython",
    "version": 3
   },
   "file_extension": ".py",
   "mimetype": "text/x-python",
   "name": "python",
   "nbconvert_exporter": "python",
   "pygments_lexer": "ipython3",
   "version": "3.9.12"
  }
 },
 "nbformat": 4,
 "nbformat_minor": 5
}
