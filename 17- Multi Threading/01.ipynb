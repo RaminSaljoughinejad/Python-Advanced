{
 "cells": [
  {
   "cell_type": "markdown",
   "id": "201ea544",
   "metadata": {},
   "source": [
    "## Multi Threading"
   ]
  },
  {
   "cell_type": "markdown",
   "id": "27da806c",
   "metadata": {},
   "source": [
    "##### Exp1:"
   ]
  },
  {
   "cell_type": "code",
   "execution_count": 1,
   "id": "46523c63",
   "metadata": {},
   "outputs": [],
   "source": [
    "def salad_shirazi():\n",
    "    print(\"Salad Shirazi # Making Salad Shirazi\")\n",
    "    print(\"Salad Shirazi # Peeling Tomatos, Cucumbers and Onions.\")\n",
    "    print(\"Salad Shirazi # Chopping!\")\n",
    "    print(\"Salad Shirazi # Mixing...\")\n",
    "    print(\"Salad Shirazi # Salad Shirazi is ready.\\n\")\n",
    "def salad_special():\n",
    "    print(\"Special Salad # Making Special Salad\")\n",
    "    print(\"Special Salad # Chopping Lettuce!\")\n",
    "    print(\"Special Salad # Mixing Chopped Lettuce with Olive and Corn...\")\n",
    "    print(\"Special Salad # Special Salad is ready.\")"
   ]
  },
  {
   "cell_type": "code",
   "execution_count": 2,
   "id": "dbb6099c",
   "metadata": {},
   "outputs": [
    {
     "name": "stdout",
     "output_type": "stream",
     "text": [
      "Salad Shirazi # Making Salad Shirazi\n",
      "Salad Shirazi # Peeling Tomatos, Cucumbers and Onions.\n",
      "Salad Shirazi # Chopping!\n",
      "Salad Shirazi # Mixing...\n",
      "Salad Shirazi # Salad Shirazi is ready.\n",
      "\n",
      "Special Salad # Making Special Salad\n",
      "Special Salad # Chopping Lettuce!\n",
      "Special Salad # Mixing Chopped Lettuce with Olive and Corn...\n",
      "Special Salad # Special Salad is ready.\n"
     ]
    }
   ],
   "source": [
    "salad_shirazi()\n",
    "salad_special()"
   ]
  },
  {
   "cell_type": "markdown",
   "id": "90318adc",
   "metadata": {},
   "source": [
    "##### Exp2"
   ]
  },
  {
   "cell_type": "code",
   "execution_count": 3,
   "id": "f93d3823",
   "metadata": {},
   "outputs": [],
   "source": [
    "import threading"
   ]
  },
  {
   "cell_type": "code",
   "execution_count": 4,
   "id": "54e772e3",
   "metadata": {},
   "outputs": [
    {
     "name": "stdout",
     "output_type": "stream",
     "text": [
      "Salad Shirazi # Making Salad Shirazi\n",
      "Salad Shirazi # Peeling Tomatos, Cucumbers and Onions.\n",
      "Salad Shirazi # Chopping!\n",
      "Salad Shirazi # Mixing...\n",
      "Salad Shirazi # Salad Shirazi is ready.\n",
      "\n",
      "Special Salad # Making Special Salad\n",
      "Special Salad # Chopping Lettuce!\n",
      "Special Salad # Mixing Chopped Lettuce with Olive and Corn...\n",
      "Special Salad # Special Salad is ready.\n"
     ]
    }
   ],
   "source": [
    "task1 = threading.Thread(target=salad_shirazi)\n",
    "task2 = threading.Thread(target=salad_special)\n",
    "\n",
    "task1.start()\n",
    "task2.start()\n",
    "\n",
    "task1.join()\n",
    "task2.join()"
   ]
  },
  {
   "cell_type": "markdown",
   "id": "fb70ec95",
   "metadata": {},
   "source": [
    "##### Exp3:"
   ]
  },
  {
   "cell_type": "code",
   "execution_count": 5,
   "id": "ee768955",
   "metadata": {},
   "outputs": [],
   "source": [
    "import time"
   ]
  },
  {
   "cell_type": "code",
   "execution_count": 6,
   "id": "f753359b",
   "metadata": {},
   "outputs": [],
   "source": [
    "def abgosht():\n",
    "    print(\"Abgosht # Making Abgosht\")\n",
    "    print(\"Abgosht # Getting the Ingredients ready.\")\n",
    "    print(\"Abgosht # Leaving it to boil...\")\n",
    "    time.sleep(1)\n",
    "    print(\"Abgosht # Abgosht is ready!\")"
   ]
  },
  {
   "cell_type": "code",
   "execution_count": 7,
   "id": "ac3042d4",
   "metadata": {},
   "outputs": [
    {
     "name": "stdout",
     "output_type": "stream",
     "text": [
      "Abgosht # Making Abgosht\n",
      "Abgosht # Getting the Ingredients ready.\n",
      "Abgosht # Leaving it to boil...\n",
      "Salad Shirazi # Making Salad Shirazi\n",
      "Salad Shirazi # Peeling Tomatos, Cucumbers and Onions.\n",
      "Salad Shirazi # Chopping!\n",
      "Salad Shirazi # Mixing...\n",
      "Salad Shirazi # Salad Shirazi is ready.\n",
      "\n",
      "Special Salad # Making Special Salad\n",
      "Special Salad # Chopping Lettuce!\n",
      "Special Salad # Mixing Chopped Lettuce with Olive and Corn...\n",
      "Special Salad # Special Salad is ready.\n",
      "Abgosht # Abgosht is ready!\n"
     ]
    }
   ],
   "source": [
    "task1 = threading.Thread(target=abgosht)\n",
    "task2 = threading.Thread(target=salad_shirazi)\n",
    "task3 = threading.Thread(target=salad_special)\n",
    "\n",
    "task1.start()\n",
    "task2.start()\n",
    "task3.start()\n",
    "\n",
    "task1.join()\n",
    "task2.join()\n",
    "task3.join()"
   ]
  }
 ],
 "metadata": {
  "kernelspec": {
   "display_name": "Python 3 (ipykernel)",
   "language": "python",
   "name": "python3"
  },
  "language_info": {
   "codemirror_mode": {
    "name": "ipython",
    "version": 3
   },
   "file_extension": ".py",
   "mimetype": "text/x-python",
   "name": "python",
   "nbconvert_exporter": "python",
   "pygments_lexer": "ipython3",
   "version": "3.9.12"
  }
 },
 "nbformat": 4,
 "nbformat_minor": 5
}
