{
 "cells": [
  {
   "cell_type": "markdown",
   "id": "dramatic-disclosure",
   "metadata": {},
   "source": [
    "## Lists"
   ]
  },
  {
   "cell_type": "code",
   "execution_count": 1,
   "id": "formal-lesson",
   "metadata": {},
   "outputs": [
    {
     "name": "stdout",
     "output_type": "stream",
     "text": [
      "['Tesla', 'BMW']\n"
     ]
    }
   ],
   "source": [
    "_list = [\"Tesla\", \"BMW\"]\n",
    "print(_list)"
   ]
  },
  {
   "cell_type": "markdown",
   "id": "saved-scientist",
   "metadata": {},
   "source": [
    "#### Append -> Adding an item at the end of a given list"
   ]
  },
  {
   "cell_type": "code",
   "execution_count": 2,
   "id": "bridal-draft",
   "metadata": {},
   "outputs": [
    {
     "name": "stdout",
     "output_type": "stream",
     "text": [
      "['Tesla', 'BMW', 'Ford']\n"
     ]
    }
   ],
   "source": [
    "_list.append(\"Ford\")\n",
    "print(_list)"
   ]
  },
  {
   "cell_type": "markdown",
   "id": "black-manor",
   "metadata": {},
   "source": [
    "#### Insert -> Adding an item anywhere in a given list"
   ]
  },
  {
   "cell_type": "code",
   "execution_count": 3,
   "id": "plain-power",
   "metadata": {},
   "outputs": [
    {
     "name": "stdout",
     "output_type": "stream",
     "text": [
      "['Tesla', 'Toyota', 'BMW', 'Ford']\n"
     ]
    }
   ],
   "source": [
    "_list.insert(1, \"Toyota\")\n",
    "print(_list)"
   ]
  },
  {
   "cell_type": "markdown",
   "id": "recovered-junior",
   "metadata": {},
   "source": [
    "#### Extend -> Appending a list at the end of another list"
   ]
  },
  {
   "cell_type": "code",
   "execution_count": 4,
   "id": "pretty-pittsburgh",
   "metadata": {},
   "outputs": [
    {
     "name": "stdout",
     "output_type": "stream",
     "text": [
      "['Tesla', 'Toyota', 'BMW', 'Ford', 'Daimler', 'Saipa', 'Iran-Khodro']\n"
     ]
    }
   ],
   "source": [
    "_list.extend([\"Daimler\", \"Saipa\", \"Iran-Khodro\"])\n",
    "print(_list)"
   ]
  },
  {
   "cell_type": "markdown",
   "id": "accurate-decrease",
   "metadata": {},
   "source": [
    "#### Reverse -> Reverses a given list"
   ]
  },
  {
   "cell_type": "code",
   "execution_count": 5,
   "id": "comic-operations",
   "metadata": {},
   "outputs": [
    {
     "name": "stdout",
     "output_type": "stream",
     "text": [
      "['Iran-Khodro', 'Saipa', 'Daimler', 'Ford', 'BMW', 'Toyota', 'Tesla']\n"
     ]
    }
   ],
   "source": [
    "_list.reverse()\n",
    "print(_list)"
   ]
  },
  {
   "cell_type": "markdown",
   "id": "variable-language",
   "metadata": {},
   "source": [
    "#### Count -> counts the number of time an item appeared in a given list"
   ]
  },
  {
   "cell_type": "code",
   "execution_count": 6,
   "id": "asian-badge",
   "metadata": {},
   "outputs": [
    {
     "name": "stdout",
     "output_type": "stream",
     "text": [
      "2\n"
     ]
    }
   ],
   "source": [
    "_list = [2,4,5,6,1,4,7,9,3,4,6,7,8,2,3,4,5,1,1,3,4]\n",
    "\n",
    "print(_list.count(7))"
   ]
  },
  {
   "cell_type": "markdown",
   "id": "continuing-bottom",
   "metadata": {},
   "source": [
    "#### Clear -> Delets all the items inside a given list"
   ]
  },
  {
   "cell_type": "code",
   "execution_count": 7,
   "id": "willing-lancaster",
   "metadata": {},
   "outputs": [
    {
     "name": "stdout",
     "output_type": "stream",
     "text": [
      "[]\n"
     ]
    }
   ],
   "source": [
    "_list.clear()\n",
    "print(_list)"
   ]
  }
 ],
 "metadata": {
  "kernelspec": {
   "display_name": "Python 3",
   "language": "python",
   "name": "python3"
  },
  "language_info": {
   "codemirror_mode": {
    "name": "ipython",
    "version": 3
   },
   "file_extension": ".py",
   "mimetype": "text/x-python",
   "name": "python",
   "nbconvert_exporter": "python",
   "pygments_lexer": "ipython3",
   "version": "3.7.6"
  }
 },
 "nbformat": 4,
 "nbformat_minor": 5
}
