{
 "cells": [
  {
   "cell_type": "markdown",
   "id": "mysterious-brooks",
   "metadata": {},
   "source": [
    "## Time Complexity\n",
    "Big O notation is the way to measure how software program's running time or space requirements grow as the input size grows."
   ]
  },
  {
   "cell_type": "code",
   "execution_count": 1,
   "id": "quiet-copper",
   "metadata": {},
   "outputs": [],
   "source": [
    "from random import randint as rnd\n",
    "import time"
   ]
  },
  {
   "cell_type": "code",
   "execution_count": 2,
   "id": "reflected-solution",
   "metadata": {},
   "outputs": [
    {
     "name": "stdout",
     "output_type": "stream",
     "text": [
      "0.015265941619873047\n"
     ]
    }
   ],
   "source": [
    "_list = [rnd(1,500) for i in range(100000)]\n",
    "start = time.time()\n",
    "\n",
    "_max = 0\n",
    "for i in range(len(_list)):\n",
    "    if _list[i]>_list[_max]:\n",
    "        _max = i\n",
    "\n",
    "end = time.time()\n",
    "print(end-start)"
   ]
  },
  {
   "cell_type": "code",
   "execution_count": 3,
   "id": "standing-summary",
   "metadata": {},
   "outputs": [
    {
     "name": "stdout",
     "output_type": "stream",
     "text": [
      "8.05 ms ± 16 µs per loop (mean ± std. dev. of 7 runs, 100 loops each)\n"
     ]
    }
   ],
   "source": [
    "def finx_max(_list):\n",
    "    _max = 0\n",
    "    for i in range(len(_list)):\n",
    "        if _list[i]>_list[_max]:\n",
    "            _max = i\n",
    "    return _list[_max]\n",
    "\n",
    "%timeit finx_max(_list)"
   ]
  }
 ],
 "metadata": {
  "kernelspec": {
   "display_name": "Python 3",
   "language": "python",
   "name": "python3"
  },
  "language_info": {
   "codemirror_mode": {
    "name": "ipython",
    "version": 3
   },
   "file_extension": ".py",
   "mimetype": "text/x-python",
   "name": "python",
   "nbconvert_exporter": "python",
   "pygments_lexer": "ipython3",
   "version": "3.7.6"
  }
 },
 "nbformat": 4,
 "nbformat_minor": 5
}
