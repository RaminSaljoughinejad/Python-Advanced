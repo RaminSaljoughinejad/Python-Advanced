{
 "cells": [
  {
   "cell_type": "markdown",
   "id": "endless-symbol",
   "metadata": {},
   "source": [
    "## Generators\n",
    "\n",
    "Generators are a better way for creating Iterators!"
   ]
  },
  {
   "cell_type": "markdown",
   "id": "incident-immigration",
   "metadata": {},
   "source": [
    "###### Exp1:"
   ]
  },
  {
   "cell_type": "code",
   "execution_count": 1,
   "id": "inside-latex",
   "metadata": {},
   "outputs": [],
   "source": [
    "def gen(limit):\n",
    "    for i in range(limit):\n",
    "        yield i"
   ]
  },
  {
   "cell_type": "code",
   "execution_count": 2,
   "id": "normal-mattress",
   "metadata": {},
   "outputs": [
    {
     "name": "stdout",
     "output_type": "stream",
     "text": [
      "0\n",
      "1\n",
      "2\n",
      "3\n"
     ]
    }
   ],
   "source": [
    "for i in gen(4):\n",
    "    print(i)"
   ]
  },
  {
   "cell_type": "markdown",
   "id": "palestinian-freeware",
   "metadata": {},
   "source": [
    "##### When the computer gets to yield it sends the value(s) in front of it and the pauses the program for the next signal"
   ]
  },
  {
   "cell_type": "markdown",
   "id": "excess-closer",
   "metadata": {},
   "source": [
    "###### Exp2:"
   ]
  },
  {
   "cell_type": "code",
   "execution_count": 1,
   "id": "sought-combat",
   "metadata": {},
   "outputs": [],
   "source": [
    "def gen(limit):\n",
    "    for i in range(limit):\n",
    "        print(\"returning and pausing the function.\")\n",
    "        yield i\n",
    "        print(\"unpausing the function\")"
   ]
  },
  {
   "cell_type": "code",
   "execution_count": 2,
   "id": "lasting-venezuela",
   "metadata": {},
   "outputs": [
    {
     "name": "stdout",
     "output_type": "stream",
     "text": [
      "<generator object gen at 0x7fc620c71d50>\n"
     ]
    }
   ],
   "source": [
    "x = gen(5)\n",
    "print(x)"
   ]
  },
  {
   "cell_type": "code",
   "execution_count": 3,
   "id": "residential-destination",
   "metadata": {},
   "outputs": [
    {
     "name": "stdout",
     "output_type": "stream",
     "text": [
      "returning and pausing the function.\n",
      "0\n"
     ]
    }
   ],
   "source": [
    "print(next(x))"
   ]
  },
  {
   "cell_type": "code",
   "execution_count": 4,
   "id": "varied-alert",
   "metadata": {},
   "outputs": [
    {
     "name": "stdout",
     "output_type": "stream",
     "text": [
      "unpausing the function\n",
      "returning and pausing the function.\n",
      "1\n"
     ]
    }
   ],
   "source": [
    "print(next(x))"
   ]
  },
  {
   "cell_type": "code",
   "execution_count": 5,
   "id": "enormous-latvia",
   "metadata": {},
   "outputs": [
    {
     "name": "stdout",
     "output_type": "stream",
     "text": [
      "unpausing the function\n",
      "returning and pausing the function.\n",
      "2\n",
      "unpausing the function\n",
      "returning and pausing the function.\n",
      "3\n",
      "unpausing the function\n",
      "returning and pausing the function.\n",
      "4\n",
      "unpausing the function\n"
     ]
    },
    {
     "ename": "StopIteration",
     "evalue": "",
     "output_type": "error",
     "traceback": [
      "\u001b[0;31m---------------------------------------------------------------------------\u001b[0m",
      "\u001b[0;31mStopIteration\u001b[0m                             Traceback (most recent call last)",
      "\u001b[0;32m<ipython-input-5-dc4a32ce28eb>\u001b[0m in \u001b[0;36m<module>\u001b[0;34m\u001b[0m\n\u001b[1;32m      2\u001b[0m \u001b[0mprint\u001b[0m\u001b[0;34m(\u001b[0m\u001b[0mnext\u001b[0m\u001b[0;34m(\u001b[0m\u001b[0mx\u001b[0m\u001b[0;34m)\u001b[0m\u001b[0;34m)\u001b[0m\u001b[0;34m\u001b[0m\u001b[0;34m\u001b[0m\u001b[0m\n\u001b[1;32m      3\u001b[0m \u001b[0mprint\u001b[0m\u001b[0;34m(\u001b[0m\u001b[0mnext\u001b[0m\u001b[0;34m(\u001b[0m\u001b[0mx\u001b[0m\u001b[0;34m)\u001b[0m\u001b[0;34m)\u001b[0m\u001b[0;34m\u001b[0m\u001b[0;34m\u001b[0m\u001b[0m\n\u001b[0;32m----> 4\u001b[0;31m \u001b[0mprint\u001b[0m\u001b[0;34m(\u001b[0m\u001b[0mnext\u001b[0m\u001b[0;34m(\u001b[0m\u001b[0mx\u001b[0m\u001b[0;34m)\u001b[0m\u001b[0;34m)\u001b[0m\u001b[0;34m\u001b[0m\u001b[0;34m\u001b[0m\u001b[0m\n\u001b[0m",
      "\u001b[0;31mStopIteration\u001b[0m: "
     ]
    }
   ],
   "source": [
    "print(next(x))\n",
    "print(next(x))\n",
    "print(next(x))\n",
    "print(next(x))"
   ]
  },
  {
   "cell_type": "markdown",
   "id": "express-concord",
   "metadata": {},
   "source": [
    "###### Exp3:"
   ]
  },
  {
   "cell_type": "code",
   "execution_count": 1,
   "id": "spiritual-producer",
   "metadata": {},
   "outputs": [
    {
     "name": "stdout",
     "output_type": "stream",
     "text": [
      "Collecting memory_profiler\n",
      "  Downloading memory_profiler-0.60.0.tar.gz (38 kB)\n",
      "  Preparing metadata (setup.py) ... \u001b[?25ldone\n",
      "\u001b[?25hRequirement already satisfied: psutil in /Library/Frameworks/Python.framework/Versions/3.7/lib/python3.7/site-packages (from memory_profiler) (5.9.0)\n",
      "Building wheels for collected packages: memory_profiler\n",
      "  Building wheel for memory_profiler (setup.py) ... \u001b[?25ldone\n",
      "\u001b[?25h  Created wheel for memory_profiler: filename=memory_profiler-0.60.0-py3-none-any.whl size=31276 sha256=f0eedcdfe36d7f14bdc8703b1124a44d5f7dce95307b8f85dfe004b81c7ba8c7\n",
      "  Stored in directory: /Users/raminsaljoughinejad/Library/Caches/pip/wheels/67/2b/fb/326e30d638c538e69a5eb0aa47f4223d979f502bbdb403950f\n",
      "Successfully built memory_profiler\n",
      "Installing collected packages: memory_profiler\n",
      "Successfully installed memory_profiler-0.60.0\n"
     ]
    }
   ],
   "source": [
    "!python -m pip install --upgrade --user memory_profiler"
   ]
  },
  {
   "cell_type": "code",
   "execution_count": 2,
   "id": "proved-evans",
   "metadata": {},
   "outputs": [],
   "source": [
    "import memory_profiler as mpf\n",
    "from random import randint as rnd"
   ]
  },
  {
   "cell_type": "code",
   "execution_count": 3,
   "id": "suitable-academy",
   "metadata": {},
   "outputs": [],
   "source": [
    "def random_list(length):\n",
    "    _list = []\n",
    "    for i in range(length):\n",
    "        _list.append(rnd(1,length))\n",
    "    return _list"
   ]
  },
  {
   "cell_type": "code",
   "execution_count": 4,
   "id": "super-reconstruction",
   "metadata": {},
   "outputs": [
    {
     "name": "stdout",
     "output_type": "stream",
     "text": [
      "System Memory BEFORE Running The Program: [46.48828125]\n",
      "System Memory AFTER Running The Program: [91.3359375]\n"
     ]
    }
   ],
   "source": [
    "print(\"System Memory BEFORE Running The Program:\",mpf.memory_usage())\n",
    "_list = random_list(1000000)\n",
    "print(\"System Memory AFTER Running The Program:\",mpf.memory_usage())"
   ]
  },
  {
   "cell_type": "code",
   "execution_count": 1,
   "id": "designed-mainland",
   "metadata": {},
   "outputs": [],
   "source": [
    "import memory_profiler as mpf\n",
    "from random import randint as rnd"
   ]
  },
  {
   "cell_type": "code",
   "execution_count": 2,
   "id": "polish-omaha",
   "metadata": {},
   "outputs": [],
   "source": [
    "def random_generator(length):\n",
    "    for i in range(length):\n",
    "        yield rnd(1,length)"
   ]
  },
  {
   "cell_type": "code",
   "execution_count": 3,
   "id": "conventional-travel",
   "metadata": {},
   "outputs": [
    {
     "name": "stdout",
     "output_type": "stream",
     "text": [
      "System Memory Before Running The Program: [45.890625]\n",
      "System Memory After Running The Program: [45.8984375]\n"
     ]
    }
   ],
   "source": [
    "print(\"System Memory Before Running The Program:\",mpf.memory_usage())\n",
    "gen = random_generator(1000000)\n",
    "print(\"System Memory After Running The Program:\",mpf.memory_usage())"
   ]
  },
  {
   "cell_type": "markdown",
   "id": "velvet-scheduling",
   "metadata": {},
   "source": [
    "### Generators Use Case"
   ]
  },
  {
   "cell_type": "markdown",
   "id": "colonial-truck",
   "metadata": {},
   "source": [
    "##### Loading Larg Files"
   ]
  },
  {
   "cell_type": "code",
   "execution_count": 1,
   "id": "baking-teach",
   "metadata": {},
   "outputs": [],
   "source": [
    "import memory_profiler as mpf"
   ]
  },
  {
   "cell_type": "code",
   "execution_count": 2,
   "id": "israeli-output",
   "metadata": {},
   "outputs": [],
   "source": [
    "def file_reader(file_name):\n",
    "    data = open(file_name, \"r\")\n",
    "    _list = data.readlines()\n",
    "    return _list"
   ]
  },
  {
   "cell_type": "code",
   "execution_count": 3,
   "id": "guilty-module",
   "metadata": {},
   "outputs": [
    {
     "name": "stdout",
     "output_type": "stream",
     "text": [
      "System Memory Before Running The Program: [45.796875]\n",
      "System Memory After Running The Program: [49.49609375]\n"
     ]
    }
   ],
   "source": [
    "print(\"System Memory Before Running The Program:\",mpf.memory_usage())\n",
    "for i in file_reader(\"words.txt\"):\n",
    "    line = i\n",
    "print(\"System Memory After Running The Program:\",mpf.memory_usage())"
   ]
  },
  {
   "cell_type": "code",
   "execution_count": 1,
   "id": "italian-comment",
   "metadata": {},
   "outputs": [],
   "source": [
    "import memory_profiler as mpf"
   ]
  },
  {
   "cell_type": "code",
   "execution_count": 2,
   "id": "altered-remains",
   "metadata": {},
   "outputs": [],
   "source": [
    "def file_reader(file_name):\n",
    "    for row in open(file_name, \"r\"):\n",
    "        yield row"
   ]
  },
  {
   "cell_type": "code",
   "execution_count": 3,
   "id": "narrow-printing",
   "metadata": {},
   "outputs": [
    {
     "name": "stdout",
     "output_type": "stream",
     "text": [
      "System Memory Before Running The Program: [45.890625]\n",
      "System Memory After Running The Program: [45.91796875]\n"
     ]
    }
   ],
   "source": [
    "print(\"System Memory Before Running The Program:\",mpf.memory_usage())\n",
    "for i in file_reader(\"words.txt\"):\n",
    "    line = i\n",
    "print(\"System Memory After Running The Program:\",mpf.memory_usage())"
   ]
  },
  {
   "cell_type": "markdown",
   "id": "alpha-mixer",
   "metadata": {},
   "source": [
    "###### Better way!"
   ]
  },
  {
   "cell_type": "code",
   "execution_count": 4,
   "id": "entire-louis",
   "metadata": {},
   "outputs": [
    {
     "name": "stdout",
     "output_type": "stream",
     "text": [
      "System Memory Before Running The Program: [45.94921875]\n",
      "System Memory After Running The Program: [45.9609375]\n",
      "<generator object <genexpr> at 0x7ff2cc3a27d0>\n"
     ]
    }
   ],
   "source": [
    "print(\"System Memory Before Running The Program:\",mpf.memory_usage())\n",
    "file_generator = (row for row in open(\"words.txt\", \"r\"))\n",
    "print(\"System Memory After Running The Program:\",mpf.memory_usage())\n",
    "\n",
    "print(file_generator)"
   ]
  },
  {
   "cell_type": "markdown",
   "id": "acting-citation",
   "metadata": {},
   "source": [
    "##### creating infinite ranges!"
   ]
  },
  {
   "cell_type": "code",
   "execution_count": 5,
   "id": "funded-newton",
   "metadata": {},
   "outputs": [],
   "source": [
    "def infinite_range():\n",
    "    x = 0\n",
    "    while True:\n",
    "        yield x\n",
    "        x+=1"
   ]
  },
  {
   "cell_type": "code",
   "execution_count": 6,
   "id": "dangerous-universe",
   "metadata": {},
   "outputs": [
    {
     "name": "stdout",
     "output_type": "stream",
     "text": [
      "System Memory Before Running The Program: [46.00390625]\n",
      "0\n",
      "1\n",
      "2\n",
      "3\n",
      "System Memory After Running The Program: [46.0078125]\n"
     ]
    }
   ],
   "source": [
    "print(\"System Memory Before Running The Program:\",mpf.memory_usage())\n",
    "my_range = infinite_range()\n",
    "print(next(my_range))\n",
    "print(next(my_range))\n",
    "print(next(my_range))\n",
    "print(next(my_range))\n",
    "print(\"System Memory After Running The Program:\",mpf.memory_usage())"
   ]
  }
 ],
 "metadata": {
  "kernelspec": {
   "display_name": "Python 3",
   "language": "python",
   "name": "python3"
  },
  "language_info": {
   "codemirror_mode": {
    "name": "ipython",
    "version": 3
   },
   "file_extension": ".py",
   "mimetype": "text/x-python",
   "name": "python",
   "nbconvert_exporter": "python",
   "pygments_lexer": "ipython3",
   "version": "3.7.6"
  }
 },
 "nbformat": 4,
 "nbformat_minor": 5
}
