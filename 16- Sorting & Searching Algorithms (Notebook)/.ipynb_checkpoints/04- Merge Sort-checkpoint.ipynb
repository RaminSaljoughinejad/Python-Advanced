{
 "cells": [
  {
   "cell_type": "markdown",
   "id": "ready-armenia",
   "metadata": {},
   "source": [
    "## Merge Sort -> O(n * Log(n))"
   ]
  },
  {
   "cell_type": "code",
   "execution_count": 1,
   "id": "clear-interim",
   "metadata": {},
   "outputs": [],
   "source": [
    "from random import randint as rnd"
   ]
  },
  {
   "cell_type": "code",
   "execution_count": 2,
   "id": "prerequisite-rates",
   "metadata": {},
   "outputs": [
    {
     "name": "stdout",
     "output_type": "stream",
     "text": [
      "[9, 4, 4, 5, 3, 9, 10, 1, 6, 1]\n"
     ]
    }
   ],
   "source": [
    "length = 10\n",
    "_list = [rnd(1,length) for i in range(length)]\n",
    "print(_list)"
   ]
  },
  {
   "cell_type": "code",
   "execution_count": 3,
   "id": "correct-johns",
   "metadata": {},
   "outputs": [],
   "source": [
    "def merge_lists(lst1, lst2):\n",
    "    _list = []\n",
    "    len1 = len(lst1)\n",
    "    len2 = len(lst2)\n",
    "    i = j = 0\n",
    "    while i<len1 and j<len2:\n",
    "        if lst1[i]<lst2[j]:\n",
    "            _list.append(lst1[i])\n",
    "            i+=1\n",
    "        else:\n",
    "            _list.append(lst2[j])\n",
    "            j+=1\n",
    "    _list += lst1[i:]\n",
    "    _list += lst2[j:]\n",
    "    return _list\n",
    "\n",
    "\n",
    "def merge_sort(_list):\n",
    "    if len(_list)==1:\n",
    "        return _list\n",
    "    \n",
    "    else:\n",
    "        mid = len(_list)//2\n",
    "        left = _list[:mid]\n",
    "        right = _list[mid:]\n",
    "\n",
    "    left = merge_sort(left)\n",
    "    right = merge_sort(right)\n",
    "    \n",
    "    return merge_lists(left, right)"
   ]
  },
  {
   "cell_type": "code",
   "execution_count": 4,
   "id": "chemical-president",
   "metadata": {},
   "outputs": [
    {
     "name": "stdout",
     "output_type": "stream",
     "text": [
      "[1, 1, 3, 4, 4, 5, 6, 9, 9, 10]\n"
     ]
    }
   ],
   "source": [
    "print(merge_sort(_list))"
   ]
  }
 ],
 "metadata": {
  "kernelspec": {
   "display_name": "Python 3",
   "language": "python",
   "name": "python3"
  },
  "language_info": {
   "codemirror_mode": {
    "name": "ipython",
    "version": 3
   },
   "file_extension": ".py",
   "mimetype": "text/x-python",
   "name": "python",
   "nbconvert_exporter": "python",
   "pygments_lexer": "ipython3",
   "version": "3.7.6"
  }
 },
 "nbformat": 4,
 "nbformat_minor": 5
}
