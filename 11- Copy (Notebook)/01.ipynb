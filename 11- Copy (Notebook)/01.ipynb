{
 "cells": [
  {
   "cell_type": "markdown",
   "id": "prospective-probability",
   "metadata": {},
   "source": [
    "## Copy"
   ]
  },
  {
   "cell_type": "markdown",
   "id": "recreational-sarah",
   "metadata": {},
   "source": [
    "###### Exp1:"
   ]
  },
  {
   "cell_type": "code",
   "execution_count": 1,
   "id": "detected-murder",
   "metadata": {},
   "outputs": [],
   "source": [
    "x = 2\n",
    "y = x"
   ]
  },
  {
   "cell_type": "code",
   "execution_count": 2,
   "id": "yellow-disability",
   "metadata": {},
   "outputs": [
    {
     "name": "stdout",
     "output_type": "stream",
     "text": [
      "4440468288\n",
      "4440468288\n"
     ]
    }
   ],
   "source": [
    "print(id(x))\n",
    "print(id(y))"
   ]
  },
  {
   "cell_type": "code",
   "execution_count": 3,
   "id": "equal-criminal",
   "metadata": {},
   "outputs": [],
   "source": [
    "x += 2"
   ]
  },
  {
   "cell_type": "code",
   "execution_count": 4,
   "id": "documentary-facing",
   "metadata": {},
   "outputs": [
    {
     "name": "stdout",
     "output_type": "stream",
     "text": [
      "4440468352\n",
      "4440468288\n"
     ]
    }
   ],
   "source": [
    "print(id(x))\n",
    "print(id(y))"
   ]
  },
  {
   "cell_type": "code",
   "execution_count": 5,
   "id": "progressive-commodity",
   "metadata": {},
   "outputs": [
    {
     "name": "stdout",
     "output_type": "stream",
     "text": [
      "4\n",
      "2\n"
     ]
    }
   ],
   "source": [
    "print(x)\n",
    "print(y)"
   ]
  },
  {
   "cell_type": "markdown",
   "id": "lucky-silence",
   "metadata": {},
   "source": [
    "###### Exp2:"
   ]
  },
  {
   "cell_type": "code",
   "execution_count": 1,
   "id": "bridal-tooth",
   "metadata": {},
   "outputs": [],
   "source": [
    "lst1 = [3,5,8,1,9]\n",
    "lst2 = lst1"
   ]
  },
  {
   "cell_type": "code",
   "execution_count": 2,
   "id": "defined-commons",
   "metadata": {},
   "outputs": [
    {
     "name": "stdout",
     "output_type": "stream",
     "text": [
      "140398466672192\n",
      "140398466672192\n"
     ]
    }
   ],
   "source": [
    "print(id(lst1))\n",
    "print(id(lst2))"
   ]
  },
  {
   "cell_type": "code",
   "execution_count": 3,
   "id": "minor-fitting",
   "metadata": {},
   "outputs": [],
   "source": [
    "lst1.append(2)"
   ]
  },
  {
   "cell_type": "code",
   "execution_count": 4,
   "id": "pressed-omaha",
   "metadata": {},
   "outputs": [
    {
     "name": "stdout",
     "output_type": "stream",
     "text": [
      "140398466672192\n",
      "140398466672192\n"
     ]
    }
   ],
   "source": [
    "print(id(lst1))\n",
    "print(id(lst2))"
   ]
  },
  {
   "cell_type": "code",
   "execution_count": 5,
   "id": "cubic-sampling",
   "metadata": {},
   "outputs": [
    {
     "name": "stdout",
     "output_type": "stream",
     "text": [
      "[3, 5, 8, 1, 9, 2]\n",
      "[3, 5, 8, 1, 9, 2]\n"
     ]
    }
   ],
   "source": [
    "print(lst1)\n",
    "print(lst2)"
   ]
  },
  {
   "cell_type": "code",
   "execution_count": 6,
   "id": "choice-heart",
   "metadata": {},
   "outputs": [],
   "source": [
    "lst3 = lst1.copy()"
   ]
  },
  {
   "cell_type": "code",
   "execution_count": 7,
   "id": "spare-mentor",
   "metadata": {},
   "outputs": [
    {
     "name": "stdout",
     "output_type": "stream",
     "text": [
      "140398466683600\n"
     ]
    }
   ],
   "source": [
    "print(id(lst3))"
   ]
  },
  {
   "cell_type": "code",
   "execution_count": 8,
   "id": "promising-alliance",
   "metadata": {},
   "outputs": [],
   "source": [
    "lst4 = lst1[:]"
   ]
  },
  {
   "cell_type": "code",
   "execution_count": 9,
   "id": "communist-hamburg",
   "metadata": {},
   "outputs": [
    {
     "name": "stdout",
     "output_type": "stream",
     "text": [
      "140398466685600\n"
     ]
    }
   ],
   "source": [
    "print(id(lst4))"
   ]
  },
  {
   "cell_type": "code",
   "execution_count": 10,
   "id": "behind-davis",
   "metadata": {},
   "outputs": [
    {
     "name": "stdout",
     "output_type": "stream",
     "text": [
      "True\n",
      "False\n",
      "False\n"
     ]
    }
   ],
   "source": [
    "print(lst1 is lst2)\n",
    "print(lst1 is lst3)\n",
    "print(lst1 is lst4)"
   ]
  },
  {
   "cell_type": "markdown",
   "id": "quantitative-semiconductor",
   "metadata": {},
   "source": [
    "###### Exp3:"
   ]
  },
  {
   "cell_type": "code",
   "execution_count": 1,
   "id": "second-shade",
   "metadata": {},
   "outputs": [],
   "source": [
    "dict1 = {\"a\":2,\"b\":3}\n",
    "dict2 = dict1"
   ]
  },
  {
   "cell_type": "code",
   "execution_count": 2,
   "id": "turkish-hawaiian",
   "metadata": {},
   "outputs": [
    {
     "name": "stdout",
     "output_type": "stream",
     "text": [
      "140197871971856\n",
      "140197871971856\n"
     ]
    }
   ],
   "source": [
    "print(id(dict1))\n",
    "print(id(dict2))"
   ]
  },
  {
   "cell_type": "code",
   "execution_count": 3,
   "id": "descending-percentage",
   "metadata": {},
   "outputs": [],
   "source": [
    "dict1[\"c\"]=6"
   ]
  },
  {
   "cell_type": "code",
   "execution_count": 4,
   "id": "eight-radiation",
   "metadata": {},
   "outputs": [
    {
     "name": "stdout",
     "output_type": "stream",
     "text": [
      "140197871971856\n",
      "140197871971856\n"
     ]
    }
   ],
   "source": [
    "print(id(dict1))\n",
    "print(id(dict2))"
   ]
  },
  {
   "cell_type": "code",
   "execution_count": 5,
   "id": "direct-baptist",
   "metadata": {},
   "outputs": [
    {
     "name": "stdout",
     "output_type": "stream",
     "text": [
      "{'a': 2, 'b': 3, 'c': 6}\n",
      "{'a': 2, 'b': 3, 'c': 6}\n"
     ]
    }
   ],
   "source": [
    "print(dict1)\n",
    "print(dict2)"
   ]
  },
  {
   "cell_type": "code",
   "execution_count": 6,
   "id": "attached-elizabeth",
   "metadata": {},
   "outputs": [],
   "source": [
    "dict3 = dict2.copy()"
   ]
  },
  {
   "cell_type": "code",
   "execution_count": 7,
   "id": "abroad-investigator",
   "metadata": {},
   "outputs": [
    {
     "name": "stdout",
     "output_type": "stream",
     "text": [
      "140197871971856\n",
      "140197871993952\n"
     ]
    }
   ],
   "source": [
    "print(id(dict2))\n",
    "print(id(dict3))"
   ]
  },
  {
   "cell_type": "markdown",
   "id": "practical-maple",
   "metadata": {},
   "source": [
    "###### Exp4: Types that its not important if they are a copy or not"
   ]
  },
  {
   "cell_type": "code",
   "execution_count": 1,
   "id": "streaming-gnome",
   "metadata": {},
   "outputs": [],
   "source": [
    "tpl1 = (2,5,4,3)\n",
    "tpl2 = tpl1"
   ]
  },
  {
   "cell_type": "code",
   "execution_count": 2,
   "id": "focal-passenger",
   "metadata": {},
   "outputs": [
    {
     "name": "stdout",
     "output_type": "stream",
     "text": [
      "140445855775440\n",
      "140445855775440\n"
     ]
    }
   ],
   "source": [
    "print(id(tpl1))\n",
    "print(id(tpl2))"
   ]
  },
  {
   "cell_type": "code",
   "execution_count": 3,
   "id": "essential-dylan",
   "metadata": {},
   "outputs": [
    {
     "ename": "TypeError",
     "evalue": "'tuple' object does not support item assignment",
     "output_type": "error",
     "traceback": [
      "\u001b[0;31m---------------------------------------------------------------------------\u001b[0m",
      "\u001b[0;31mTypeError\u001b[0m                                 Traceback (most recent call last)",
      "\u001b[0;32m<ipython-input-3-e6962de66fb5>\u001b[0m in \u001b[0;36m<module>\u001b[0;34m\u001b[0m\n\u001b[0;32m----> 1\u001b[0;31m \u001b[0mtpl1\u001b[0m\u001b[0;34m[\u001b[0m\u001b[0;36m0\u001b[0m\u001b[0;34m]\u001b[0m \u001b[0;34m=\u001b[0m \u001b[0;36m7\u001b[0m\u001b[0;34m\u001b[0m\u001b[0;34m\u001b[0m\u001b[0m\n\u001b[0m",
      "\u001b[0;31mTypeError\u001b[0m: 'tuple' object does not support item assignment"
     ]
    }
   ],
   "source": [
    "tpl1[0] = 7"
   ]
  },
  {
   "cell_type": "markdown",
   "id": "eight-aside",
   "metadata": {},
   "source": [
    "#### Exp5: Concatinating a string will create a new object! ( string )"
   ]
  },
  {
   "cell_type": "code",
   "execution_count": 1,
   "id": "timely-retreat",
   "metadata": {},
   "outputs": [],
   "source": [
    "str1 = \"Hello\"\n",
    "str2 = str1"
   ]
  },
  {
   "cell_type": "code",
   "execution_count": 2,
   "id": "miniature-tracy",
   "metadata": {},
   "outputs": [
    {
     "name": "stdout",
     "output_type": "stream",
     "text": [
      "140257589222320\n",
      "140257589222320\n"
     ]
    }
   ],
   "source": [
    "print(id(str1))\n",
    "print(id(str2))"
   ]
  },
  {
   "cell_type": "code",
   "execution_count": 3,
   "id": "illegal-desktop",
   "metadata": {},
   "outputs": [],
   "source": [
    "str1 += \", world\""
   ]
  },
  {
   "cell_type": "code",
   "execution_count": 4,
   "id": "secret-drawing",
   "metadata": {},
   "outputs": [
    {
     "name": "stdout",
     "output_type": "stream",
     "text": [
      "140257589234352\n",
      "140257589222320\n"
     ]
    }
   ],
   "source": [
    "print(id(str1))\n",
    "print(id(str2))"
   ]
  },
  {
   "cell_type": "code",
   "execution_count": 5,
   "id": "desirable-workshop",
   "metadata": {},
   "outputs": [
    {
     "name": "stdout",
     "output_type": "stream",
     "text": [
      "Hello, world\n",
      "Hello\n"
     ]
    }
   ],
   "source": [
    "print(str1)\n",
    "print(str2)"
   ]
  },
  {
   "cell_type": "markdown",
   "id": "tested-western",
   "metadata": {},
   "source": [
    "###### Exp6:"
   ]
  },
  {
   "cell_type": "code",
   "execution_count": 1,
   "id": "whole-adolescent",
   "metadata": {},
   "outputs": [],
   "source": [
    "class Car:\n",
    "    def __init__(self, color, value):\n",
    "        self.color = \"red\"\n",
    "        self.value = value"
   ]
  },
  {
   "cell_type": "code",
   "execution_count": 2,
   "id": "connected-inspector",
   "metadata": {},
   "outputs": [],
   "source": [
    "car1 = Car(\"red\",19)\n",
    "car2 = car1"
   ]
  },
  {
   "cell_type": "code",
   "execution_count": 3,
   "id": "focal-hobby",
   "metadata": {},
   "outputs": [
    {
     "name": "stdout",
     "output_type": "stream",
     "text": [
      "140598517984592\n",
      "140598517984592\n"
     ]
    }
   ],
   "source": [
    "print(id(car1))\n",
    "print(id(car2))"
   ]
  },
  {
   "cell_type": "code",
   "execution_count": 4,
   "id": "august-render",
   "metadata": {},
   "outputs": [],
   "source": [
    "car1.value = 99"
   ]
  },
  {
   "cell_type": "code",
   "execution_count": 5,
   "id": "becoming-milton",
   "metadata": {},
   "outputs": [
    {
     "name": "stdout",
     "output_type": "stream",
     "text": [
      "140598517984592\n",
      "140598517984592\n"
     ]
    }
   ],
   "source": [
    "print(id(car1))\n",
    "print(id(car2))"
   ]
  },
  {
   "cell_type": "code",
   "execution_count": 6,
   "id": "separate-potter",
   "metadata": {},
   "outputs": [
    {
     "name": "stdout",
     "output_type": "stream",
     "text": [
      "99\n",
      "99\n"
     ]
    }
   ],
   "source": [
    "print(car1.value)\n",
    "print(car2.value)"
   ]
  },
  {
   "cell_type": "markdown",
   "id": "handmade-battery",
   "metadata": {},
   "source": [
    "### You just need to be worried about Lists and Dictionaries ( if, and if only you are using the standard python types, and not creating you own classes)!"
   ]
  },
  {
   "cell_type": "markdown",
   "id": "broke-rover",
   "metadata": {},
   "source": [
    "### Objects are like lists in term of copying! so be careful what are you referencing!"
   ]
  },
  {
   "cell_type": "markdown",
   "id": "outdoor-latest",
   "metadata": {},
   "source": [
    "###### Exp7:"
   ]
  },
  {
   "cell_type": "code",
   "execution_count": 1,
   "id": "annual-blues",
   "metadata": {},
   "outputs": [],
   "source": [
    "lst1 = [2,3,5,6]\n",
    "lst2 = [5,3,4,lst1,1]\n",
    "lst3 = lst2.copy()"
   ]
  },
  {
   "cell_type": "code",
   "execution_count": 2,
   "id": "bridal-condition",
   "metadata": {},
   "outputs": [
    {
     "name": "stdout",
     "output_type": "stream",
     "text": [
      "140700918983328\n",
      "140700918983088\n",
      "140700918983088\n"
     ]
    }
   ],
   "source": [
    "print(id(lst1))\n",
    "print(id(lst2))\n",
    "print(id(lst3))"
   ]
  },
  {
   "cell_type": "code",
   "execution_count": 3,
   "id": "banned-approach",
   "metadata": {},
   "outputs": [],
   "source": [
    "lst2.append(87)"
   ]
  },
  {
   "cell_type": "code",
   "execution_count": 4,
   "id": "central-profile",
   "metadata": {},
   "outputs": [
    {
     "name": "stdout",
     "output_type": "stream",
     "text": [
      "140700918983328\n",
      "140700918983088\n",
      "140700918983088\n"
     ]
    }
   ],
   "source": [
    "print(id(lst1))\n",
    "print(id(lst2))\n",
    "print(id(lst3))"
   ]
  },
  {
   "cell_type": "code",
   "execution_count": 5,
   "id": "numeric-wrestling",
   "metadata": {},
   "outputs": [
    {
     "name": "stdout",
     "output_type": "stream",
     "text": [
      "[5, 3, 4, [2, 3, 5, 6], 1, 87]\n",
      "[5, 3, 4, [2, 3, 5, 6], 1, 87]\n"
     ]
    }
   ],
   "source": [
    "print(lst2)\n",
    "print(lst3)"
   ]
  },
  {
   "cell_type": "markdown",
   "id": "racial-white",
   "metadata": {},
   "source": [
    "###### Exp8:"
   ]
  },
  {
   "cell_type": "code",
   "execution_count": 1,
   "id": "accessory-european",
   "metadata": {},
   "outputs": [],
   "source": [
    "import copy"
   ]
  },
  {
   "cell_type": "code",
   "execution_count": 2,
   "id": "smoking-prince",
   "metadata": {},
   "outputs": [],
   "source": [
    "lst1 = [2,3,4,5]\n",
    "lst2 = copy.copy(lst1)"
   ]
  },
  {
   "cell_type": "code",
   "execution_count": 3,
   "id": "international-newport",
   "metadata": {},
   "outputs": [
    {
     "name": "stdout",
     "output_type": "stream",
     "text": [
      "140241733898144\n",
      "140241733897824\n"
     ]
    }
   ],
   "source": [
    "print(id(lst1))\n",
    "print(id(lst2))"
   ]
  },
  {
   "cell_type": "code",
   "execution_count": 4,
   "id": "sublime-template",
   "metadata": {},
   "outputs": [],
   "source": [
    "lst1.append(9)"
   ]
  },
  {
   "cell_type": "code",
   "execution_count": 5,
   "id": "willing-presence",
   "metadata": {},
   "outputs": [
    {
     "name": "stdout",
     "output_type": "stream",
     "text": [
      "[2, 3, 4, 5, 9]\n",
      "[2, 3, 4, 5]\n"
     ]
    }
   ],
   "source": [
    "print(lst1)\n",
    "print(lst2)"
   ]
  },
  {
   "cell_type": "markdown",
   "id": "advance-holder",
   "metadata": {},
   "source": [
    "###### Exp9:"
   ]
  },
  {
   "cell_type": "code",
   "execution_count": 1,
   "id": "graphic-concept",
   "metadata": {},
   "outputs": [],
   "source": [
    "import copy"
   ]
  },
  {
   "cell_type": "code",
   "execution_count": 2,
   "id": "dynamic-insurance",
   "metadata": {},
   "outputs": [],
   "source": [
    "lst1 = [2,5,6,3]\n",
    "lst2 = [0,1,7,lst1,3,4]\n",
    "lst3 = copy.copy(lst2)"
   ]
  },
  {
   "cell_type": "code",
   "execution_count": 3,
   "id": "recent-front",
   "metadata": {},
   "outputs": [
    {
     "name": "stdout",
     "output_type": "stream",
     "text": [
      "140542776947728\n",
      "140542776948368\n"
     ]
    }
   ],
   "source": [
    "print(id(lst2))\n",
    "print(id(lst3))"
   ]
  },
  {
   "cell_type": "code",
   "execution_count": 4,
   "id": "detected-myrtle",
   "metadata": {},
   "outputs": [],
   "source": [
    "lst1.append(\"ok\")"
   ]
  },
  {
   "cell_type": "code",
   "execution_count": 5,
   "id": "olive-acting",
   "metadata": {},
   "outputs": [
    {
     "name": "stdout",
     "output_type": "stream",
     "text": [
      "[0, 1, 7, [2, 5, 6, 3, 'ok'], 3, 4]\n",
      "[0, 1, 7, [2, 5, 6, 3, 'ok'], 3, 4]\n"
     ]
    }
   ],
   "source": [
    "print(lst2)\n",
    "print(lst3)"
   ]
  },
  {
   "cell_type": "markdown",
   "id": "classified-accused",
   "metadata": {},
   "source": [
    "###### Exp10:"
   ]
  },
  {
   "cell_type": "code",
   "execution_count": 1,
   "id": "smaller-amino",
   "metadata": {},
   "outputs": [],
   "source": [
    "from copy import copy, deepcopy"
   ]
  },
  {
   "cell_type": "code",
   "execution_count": 2,
   "id": "operating-postcard",
   "metadata": {},
   "outputs": [],
   "source": [
    "lst1 = [2,5,6,3]\n",
    "lst2 = [0,1,7,lst1,3,4]\n",
    "lst3 = deepcopy(lst2)"
   ]
  },
  {
   "cell_type": "code",
   "execution_count": 3,
   "id": "digital-singles",
   "metadata": {},
   "outputs": [],
   "source": [
    "lst1.append(\"ok\")"
   ]
  },
  {
   "cell_type": "code",
   "execution_count": 4,
   "id": "moral-highland",
   "metadata": {},
   "outputs": [
    {
     "name": "stdout",
     "output_type": "stream",
     "text": [
      "[0, 1, 7, [2, 5, 6, 3, 'ok'], 3, 4]\n",
      "[0, 1, 7, [2, 5, 6, 3], 3, 4]\n"
     ]
    }
   ],
   "source": [
    "print(lst2)\n",
    "print(lst3)"
   ]
  }
 ],
 "metadata": {
  "kernelspec": {
   "display_name": "Python 3",
   "language": "python",
   "name": "python3"
  },
  "language_info": {
   "codemirror_mode": {
    "name": "ipython",
    "version": 3
   },
   "file_extension": ".py",
   "mimetype": "text/x-python",
   "name": "python",
   "nbconvert_exporter": "python",
   "pygments_lexer": "ipython3",
   "version": "3.7.6"
  }
 },
 "nbformat": 4,
 "nbformat_minor": 5
}
