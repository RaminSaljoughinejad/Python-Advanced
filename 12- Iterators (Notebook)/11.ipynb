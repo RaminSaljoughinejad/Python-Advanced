{
 "cells": [
  {
   "cell_type": "markdown",
   "id": "intellectual-medline",
   "metadata": {},
   "source": [
    "## Iterators"
   ]
  },
  {
   "cell_type": "markdown",
   "id": "faced-interference",
   "metadata": {},
   "source": [
    "###### Exp1:"
   ]
  },
  {
   "cell_type": "code",
   "execution_count": 1,
   "id": "another-tragedy",
   "metadata": {},
   "outputs": [
    {
     "name": "stdout",
     "output_type": "stream",
     "text": [
      "Tesla\n",
      "Mazda\n",
      "Toyota\n",
      "Honda\n",
      "Jaguar\n",
      "Mitsubishi\n",
      "Volvo\n",
      "Lexus\n"
     ]
    }
   ],
   "source": [
    "_list = [\"Tesla\", \"Mazda\", \"Toyota\", \"Honda\", \"Jaguar\", \"Mitsubishi\", \"Volvo\", \"Lexus\"]\n",
    "\n",
    "length = len(_list)\n",
    "i = 0\n",
    "while i < length:\n",
    "    print(_list[i])\n",
    "    i+=1"
   ]
  },
  {
   "cell_type": "code",
   "execution_count": 2,
   "id": "thermal-nelson",
   "metadata": {},
   "outputs": [
    {
     "name": "stdout",
     "output_type": "stream",
     "text": [
      "Tesla\n",
      "Mazda\n",
      "Toyota\n",
      "Honda\n",
      "Jaguar\n",
      "Mitsubishi\n",
      "Volvo\n",
      "Lexus\n"
     ]
    }
   ],
   "source": [
    "for i in _list:\n",
    "    print(i)"
   ]
  },
  {
   "cell_type": "markdown",
   "id": "configured-father",
   "metadata": {},
   "source": [
    "###### Exp2:"
   ]
  },
  {
   "cell_type": "code",
   "execution_count": 3,
   "id": "desperate-nigeria",
   "metadata": {},
   "outputs": [
    {
     "name": "stdout",
     "output_type": "stream",
     "text": [
      "Tesla\n",
      "Mazda\n",
      "Toyota\n",
      "Honda\n",
      "Jaguar\n",
      "Mitsubishi\n",
      "Volvo\n",
      "Lexus\n"
     ]
    }
   ],
   "source": [
    "iterator_list = iter(_list)\n",
    "while True:\n",
    "    try:\n",
    "        print(next(iterator_list))\n",
    "    except:\n",
    "        break"
   ]
  },
  {
   "cell_type": "code",
   "execution_count": 4,
   "id": "presidential-position",
   "metadata": {},
   "outputs": [
    {
     "name": "stdout",
     "output_type": "stream",
     "text": [
      "P\n",
      "y\n",
      "t\n",
      "h\n",
      "o\n",
      "n\n",
      "3\n"
     ]
    }
   ],
   "source": [
    "my_iterator = iter(\"Python3\")\n",
    "for i in my_iterator:\n",
    "    print(i)"
   ]
  },
  {
   "cell_type": "markdown",
   "id": "differential-stand",
   "metadata": {},
   "source": [
    "###### Exp3:"
   ]
  },
  {
   "cell_type": "code",
   "execution_count": 1,
   "id": "authorized-remainder",
   "metadata": {},
   "outputs": [],
   "source": [
    "class C_iterator:\n",
    "    def __iter__(self):\n",
    "        self.value = 0\n",
    "        return self\n",
    "    def __next__(self):\n",
    "        x = self.value\n",
    "        self.value += 1\n",
    "        return x"
   ]
  },
  {
   "cell_type": "code",
   "execution_count": 2,
   "id": "comprehensive-colombia",
   "metadata": {},
   "outputs": [
    {
     "name": "stdout",
     "output_type": "stream",
     "text": [
      "0\n",
      "1\n",
      "2\n"
     ]
    }
   ],
   "source": [
    "my_iterator = C_iterator().__iter__()\n",
    "\n",
    "print(next(my_iterator))\n",
    "\n",
    "print(next(my_iterator))\n",
    "\n",
    "print(next(my_iterator))"
   ]
  },
  {
   "cell_type": "code",
   "execution_count": 3,
   "id": "diverse-rebecca",
   "metadata": {},
   "outputs": [
    {
     "name": "stdout",
     "output_type": "stream",
     "text": [
      "0\n",
      "1\n",
      "2\n"
     ]
    }
   ],
   "source": [
    "my_iterator = iter(C_iterator())\n",
    "\n",
    "print(next(my_iterator))\n",
    "\n",
    "print(next(my_iterator))\n",
    "\n",
    "print(next(my_iterator))"
   ]
  },
  {
   "cell_type": "markdown",
   "id": "polish-probability",
   "metadata": {},
   "source": [
    "###### Exp4:"
   ]
  },
  {
   "cell_type": "code",
   "execution_count": 1,
   "id": "sufficient-democrat",
   "metadata": {},
   "outputs": [],
   "source": [
    "class C_iterator:\n",
    "    def __init__(self, limit):\n",
    "        self.limit = limit\n",
    "    def __iter__(self):\n",
    "        self.value = 0\n",
    "        return self\n",
    "    def __next__(self):\n",
    "        x = self.value\n",
    "        if self.value < self.limit:\n",
    "            self.value += 1\n",
    "        else:\n",
    "            raise StopIteration\n",
    "        return x"
   ]
  },
  {
   "cell_type": "code",
   "execution_count": 2,
   "id": "furnished-feedback",
   "metadata": {},
   "outputs": [
    {
     "name": "stdout",
     "output_type": "stream",
     "text": [
      "0\n",
      "1\n",
      "2\n",
      "3\n",
      "4\n",
      "5\n",
      "6\n"
     ]
    }
   ],
   "source": [
    "my_iterator = iter(C_iterator(7))\n",
    "\n",
    "for i in my_iterator:\n",
    "    print(i)"
   ]
  },
  {
   "cell_type": "markdown",
   "id": "loving-debate",
   "metadata": {},
   "source": [
    "###### Exp5:"
   ]
  },
  {
   "cell_type": "code",
   "execution_count": 1,
   "id": "removable-forest",
   "metadata": {},
   "outputs": [],
   "source": [
    "class C_iterator:\n",
    "    def __init__(self, start=0, limit=None, step = 1):\n",
    "        self.start = start\n",
    "        self.limit = limit\n",
    "        self.step = step\n",
    "    def __iter__(self):\n",
    "        self.value = self.start\n",
    "        return self\n",
    "    def __next__(self):\n",
    "        x = self.value\n",
    "        if self.limit is not None:\n",
    "            if self.value + self.step < self.limit:\n",
    "                self.value += self.step\n",
    "            else:\n",
    "                raise StopIteration\n",
    "        else:\n",
    "            self.value +=1\n",
    "        return x"
   ]
  },
  {
   "cell_type": "code",
   "execution_count": 2,
   "id": "emerging-bottom",
   "metadata": {},
   "outputs": [
    {
     "name": "stdout",
     "output_type": "stream",
     "text": [
      "3\n",
      "5\n",
      "7\n"
     ]
    }
   ],
   "source": [
    "my_iterator = iter(C_iterator(3,10,2))\n",
    "\n",
    "for i in my_iterator:\n",
    "    print(i)"
   ]
  },
  {
   "cell_type": "markdown",
   "id": "registered-powell",
   "metadata": {},
   "source": [
    "###### Exp6:"
   ]
  },
  {
   "cell_type": "code",
   "execution_count": 1,
   "id": "sudden-honolulu",
   "metadata": {},
   "outputs": [],
   "source": [
    "class C_iterator:\n",
    "    def __init__(self, start=0, limit=None, step = 1):\n",
    "        self.start = start\n",
    "        self.limit = limit\n",
    "        self.step = step\n",
    "        self.__iter__()\n",
    "    def __iter__(self):\n",
    "        self.value = self.start\n",
    "        return self\n",
    "    def __next__(self):\n",
    "        x = self.value\n",
    "        if self.limit is not None:\n",
    "            if self.value + self.step < self.limit:\n",
    "                self.value += self.step\n",
    "            else:\n",
    "                raise StopIteration\n",
    "        else:\n",
    "            self.value +=1\n",
    "        return x"
   ]
  },
  {
   "cell_type": "code",
   "execution_count": 2,
   "id": "dressed-stewart",
   "metadata": {},
   "outputs": [
    {
     "name": "stdout",
     "output_type": "stream",
     "text": [
      "3\n",
      "5\n",
      "7\n"
     ]
    }
   ],
   "source": [
    "my_iterator = C_iterator(3,10,2)\n",
    "\n",
    "for i in my_iterator:\n",
    "    print(i)"
   ]
  },
  {
   "cell_type": "markdown",
   "id": "buried-temperature",
   "metadata": {},
   "source": [
    "### The primary purpose of an iterator is to allow a user to process every element of a container while isolating the user from the internal structure of the container. This allows the container to store elements in any manner it wishes while allowing the user to treat it as if it were a simple sequence or list."
   ]
  },
  {
   "cell_type": "markdown",
   "id": "honest-focus",
   "metadata": {},
   "source": [
    "###### Exp7:"
   ]
  },
  {
   "cell_type": "code",
   "execution_count": 1,
   "id": "level-pontiac",
   "metadata": {},
   "outputs": [],
   "source": [
    "_list = [\"Tesla\", \"Mazda\", \"Toyota\", \"Honda\", \"Jaguar\", \"Mitsubishi\", \"Volvo\", \"Lexus\"]"
   ]
  },
  {
   "cell_type": "code",
   "execution_count": 2,
   "id": "young-welcome",
   "metadata": {},
   "outputs": [],
   "source": [
    "class C_iterator:\n",
    "    def __init__(self,iterable_object):\n",
    "        self.obj = iterable_object\n",
    "        self.__iter__()\n",
    "    def __iter__(self):\n",
    "        self.c_index = 0\n",
    "        return self\n",
    "    def __next__(self):\n",
    "        try:\n",
    "            x = self.obj[self.c_index]\n",
    "            self.c_index+=1\n",
    "        except:\n",
    "            self.c_index-=1\n",
    "            raise StopIteration\n",
    "        return x"
   ]
  },
  {
   "cell_type": "code",
   "execution_count": 3,
   "id": "confused-behalf",
   "metadata": {},
   "outputs": [
    {
     "name": "stdout",
     "output_type": "stream",
     "text": [
      "Tesla\n",
      "Mazda\n",
      "Toyota\n",
      "Honda\n",
      "Jaguar\n",
      "Mitsubishi\n",
      "Volvo\n",
      "Lexus\n"
     ]
    }
   ],
   "source": [
    "my_iterator = C_iterator(_list)\n",
    "\n",
    "for i in my_iterator:\n",
    "    print(i)"
   ]
  },
  {
   "cell_type": "code",
   "execution_count": null,
   "id": "constitutional-drink",
   "metadata": {},
   "outputs": [],
   "source": []
  }
 ],
 "metadata": {
  "kernelspec": {
   "display_name": "Python 3",
   "language": "python",
   "name": "python3"
  },
  "language_info": {
   "codemirror_mode": {
    "name": "ipython",
    "version": 3
   },
   "file_extension": ".py",
   "mimetype": "text/x-python",
   "name": "python",
   "nbconvert_exporter": "python",
   "pygments_lexer": "ipython3",
   "version": "3.7.6"
  }
 },
 "nbformat": 4,
 "nbformat_minor": 5
}
