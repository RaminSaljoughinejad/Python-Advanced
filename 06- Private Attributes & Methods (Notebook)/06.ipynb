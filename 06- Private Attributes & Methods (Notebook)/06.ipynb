{
 "cells": [
  {
   "cell_type": "markdown",
   "id": "subtle-advantage",
   "metadata": {},
   "source": [
    "## Private Variables and Methods"
   ]
  },
  {
   "cell_type": "markdown",
   "id": "imported-eating",
   "metadata": {},
   "source": [
    "### Keep it in mind! private methods are not supposed to be called from outside of class! yet again, it does not mean that you can not access them from outside of the class itself! \n",
    "using _ and _ _ in front of an attributes or methods name is just a way of telling the other programmers that they are not supposed to play with them from outside of a class and nothing else!"
   ]
  },
  {
   "cell_type": "markdown",
   "id": "korean-texture",
   "metadata": {},
   "source": [
    "###### Exp1:"
   ]
  },
  {
   "cell_type": "code",
   "execution_count": 1,
   "id": "academic-franchise",
   "metadata": {},
   "outputs": [],
   "source": [
    "class A:\n",
    "    def __init__(self):\n",
    "        self.val = 2\n",
    "        self._val = 3\n",
    "        self.__val = 4"
   ]
  },
  {
   "cell_type": "code",
   "execution_count": 2,
   "id": "negative-healing",
   "metadata": {},
   "outputs": [],
   "source": [
    "x = A()"
   ]
  },
  {
   "cell_type": "code",
   "execution_count": 3,
   "id": "regulated-attack",
   "metadata": {},
   "outputs": [
    {
     "name": "stdout",
     "output_type": "stream",
     "text": [
      "2\n",
      "3\n"
     ]
    },
    {
     "ename": "AttributeError",
     "evalue": "'A' object has no attribute '__val'",
     "output_type": "error",
     "traceback": [
      "\u001b[0;31m---------------------------------------------------------------------------\u001b[0m",
      "\u001b[0;31mAttributeError\u001b[0m                            Traceback (most recent call last)",
      "\u001b[0;32m<ipython-input-3-9df0ad2d7816>\u001b[0m in \u001b[0;36m<module>\u001b[0;34m\u001b[0m\n\u001b[1;32m      1\u001b[0m \u001b[0mprint\u001b[0m\u001b[0;34m(\u001b[0m\u001b[0mx\u001b[0m\u001b[0;34m.\u001b[0m\u001b[0mval\u001b[0m\u001b[0;34m)\u001b[0m\u001b[0;34m\u001b[0m\u001b[0;34m\u001b[0m\u001b[0m\n\u001b[1;32m      2\u001b[0m \u001b[0mprint\u001b[0m\u001b[0;34m(\u001b[0m\u001b[0mx\u001b[0m\u001b[0;34m.\u001b[0m\u001b[0m_val\u001b[0m\u001b[0;34m)\u001b[0m\u001b[0;34m\u001b[0m\u001b[0;34m\u001b[0m\u001b[0m\n\u001b[0;32m----> 3\u001b[0;31m \u001b[0mprint\u001b[0m\u001b[0;34m(\u001b[0m\u001b[0mx\u001b[0m\u001b[0;34m.\u001b[0m\u001b[0m__val\u001b[0m\u001b[0;34m)\u001b[0m\u001b[0;34m\u001b[0m\u001b[0;34m\u001b[0m\u001b[0m\n\u001b[0m",
      "\u001b[0;31mAttributeError\u001b[0m: 'A' object has no attribute '__val'"
     ]
    }
   ],
   "source": [
    "print(x.val)\n",
    "print(x._val)\n",
    "print(x.__val)"
   ]
  },
  {
   "cell_type": "code",
   "execution_count": 4,
   "id": "decreased-childhood",
   "metadata": {},
   "outputs": [
    {
     "data": {
      "text/plain": [
       "{'val': 2, '_val': 3, '_A__val': 4}"
      ]
     },
     "execution_count": 4,
     "metadata": {},
     "output_type": "execute_result"
    }
   ],
   "source": [
    "x.__dict__"
   ]
  },
  {
   "cell_type": "code",
   "execution_count": 5,
   "id": "moving-commercial",
   "metadata": {},
   "outputs": [
    {
     "data": {
      "text/plain": [
       "4"
      ]
     },
     "execution_count": 5,
     "metadata": {},
     "output_type": "execute_result"
    }
   ],
   "source": [
    "x._A__val"
   ]
  }
 ],
 "metadata": {
  "kernelspec": {
   "display_name": "Python 3",
   "language": "python",
   "name": "python3"
  },
  "language_info": {
   "codemirror_mode": {
    "name": "ipython",
    "version": 3
   },
   "file_extension": ".py",
   "mimetype": "text/x-python",
   "name": "python",
   "nbconvert_exporter": "python",
   "pygments_lexer": "ipython3",
   "version": "3.7.6"
  }
 },
 "nbformat": 4,
 "nbformat_minor": 5
}
