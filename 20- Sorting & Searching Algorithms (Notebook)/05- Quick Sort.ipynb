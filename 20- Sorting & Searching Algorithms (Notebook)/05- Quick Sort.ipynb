{
 "cells": [
  {
   "cell_type": "markdown",
   "id": "martial-jacket",
   "metadata": {},
   "source": [
    "## Quick Sort"
   ]
  },
  {
   "cell_type": "code",
   "execution_count": 1,
   "id": "another-holder",
   "metadata": {},
   "outputs": [],
   "source": [
    "from random import randint as rnd"
   ]
  },
  {
   "cell_type": "code",
   "execution_count": 2,
   "id": "incredible-notebook",
   "metadata": {},
   "outputs": [
    {
     "name": "stdout",
     "output_type": "stream",
     "text": [
      "[7, 5, 9, 2, 2, 3, 2, 7, 8, 8]\n"
     ]
    }
   ],
   "source": [
    "length = 10\n",
    "_list = [rnd(1,length) for i in range(length)]\n",
    "print(_list)"
   ]
  },
  {
   "cell_type": "code",
   "execution_count": 3,
   "id": "according-aurora",
   "metadata": {},
   "outputs": [],
   "source": [
    "def quick_sort(_list):\n",
    "    length = len(_list)\n",
    "    if length <= 1:\n",
    "        return _list\n",
    "    else:\n",
    "        pivot = _list.pop()\n",
    "    right = []\n",
    "    left = []\n",
    "    for i in _list:\n",
    "        if i<pivot:\n",
    "            left.append(i)\n",
    "        else:\n",
    "            right.append(i)\n",
    "    return quick_sort(left) + [pivot] + quick_sort(right)"
   ]
  },
  {
   "cell_type": "code",
   "execution_count": 4,
   "id": "daily-timber",
   "metadata": {},
   "outputs": [
    {
     "name": "stdout",
     "output_type": "stream",
     "text": [
      "[2, 2, 2, 3, 5, 7, 7, 8, 8, 9]\n"
     ]
    }
   ],
   "source": [
    "print(quick_sort(_list))"
   ]
  }
 ],
 "metadata": {
  "kernelspec": {
   "display_name": "Python 3",
   "language": "python",
   "name": "python3"
  },
  "language_info": {
   "codemirror_mode": {
    "name": "ipython",
    "version": 3
   },
   "file_extension": ".py",
   "mimetype": "text/x-python",
   "name": "python",
   "nbconvert_exporter": "python",
   "pygments_lexer": "ipython3",
   "version": "3.7.6"
  }
 },
 "nbformat": 4,
 "nbformat_minor": 5
}
