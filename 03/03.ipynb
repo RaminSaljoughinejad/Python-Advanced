{
 "cells": [
  {
   "cell_type": "markdown",
   "id": "1f67da55",
   "metadata": {},
   "source": [
    "## <p style='color:orange'>Exercise 03: Constances</p>"
   ]
  },
  {
   "cell_type": "markdown",
   "id": "700d9401",
   "metadata": {},
   "source": [
    "##### Exp1:"
   ]
  },
  {
   "cell_type": "code",
   "execution_count": 1,
   "id": "893602b7",
   "metadata": {},
   "outputs": [],
   "source": [
    "VER = 1.25\n",
    "PI = 3.14"
   ]
  },
  {
   "cell_type": "markdown",
   "id": "dc267de3",
   "metadata": {},
   "source": [
    "#### Altough that we are declearing our variables as constances, any indevidual is still able to change them! and using all-caps syntax does not stop them from changing the value."
   ]
  },
  {
   "cell_type": "code",
   "execution_count": 2,
   "id": "41b0e1bc",
   "metadata": {},
   "outputs": [
    {
     "name": "stdout",
     "output_type": "stream",
     "text": [
      "2.25\n"
     ]
    }
   ],
   "source": [
    "VER +=1\n",
    "print(VER)"
   ]
  },
  {
   "cell_type": "markdown",
   "id": "b4ef5d20",
   "metadata": {},
   "source": [
    "##### Exp2:"
   ]
  },
  {
   "cell_type": "code",
   "execution_count": 1,
   "id": "83a7ce36",
   "metadata": {},
   "outputs": [
    {
     "name": "stdout",
     "output_type": "stream",
     "text": [
      "3.14\n"
     ]
    }
   ],
   "source": [
    "def PI():\n",
    "    return 3.14\n",
    "\n",
    "PI = PI()\n",
    "print(PI)"
   ]
  },
  {
   "cell_type": "markdown",
   "id": "c761fb3e",
   "metadata": {},
   "source": [
    "#### This solution also has the same problem as the previous solution."
   ]
  },
  {
   "cell_type": "code",
   "execution_count": 2,
   "id": "43e9e97c",
   "metadata": {},
   "outputs": [
    {
     "name": "stdout",
     "output_type": "stream",
     "text": [
      "3.64\n"
     ]
    }
   ],
   "source": [
    "PI +=0.5\n",
    "print(PI)"
   ]
  },
  {
   "cell_type": "markdown",
   "id": "94b19ac3",
   "metadata": {},
   "source": [
    "##### Exp3:"
   ]
  },
  {
   "cell_type": "code",
   "execution_count": 1,
   "id": "3dd41282",
   "metadata": {},
   "outputs": [],
   "source": [
    "class CONST(object):\n",
    "    __slots__ = ()\n",
    "    PI = 1234\n",
    "    \n",
    "Constance = CONST()"
   ]
  },
  {
   "cell_type": "code",
   "execution_count": 2,
   "id": "ed014407",
   "metadata": {},
   "outputs": [
    {
     "name": "stdout",
     "output_type": "stream",
     "text": [
      "1234\n"
     ]
    }
   ],
   "source": [
    "print(Constance.PI)"
   ]
  },
  {
   "cell_type": "code",
   "execution_count": 3,
   "id": "c5b81cc7",
   "metadata": {},
   "outputs": [
    {
     "ename": "AttributeError",
     "evalue": "'CONST' object attribute 'PI' is read-only",
     "output_type": "error",
     "traceback": [
      "\u001b[1;31m---------------------------------------------------------------------------\u001b[0m",
      "\u001b[1;31mAttributeError\u001b[0m                            Traceback (most recent call last)",
      "Input \u001b[1;32mIn [3]\u001b[0m, in \u001b[0;36m<cell line: 1>\u001b[1;34m()\u001b[0m\n\u001b[1;32m----> 1\u001b[0m Constance\u001b[38;5;241m.\u001b[39mPI \u001b[38;5;241m=\u001b[39m \u001b[38;5;241m5\u001b[39m\n",
      "\u001b[1;31mAttributeError\u001b[0m: 'CONST' object attribute 'PI' is read-only"
     ]
    }
   ],
   "source": [
    "Constance.PI = 5"
   ]
  }
 ],
 "metadata": {
  "kernelspec": {
   "display_name": "Python 3",
   "language": "python",
   "name": "python3"
  },
  "language_info": {
   "codemirror_mode": {
    "name": "ipython",
    "version": 3
   },
   "file_extension": ".py",
   "mimetype": "text/x-python",
   "name": "python",
   "nbconvert_exporter": "python",
   "pygments_lexer": "ipython3",
   "version": "3.7.6"
  }
 },
 "nbformat": 4,
 "nbformat_minor": 5
}
