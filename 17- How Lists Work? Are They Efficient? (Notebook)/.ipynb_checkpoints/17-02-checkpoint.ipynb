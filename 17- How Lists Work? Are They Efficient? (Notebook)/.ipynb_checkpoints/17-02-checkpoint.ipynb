{
 "cells": [
  {
   "cell_type": "markdown",
   "id": "literary-brazilian",
   "metadata": {},
   "source": [
    "## Time Complexity\n",
    "\n",
    "The time complexity of appending a new item into a list is NOT O(1)!! why? red the following!\n",
    "\n",
    "It's amortized O(1), not O(1).\n",
    "\n",
    "Let's say the list reserved size is 8 elements and it doubles in size when space runs out. You want to push 50 elements.\n",
    "\n",
    "The first 8 elements push in O(1). The nineth triggers reallocation and 8 copies, followed by an O(1) push. The next 7 push in O(1). The seventeenth triggers reallocation and 16 copies, followed by an O(1) push. The next 15 push in O(1). The thirty-third triggers reallocation and 32 copies, followed by an O(1) push. The next 17 push in O(1).\n",
    "\n",
    "So all of the pushes have O(1) complexity, we had 56 copies at O(1), and 3 reallocations at O(n), with n = 8, 16, and 32. Note that this is a geometric series and asymptotically equals O(n) with n = the final size of the list. That means the whole operation of pushing n objects onto the list is O(n). If we amortize that per element, it's O(n)/n = O(1).\n"
   ]
  }
 ],
 "metadata": {
  "kernelspec": {
   "display_name": "Python 3",
   "language": "python",
   "name": "python3"
  },
  "language_info": {
   "codemirror_mode": {
    "name": "ipython",
    "version": 3
   },
   "file_extension": ".py",
   "mimetype": "text/x-python",
   "name": "python",
   "nbconvert_exporter": "python",
   "pygments_lexer": "ipython3",
   "version": "3.7.6"
  }
 },
 "nbformat": 4,
 "nbformat_minor": 5
}
