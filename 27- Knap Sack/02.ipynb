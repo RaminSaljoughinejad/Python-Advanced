{
 "cells": [
  {
   "cell_type": "markdown",
   "id": "8f263e30",
   "metadata": {},
   "source": [
    "### Importing Dependencies"
   ]
  },
  {
   "cell_type": "code",
   "execution_count": 1,
   "id": "58aea689",
   "metadata": {},
   "outputs": [],
   "source": [
    "from random import randint as rnd\n",
    "import copy"
   ]
  },
  {
   "cell_type": "markdown",
   "id": "ac3971cf",
   "metadata": {},
   "source": [
    "### Setting The Problem Parameters"
   ]
  },
  {
   "cell_type": "code",
   "execution_count": 2,
   "id": "e464dc8b",
   "metadata": {},
   "outputs": [],
   "source": [
    "N = 7 #Number of items\n",
    "MAX_WEIGHT = 15 #maximume weight of the bag\n",
    "objects = [(10,2),(5,3),(15,5),(7,7),(6,1),(18,4),(3,1)]\n",
    "#objects = None"
   ]
  },
  {
   "cell_type": "markdown",
   "id": "ebb0fa63",
   "metadata": {},
   "source": [
    "### Item Class"
   ]
  },
  {
   "cell_type": "code",
   "execution_count": 3,
   "id": "7a7c4e10",
   "metadata": {},
   "outputs": [],
   "source": [
    "class Item:\n",
    "    def __init__(self, profit, weight):\n",
    "        self.profit = profit\n",
    "        self.weight = weight\n",
    "        self.profit_by_weight = profit/weight\n",
    "        self.portion = 0.0"
   ]
  },
  {
   "cell_type": "markdown",
   "id": "dcd7f515",
   "metadata": {},
   "source": [
    "### Getting The Items Properties"
   ]
  },
  {
   "cell_type": "code",
   "execution_count": 4,
   "id": "32062665",
   "metadata": {},
   "outputs": [],
   "source": [
    "def get_input(n, input_items = None, verbose=0):\n",
    "    items = []\n",
    "    if items==None:\n",
    "        for i in range(n):\n",
    "            print(f\"Item #{i+1}\")\n",
    "            item_profit = int(input(\"What is the profit of this item? \"))\n",
    "            item_weigth = int(input(\"What is the weigth of this item? \"))\n",
    "            items.append(Item(item_profit, item_weigth))\n",
    "        print(\"###########################################################\")\n",
    "    else:\n",
    "        for item in input_items:\n",
    "            items.append(Item(item[0], item[1]))\n",
    "    if verbose:\n",
    "        for item in items:\n",
    "            print(f\"Item #{items.index(item)+1}: weight:{item.weight}  profit:{item.profit}\")\n",
    "    return items"
   ]
  },
  {
   "cell_type": "markdown",
   "id": "cec48718",
   "metadata": {},
   "source": [
    "### Highest Profit by Weight Finder Function"
   ]
  },
  {
   "cell_type": "code",
   "execution_count": 5,
   "id": "6df2bd57",
   "metadata": {},
   "outputs": [],
   "source": [
    "def highest_p_w_item(list_of_items):\n",
    "    best_item = None\n",
    "    for i in list_of_items:\n",
    "        if best_item:\n",
    "            if i.profit_by_weight>best_item.profit_by_weight and i.portion<1:\n",
    "                best_item = i\n",
    "        else:\n",
    "            if i.portion<1:\n",
    "                best_item = i\n",
    "    return best_item"
   ]
  },
  {
   "cell_type": "markdown",
   "id": "740a572e",
   "metadata": {},
   "source": [
    "###  Main"
   ]
  },
  {
   "cell_type": "code",
   "execution_count": 12,
   "id": "8208d06a",
   "metadata": {},
   "outputs": [
    {
     "name": "stdout",
     "output_type": "stream",
     "text": [
      "Max Weight is 15\n",
      "@@@@@@@@@@@@@@@@@@@@@@@@@@@@@@@@@@@@@@@@@@@@@@@@@@@@@@@\n",
      "Total Profit: 55.333333333333336\n",
      "  1  ||  2  ||  4  ||  5  ||  1  ||  3  ||\n",
      "  6  ||  10  ||  18  ||  15  ||  3  ||  5  ||\n"
     ]
    }
   ],
   "source": [
    "if __name__ == \"__main__\":\n",
    "    print(f\"Max Weight is {MAX_WEIGHT}\")\n",
    "    print(\"@@@@@@@@@@@@@@@@@@@@@@@@@@@@@@@@@@@@@@@@@@@@@@@@@@@@@@@\")\n",
    "    items  = get_input(N, input_items=objects, verbose=0)\n",
    "    bag = []\n",
    "    free_space = MAX_WEIGHT\n",
    "    while free_space>0:\n",
    "        best_case = highest_p_w_item(items)\n",
    "        if best_case:\n",
    "            if best_case.weight<=free_space:\n",
    "                best_case.portion = 1\n",
    "                bag.append(best_case)\n",
    "                free_space-=best_case.weight\n",
    "            else:\n",
    "                best_case.portion = ((free_space*100)/best_case.weight)/100\n",
    "                bag.append(best_case)\n",
    "                free_space=0\n",
    "        else:\n",
    "            break\n",
    "    total_profit = 0\n",
    "    weights = \"\"\n",
    "    profits = \"\"\n",
    "    for i in bag:\n",
    "        total_profit+= i.portion * i.profit\n",
    "        weights += f\"  {i.weight}  ||\"\n",
    "        profits += f\"  {i.profit}  ||\"\n",
    "    print(\"Total Profit:\", total_profit)\n",
    "    print(weights)\n",
    "    print(profits)"
   ]
  },
  {
   "cell_type": "code",
   "execution_count": null,
   "id": "5594d803",
   "metadata": {},
   "outputs": [],
   "source": []
  }
 ],
 "metadata": {
  "kernelspec": {
   "display_name": "Python 3",
   "language": "python",
   "name": "python3"
  },
  "language_info": {
   "codemirror_mode": {
    "name": "ipython",
    "version": 3
   },
   "file_extension": ".py",
   "mimetype": "text/x-python",
   "name": "python",
   "nbconvert_exporter": "python",
   "pygments_lexer": "ipython3",
   "version": "3.7.6"
  }
 },
 "nbformat": 4,
 "nbformat_minor": 5
}
