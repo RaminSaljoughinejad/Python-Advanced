{
 "cells": [
  {
   "cell_type": "markdown",
   "id": "1c81fc0c",
   "metadata": {},
   "source": [
    "### Importing Dependencies"
   ]
  },
  {
   "cell_type": "code",
   "execution_count": 1,
   "id": "4fcb8504",
   "metadata": {},
   "outputs": [],
   "source": [
    "from random import randint as rnd\n",
    "import copy"
   ]
  },
  {
   "cell_type": "markdown",
   "id": "816ddb25",
   "metadata": {},
   "source": [
    "### Setting The Problem Parameters"
   ]
  },
  {
   "cell_type": "code",
   "execution_count": 2,
   "id": "bbcd84ec",
   "metadata": {},
   "outputs": [],
   "source": [
    "N = 7 #Number of items\n",
    "MAX_WIGTH = 15 #maximume weight of the bag\n",
    "objects = [(10,2),(5,3),(15,5),(7,7),(6,1),(18,4),(3,1)]\n",
    "#objects = None\n",
    "epoch = 100"
   ]
  },
  {
   "cell_type": "markdown",
   "id": "cb2b9059",
   "metadata": {},
   "source": [
    "###  Items Class"
   ]
  },
  {
   "cell_type": "code",
   "execution_count": 3,
   "id": "ca07f889",
   "metadata": {},
   "outputs": [],
   "source": [
    "class Item:\n",
    "    def __init__(self, profit, weight):\n",
    "        self.profit = profit\n",
    "        self.weight = weight"
   ]
  },
  {
   "cell_type": "markdown",
   "id": "8d355661",
   "metadata": {},
   "source": [
    "### Getting The Items Properties"
   ]
  },
  {
   "cell_type": "code",
   "execution_count": 4,
   "id": "9d1817cd",
   "metadata": {},
   "outputs": [],
   "source": [
    "def get_input(n, input_items = None, verbose=0):\n",
    "    items = []\n",
    "    if items==None:\n",
    "        for i in range(n):\n",
    "            print(f\"Item #{i+1}\")\n",
    "            item_profit = int(input(\"What is the profit of this item? \"))\n",
    "            item_weigth = int(input(\"What is the weigth of this item? \"))\n",
    "            items.append(Item(item_profit, item_weigth))\n",
    "        print(\"###########################################################\")\n",
    "    else:\n",
    "        for item in input_items:\n",
    "            items.append(Item(item[0], item[1]))\n",
    "    if verbose:\n",
    "        for item in items:\n",
    "            print(f\"Item #{items.index(item)+1}: weight:{item.weight}  profit:{item.profit}\")\n",
    "    return items"
   ]
  },
  {
   "cell_type": "markdown",
   "id": "f388d6ae",
   "metadata": {},
   "source": [
    "### Fitness Function"
   ]
  },
  {
   "cell_type": "code",
   "execution_count": 5,
   "id": "675c9b72",
   "metadata": {},
   "outputs": [],
   "source": [
    "def fitness(bag):\n",
    "    val = 0\n",
    "    for item in bag:\n",
    "        val+=item.profit\n",
    "    return val"
   ]
  },
  {
   "cell_type": "markdown",
   "id": "b87279f2",
   "metadata": {},
   "source": [
    "### Random Picker Function"
   ]
  },
  {
   "cell_type": "code",
   "execution_count": 6,
   "id": "300f127b",
   "metadata": {},
   "outputs": [],
   "source": [
    "def random_picker(items, max_weight):\n",
    "    offset = max_weight\n",
    "    bag = []\n",
    "    items = [item for item in items if item.weight<=offset]\n",
    "    while any(map(lambda x:True if x.weight<offset else False, items)):\n",
    "        length = len(items)-1\n",
    "        random_item = rnd(0,length)\n",
    "        offset -= items[random_item].weight\n",
    "        bag.append(items[random_item])\n",
    "        items.remove(items[random_item])\n",
    "        items = [item for item in items if item.weight<=offset]\n",
    "    return bag"
   ]
  },
  {
   "cell_type": "markdown",
   "id": "71fc5e7f",
   "metadata": {},
   "source": [
    "### Main"
   ]
  },
  {
   "cell_type": "code",
   "execution_count": 7,
   "id": "4c16de25",
   "metadata": {},
   "outputs": [
    {
     "name": "stdout",
     "output_type": "stream",
     "text": [
      "Max Weight is 15\n",
      "@@@@@@@@@@@@@@@@@@@@@@@@@@@@@@@@@@@@@@@@@@@@@@@@@@@@@@@\n",
      "Best Profit So Far:  39\n",
      "Best Profit Weight:  12\n",
      "Best Profit Bag: \n",
      "Item #1: weight:1  profit:6\n",
      "Item #2: weight:5  profit:15\n",
      "Item #3: weight:2  profit:10\n",
      "Item #4: weight:1  profit:3\n",
      "Item #5: weight:3  profit:5\n",
      "########################################################\n",
      "Best Profit So Far:  48\n",
      "Best Profit Weight:  14\n",
      "Best Profit Bag: \n",
      "Item #1: weight:3  profit:5\n",
      "Item #2: weight:2  profit:10\n",
      "Item #3: weight:4  profit:18\n",
      "Item #4: weight:5  profit:15\n",
      "########################################################\n",
      "Best Profit So Far:  51\n",
      "Best Profit Weight:  15\n",
      "Best Profit Bag: \n",
      "Item #1: weight:4  profit:18\n",
      "Item #2: weight:2  profit:10\n",
      "Item #3: weight:5  profit:15\n",
      "Item #4: weight:1  profit:3\n",
      "Item #5: weight:3  profit:5\n",
      "########################################################\n",
      "Best Profit So Far:  52\n",
      "Best Profit Weight:  13\n",
      "Best Profit Bag: \n",
      "Item #1: weight:1  profit:6\n",
      "Item #2: weight:4  profit:18\n",
      "Item #3: weight:5  profit:15\n",
      "Item #4: weight:1  profit:3\n",
      "Item #5: weight:2  profit:10\n",
      "########################################################\n",
      "Best Profit So Far:  54\n",
      "Best Profit Weight:  15\n",
      "Best Profit Bag: \n",
      "Item #1: weight:1  profit:6\n",
      "Item #2: weight:4  profit:18\n",
      "Item #3: weight:2  profit:10\n",
      "Item #4: weight:5  profit:15\n",
      "Item #5: weight:3  profit:5\n",
      "########################################################\n"
     ]
    }
   ],
   "source": [
    "if __name__ == \"__main__\":\n",
    "    print(f\"Max Weight is {MAX_WIGTH}\")\n",
    "    print(\"@@@@@@@@@@@@@@@@@@@@@@@@@@@@@@@@@@@@@@@@@@@@@@@@@@@@@@@\")\n",
    "    items  = get_input(N, input_items=objects, verbose=0)\n",
    "    best_bag = []\n",
    "    best_profit = 0\n",
    "    while epoch:\n",
    "        new_bag = random_picker(items, MAX_WIGTH)\n",
    "        profit = fitness(new_bag)\n",
    "        if best_profit<profit:\n",
    "            best_profit = profit\n",
    "            best_bag = copy.deepcopy(new_bag)\n",
    "            print(\"Best Profit So Far: \", best_profit)\n",
    "            print(\"Best Profit Weight: \", sum(map(lambda x:x.weight, best_bag)))\n",
    "            print(\"Best Profit Bag: \")\n",
    "            for item in best_bag:\n",
    "                print(f\"Item #{best_bag.index(item)+1}: weight:{item.weight}  profit:{item.profit}\")\n",
    "            print(\"########################################################\")\n",
    "        epoch-=1"
   ]
  }
 ],
 "metadata": {
  "kernelspec": {
   "display_name": "Python 3",
   "language": "python",
   "name": "python3"
  },
  "language_info": {
   "codemirror_mode": {
    "name": "ipython",
    "version": 3
   },
   "file_extension": ".py",
   "mimetype": "text/x-python",
   "name": "python",
   "nbconvert_exporter": "python",
   "pygments_lexer": "ipython3",
   "version": "3.7.6"
  }
 },
 "nbformat": 4,
 "nbformat_minor": 5
}
