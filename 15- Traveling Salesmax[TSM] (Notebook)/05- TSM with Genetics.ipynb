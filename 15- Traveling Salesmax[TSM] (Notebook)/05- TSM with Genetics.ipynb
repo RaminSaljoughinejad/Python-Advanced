{
 "cells": [
  {
   "cell_type": "markdown",
   "id": "5c68a871",
   "metadata": {},
   "source": [
    "### Importing Dependencies"
   ]
  },
  {
   "cell_type": "code",
   "execution_count": 1,
   "id": "71f256fd",
   "metadata": {},
   "outputs": [],
   "source": [
    "import numpy as np\n",
    "import matplotlib.pyplot as plt\n",
    "import cv2\n",
    "from random import randint as rnd\n",
    "from random import shuffle"
   ]
  },
  {
   "cell_type": "markdown",
   "id": "679e8371",
   "metadata": {},
   "source": [
    "### Setting Parameters"
   ]
  },
  {
   "cell_type": "code",
   "execution_count": 2,
   "id": "c71ab2eb",
   "metadata": {},
   "outputs": [],
   "source": [
    "n_cities = 4\n",
    "width = 500\n",
    "height = 500\n",
    "mutation_rate = 0.8\n",
    "population_size = 1000\n",
    "epoch = 200"
   ]
  },
  {
   "cell_type": "markdown",
   "id": "bd91721c",
   "metadata": {},
   "source": [
    "### Random Cities Locations Function"
   ]
  },
  {
   "cell_type": "code",
   "execution_count": 3,
   "id": "50d7ae33",
   "metadata": {},
   "outputs": [],
   "source": [
    "def random_city_creator(n, w, h):\n",
    "    offset = 20\n",
    "    cities = []\n",
    "    for i in range(n):\n",
    "        x_rnd = rnd(offset, w-offset)\n",
    "        y_rnd = rnd(offset, h-offset)\n",
    "        cities.append([x_rnd,y_rnd])\n",
    "    return cities"
   ]
  },
  {
   "cell_type": "markdown",
   "id": "4443c2c0",
   "metadata": {},
   "source": [
    "### Initial Population Function"
   ]
  },
  {
   "cell_type": "code",
   "execution_count": 4,
   "id": "503aad23",
   "metadata": {},
   "outputs": [],
   "source": [
    "def init_population(n, p):\n",
    "    population_list = []\n",
    "    for i in range(p):\n",
    "        path = [i for i in range(n)]\n",
    "        shuffle(path)\n",
    "        path += [None]\n",
    "        population_list.append(path)\n",
    "    return population_list"
   ]
  },
  {
   "cell_type": "markdown",
   "id": "77912ca4",
   "metadata": {},
   "source": [
    "### Cross Over Function"
   ]
  },
  {
   "cell_type": "code",
   "execution_count": 5,
   "id": "0effaa77",
   "metadata": {},
   "outputs": [],
   "source": [
    "def cross_over(population_list, n, p):\n",
    "    for i in range(p):\n",
    "        path = population_list[i][:n]\n",
    "        population_list.append(path+[None])\n",
    "    return population_list"
   ]
  },
  {
   "cell_type": "markdown",
   "id": "dde9aae9",
   "metadata": {},
   "source": [
    "### Mutation Function"
   ]
  },
  {
   "cell_type": "code",
   "execution_count": 6,
   "id": "a8cfd6fd",
   "metadata": {},
   "outputs": [],
   "source": [
    "def mutation(population_list, n, p, rate):\n",
    "    length = len(population_list)\n",
    "    candidates = [i for i in range(p, length)]\n",
    "    shuffle(candidates)\n",
    "    candidates = candidates[:int(len(candidates) * rate)]\n",
    "    for candidate_num in candidates:\n",
    "        cell_1 = rnd(0,n-1)\n",
    "        cell_2 = rnd(0,n-1)\n",
    "        population_list[candidate_num][cell_1], population_list[candidate_num][cell_2] = population_list[candidate_num][cell_2], population_list[candidate_num][cell_1]\n",
    "    return population_list"
   ]
  },
  {
   "cell_type": "markdown",
   "id": "3e1012df",
   "metadata": {},
   "source": [
    "### Fitness Function"
   ]
  },
  {
   "cell_type": "code",
   "execution_count": 7,
   "id": "2439567d",
   "metadata": {},
   "outputs": [],
   "source": [
    "def euclidean_distance(path, cities_locations):\n",
    "    distance = 0\n",
    "    for i in range(len(path)-1):\n",
    "        city1 = cities_locations[path[i]]\n",
    "        city2 = cities_locations[path[i+1]]\n",
    "        val = np.sqrt((city1[0]-city2[0])**2 + (city1[1]-city2[1])**2)\n",
    "        distance += val\n",
    "    return distance\n",
    "def fitness(population_list, n):\n",
    "    length = len(population_list)\n",
    "    for i in range(length):\n",
    "        if population_list[i][n] == None:\n",
    "            population_list[i][n] = euclidean_distance(population_list[i][:n], cities)\n",
    "    return population_list"
   ]
  },
  {
   "cell_type": "markdown",
   "id": "7e5ff4ef",
   "metadata": {},
   "source": [
    "### Sorter Function"
   ]
  },
  {
   "cell_type": "code",
   "execution_count": 8,
   "id": "d9167ffc",
   "metadata": {},
   "outputs": [],
   "source": [
    "def sorter(population_list, n):\n",
    "    population_list.sort(key = lambda x: x[n])\n",
    "    return population_list"
   ]
  },
  {
   "cell_type": "markdown",
   "id": "b6ed1dac",
   "metadata": {},
   "source": [
    "### Draw Path Function"
   ]
  },
  {
   "cell_type": "code",
   "execution_count": 9,
   "id": "4d51172b",
   "metadata": {},
   "outputs": [],
   "source": [
    "def draw_cities(img, cities_locations, color=(26, 32, 40)):\n",
    "    for x,y in cities_locations:\n",
    "        img = cv2.circle(img, (x,y), 6, color, -1)\n",
    "    return img\n",
    "def draw_path_lines(img, path, cities_locations, color=(11, 152, 200)):\n",
    "    cords = []\n",
    "    for i in path:\n",
    "        cords.append(cities_locations[i])\n",
    "    for i in range(len(cords)-1):\n",
    "        img = cv2.line(img, cords[i], cords[i+1], color, 2)\n",
    "    return img\n",
    "def draw_path(path, cities_locations, w, h):\n",
    "    img = np.full((w, h, 3), 255, np.int16)\n",
    "    img = draw_cities(img, cities_locations)\n",
    "    img = draw_path_lines(img, path, cities_locations)\n",
    "    return img"
   ]
  },
  {
   "cell_type": "markdown",
   "id": "8c02422d",
   "metadata": {},
   "source": [
    "### Main"
   ]
  },
  {
   "cell_type": "code",
   "execution_count": 11,
   "id": "fbef1069",
   "metadata": {},
   "outputs": [
    {
     "name": "stdout",
     "output_type": "stream",
     "text": [
      "Best Path:[6, 9, 1, 0, 14, 5, 12, 10, 3, 8, 7, 11, 4, 2, 13] --> Distance:1312.7710905585395\n"
     ]
    },
    {
     "data": {
      "image/png": "[encoded data removed]",
      "text/plain": [
       "<Figure size 432x288 with 1 Axes>"
      ]
     },
     "metadata": {
      "needs_background": "light"
     },
     "output_type": "display_data"
    }
   ],
   "source": [
    "cities = random_city_creator( n_cities, width, height)\n",
    "current_population = init_population(n_cities, population_size)\n",
    "for epoch_num in range(1,epoch):\n",
    "    current_population = cross_over(current_population, n_cities, population_size)\n",
    "    current_population = mutation(current_population, n_cities, population_size, mutation_rate)\n",
    "    current_population = fitness(current_population, n_cities)\n",
    "    current_population = sorter(current_population, n_cities)\n",
    "    current_population = current_population[:population_size]\n",
    "    #print(f\"{epoch_num}# -- Best Path Distance: {current_population[0][n_cities]}\")\n",
    "else:\n",
    "    print(f\"Best Path:{current_population[0][:n_cities]} --> Distance:{current_population[0][n_cities]}\")\n",
    "    img = draw_path(current_population[0][:n_cities], cities, width, height)\n",
    "    plt.imshow(img)\n",
    "    plt.title(f\"Best Distance {current_population[0][n_cities]}\")\n",
    "    plt.xlabel(f\"Number of Cities: {n_cities}\")\n",
    "    plt.grid()\n",
    "    plt.show()"
   ]
  },
  {
   "cell_type": "code",
   "execution_count": null,
   "id": "b885133c",
   "metadata": {},
   "outputs": [],
   "source": []
  }
 ],
 "metadata": {
  "kernelspec": {
   "display_name": "Python 3 (ipykernel)",
   "language": "python",
   "name": "python3"
  },
  "language_info": {
   "codemirror_mode": {
    "name": "ipython",
    "version": 3
   },
   "file_extension": ".py",
   "mimetype": "text/x-python",
   "name": "python",
   "nbconvert_exporter": "python",
   "pygments_lexer": "ipython3",
   "version": "3.9.12"
  }
 },
 "nbformat": 4,
 "nbformat_minor": 5
}
